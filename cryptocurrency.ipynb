{
 "metadata": {
  "language_info": {
   "codemirror_mode": {
    "name": "ipython",
    "version": 3
   },
   "file_extension": ".py",
   "mimetype": "text/x-python",
   "name": "python",
   "nbconvert_exporter": "python",
   "pygments_lexer": "ipython3",
   "version": "3.8.3-final"
  },
  "orig_nbformat": 2,
  "kernelspec": {
   "name": "Python 3.8.3 64-bit ('PythonData': conda)",
   "display_name": "Python 3.8.3 64-bit ('PythonData': conda)",
   "metadata": {
    "interpreter": {
     "hash": "7d15f797a268c72d9aec56a6796f386f7db815c2cc96801ba98490863743f4a9"
    }
   }
  }
 },
 "nbformat": 4,
 "nbformat_minor": 2,
 "cells": [
  {
   "cell_type": "code",
   "execution_count": 34,
   "metadata": {},
   "outputs": [],
   "source": [
    "import pandas as pd\n",
    "from sklearn.preprocessing import StandardScaler\n",
    "from sklearn.decomposition import PCA\n",
    "from sklearn.cluster import KMeans\n",
    "import hvplot.pandas\n",
    "import plotly.express as px"
   ]
  },
  {
   "cell_type": "code",
   "execution_count": 2,
   "metadata": {},
   "outputs": [
    {
     "output_type": "execute_result",
     "data": {
      "text/plain": "      CoinName Algorithm  IsTrading ProofType  TotalCoinsMined TotalCoinSupply\n42     42 Coin    Scrypt       True   PoW/PoS     4.199995e+01              42\n365    365Coin       X11       True   PoW/PoS              NaN      2300000000\n404    404Coin    Scrypt       True   PoW/PoS     1.055185e+09       532000000\n611  SixEleven   SHA-256       True       PoW              NaN          611000\n808        808   SHA-256       True   PoW/PoS     0.000000e+00               0",
      "text/html": "<div>\n<style scoped>\n    .dataframe tbody tr th:only-of-type {\n        vertical-align: middle;\n    }\n\n    .dataframe tbody tr th {\n        vertical-align: top;\n    }\n\n    .dataframe thead th {\n        text-align: right;\n    }\n</style>\n<table border=\"1\" class=\"dataframe\">\n  <thead>\n    <tr style=\"text-align: right;\">\n      <th></th>\n      <th>CoinName</th>\n      <th>Algorithm</th>\n      <th>IsTrading</th>\n      <th>ProofType</th>\n      <th>TotalCoinsMined</th>\n      <th>TotalCoinSupply</th>\n    </tr>\n  </thead>\n  <tbody>\n    <tr>\n      <th>42</th>\n      <td>42 Coin</td>\n      <td>Scrypt</td>\n      <td>True</td>\n      <td>PoW/PoS</td>\n      <td>4.199995e+01</td>\n      <td>42</td>\n    </tr>\n    <tr>\n      <th>365</th>\n      <td>365Coin</td>\n      <td>X11</td>\n      <td>True</td>\n      <td>PoW/PoS</td>\n      <td>NaN</td>\n      <td>2300000000</td>\n    </tr>\n    <tr>\n      <th>404</th>\n      <td>404Coin</td>\n      <td>Scrypt</td>\n      <td>True</td>\n      <td>PoW/PoS</td>\n      <td>1.055185e+09</td>\n      <td>532000000</td>\n    </tr>\n    <tr>\n      <th>611</th>\n      <td>SixEleven</td>\n      <td>SHA-256</td>\n      <td>True</td>\n      <td>PoW</td>\n      <td>NaN</td>\n      <td>611000</td>\n    </tr>\n    <tr>\n      <th>808</th>\n      <td>808</td>\n      <td>SHA-256</td>\n      <td>True</td>\n      <td>PoW/PoS</td>\n      <td>0.000000e+00</td>\n      <td>0</td>\n    </tr>\n  </tbody>\n</table>\n</div>"
     },
     "metadata": {},
     "execution_count": 2
    }
   ],
   "source": [
    "# Load raw data file\n",
    "file_path = \"crypto_data.csv\"\n",
    "crypto_df = pd.read_csv(file_path, index_col=0)\n",
    "crypto_df.head()"
   ]
  },
  {
   "cell_type": "code",
   "execution_count": 3,
   "metadata": {},
   "outputs": [
    {
     "output_type": "execute_result",
     "data": {
      "text/plain": "CoinName            object\nAlgorithm           object\nIsTrading             bool\nProofType           object\nTotalCoinsMined    float64\nTotalCoinSupply     object\ndtype: object"
     },
     "metadata": {},
     "execution_count": 3
    }
   ],
   "source": [
    "crypto_df.dtypes"
   ]
  },
  {
   "cell_type": "code",
   "execution_count": 4,
   "metadata": {},
   "outputs": [
    {
     "output_type": "execute_result",
     "data": {
      "text/plain": "      CoinName Algorithm  IsTrading ProofType  TotalCoinsMined TotalCoinSupply\n42     42 Coin    Scrypt       True   PoW/PoS     4.199995e+01              42\n365    365Coin       X11       True   PoW/PoS              NaN      2300000000\n404    404Coin    Scrypt       True   PoW/PoS     1.055185e+09       532000000\n611  SixEleven   SHA-256       True       PoW              NaN          611000\n808        808   SHA-256       True   PoW/PoS     0.000000e+00               0",
      "text/html": "<div>\n<style scoped>\n    .dataframe tbody tr th:only-of-type {\n        vertical-align: middle;\n    }\n\n    .dataframe tbody tr th {\n        vertical-align: top;\n    }\n\n    .dataframe thead th {\n        text-align: right;\n    }\n</style>\n<table border=\"1\" class=\"dataframe\">\n  <thead>\n    <tr style=\"text-align: right;\">\n      <th></th>\n      <th>CoinName</th>\n      <th>Algorithm</th>\n      <th>IsTrading</th>\n      <th>ProofType</th>\n      <th>TotalCoinsMined</th>\n      <th>TotalCoinSupply</th>\n    </tr>\n  </thead>\n  <tbody>\n    <tr>\n      <th>42</th>\n      <td>42 Coin</td>\n      <td>Scrypt</td>\n      <td>True</td>\n      <td>PoW/PoS</td>\n      <td>4.199995e+01</td>\n      <td>42</td>\n    </tr>\n    <tr>\n      <th>365</th>\n      <td>365Coin</td>\n      <td>X11</td>\n      <td>True</td>\n      <td>PoW/PoS</td>\n      <td>NaN</td>\n      <td>2300000000</td>\n    </tr>\n    <tr>\n      <th>404</th>\n      <td>404Coin</td>\n      <td>Scrypt</td>\n      <td>True</td>\n      <td>PoW/PoS</td>\n      <td>1.055185e+09</td>\n      <td>532000000</td>\n    </tr>\n    <tr>\n      <th>611</th>\n      <td>SixEleven</td>\n      <td>SHA-256</td>\n      <td>True</td>\n      <td>PoW</td>\n      <td>NaN</td>\n      <td>611000</td>\n    </tr>\n    <tr>\n      <th>808</th>\n      <td>808</td>\n      <td>SHA-256</td>\n      <td>True</td>\n      <td>PoW/PoS</td>\n      <td>0.000000e+00</td>\n      <td>0</td>\n    </tr>\n  </tbody>\n</table>\n</div>"
     },
     "metadata": {},
     "execution_count": 4
    }
   ],
   "source": [
    "# Remove non-trading crypto 'IsTrading'\n",
    "cryptoTrading = crypto_df[crypto_df.IsTrading]\n",
    "cryptoTrading.head()"
   ]
  },
  {
   "cell_type": "code",
   "execution_count": 5,
   "metadata": {},
   "outputs": [
    {
     "output_type": "execute_result",
     "data": {
      "text/plain": "      CoinName Algorithm ProofType  TotalCoinsMined TotalCoinSupply\n42     42 Coin    Scrypt   PoW/PoS     4.199995e+01              42\n365    365Coin       X11   PoW/PoS              NaN      2300000000\n404    404Coin    Scrypt   PoW/PoS     1.055185e+09       532000000\n611  SixEleven   SHA-256       PoW              NaN          611000\n808        808   SHA-256   PoW/PoS     0.000000e+00               0",
      "text/html": "<div>\n<style scoped>\n    .dataframe tbody tr th:only-of-type {\n        vertical-align: middle;\n    }\n\n    .dataframe tbody tr th {\n        vertical-align: top;\n    }\n\n    .dataframe thead th {\n        text-align: right;\n    }\n</style>\n<table border=\"1\" class=\"dataframe\">\n  <thead>\n    <tr style=\"text-align: right;\">\n      <th></th>\n      <th>CoinName</th>\n      <th>Algorithm</th>\n      <th>ProofType</th>\n      <th>TotalCoinsMined</th>\n      <th>TotalCoinSupply</th>\n    </tr>\n  </thead>\n  <tbody>\n    <tr>\n      <th>42</th>\n      <td>42 Coin</td>\n      <td>Scrypt</td>\n      <td>PoW/PoS</td>\n      <td>4.199995e+01</td>\n      <td>42</td>\n    </tr>\n    <tr>\n      <th>365</th>\n      <td>365Coin</td>\n      <td>X11</td>\n      <td>PoW/PoS</td>\n      <td>NaN</td>\n      <td>2300000000</td>\n    </tr>\n    <tr>\n      <th>404</th>\n      <td>404Coin</td>\n      <td>Scrypt</td>\n      <td>PoW/PoS</td>\n      <td>1.055185e+09</td>\n      <td>532000000</td>\n    </tr>\n    <tr>\n      <th>611</th>\n      <td>SixEleven</td>\n      <td>SHA-256</td>\n      <td>PoW</td>\n      <td>NaN</td>\n      <td>611000</td>\n    </tr>\n    <tr>\n      <th>808</th>\n      <td>808</td>\n      <td>SHA-256</td>\n      <td>PoW/PoS</td>\n      <td>0.000000e+00</td>\n      <td>0</td>\n    </tr>\n  </tbody>\n</table>\n</div>"
     },
     "metadata": {},
     "execution_count": 5
    }
   ],
   "source": [
    "# Drop IsTrading Column\n",
    "cryptoTrading.drop(columns=[\"IsTrading\"], inplace=True)\n",
    "cryptoTrading.head(5)"
   ]
  },
  {
   "cell_type": "code",
   "execution_count": 6,
   "metadata": {
    "tags": []
   },
   "outputs": [
    {
     "output_type": "stream",
     "name": "stdout",
     "text": "Column CoinName has 0 null values\nColumn Algorithm has 0 null values\nColumn ProofType has 0 null values\nColumn TotalCoinsMined has 459 null values\nColumn TotalCoinSupply has 0 null values\n"
    }
   ],
   "source": [
    "# Find null values\n",
    "for column in cryptoTrading.columns:\n",
    "    print(f\"Column {column} has {cryptoTrading[column].isnull().sum()} null values\")"
   ]
  },
  {
   "cell_type": "code",
   "execution_count": 7,
   "metadata": {},
   "outputs": [
    {
     "output_type": "execute_result",
     "data": {
      "text/plain": "      CoinName Algorithm ProofType  TotalCoinsMined TotalCoinSupply\n42     42 Coin    Scrypt   PoW/PoS     4.199995e+01              42\n365    365Coin       X11   PoW/PoS              NaN      2300000000\n404    404Coin    Scrypt   PoW/PoS     1.055185e+09       532000000\n611  SixEleven   SHA-256       PoW              NaN          611000\n808        808   SHA-256   PoW/PoS              NaN               0",
      "text/html": "<div>\n<style scoped>\n    .dataframe tbody tr th:only-of-type {\n        vertical-align: middle;\n    }\n\n    .dataframe tbody tr th {\n        vertical-align: top;\n    }\n\n    .dataframe thead th {\n        text-align: right;\n    }\n</style>\n<table border=\"1\" class=\"dataframe\">\n  <thead>\n    <tr style=\"text-align: right;\">\n      <th></th>\n      <th>CoinName</th>\n      <th>Algorithm</th>\n      <th>ProofType</th>\n      <th>TotalCoinsMined</th>\n      <th>TotalCoinSupply</th>\n    </tr>\n  </thead>\n  <tbody>\n    <tr>\n      <th>42</th>\n      <td>42 Coin</td>\n      <td>Scrypt</td>\n      <td>PoW/PoS</td>\n      <td>4.199995e+01</td>\n      <td>42</td>\n    </tr>\n    <tr>\n      <th>365</th>\n      <td>365Coin</td>\n      <td>X11</td>\n      <td>PoW/PoS</td>\n      <td>NaN</td>\n      <td>2300000000</td>\n    </tr>\n    <tr>\n      <th>404</th>\n      <td>404Coin</td>\n      <td>Scrypt</td>\n      <td>PoW/PoS</td>\n      <td>1.055185e+09</td>\n      <td>532000000</td>\n    </tr>\n    <tr>\n      <th>611</th>\n      <td>SixEleven</td>\n      <td>SHA-256</td>\n      <td>PoW</td>\n      <td>NaN</td>\n      <td>611000</td>\n    </tr>\n    <tr>\n      <th>808</th>\n      <td>808</td>\n      <td>SHA-256</td>\n      <td>PoW/PoS</td>\n      <td>NaN</td>\n      <td>0</td>\n    </tr>\n  </tbody>\n</table>\n</div>"
     },
     "metadata": {},
     "execution_count": 7
    }
   ],
   "source": [
    "# Replace Zero Mined as Null\n",
    "cryptoZero = cryptoTrading.replace(0, pd.np.nan)\n",
    "cryptoZero.head()"
   ]
  },
  {
   "cell_type": "code",
   "execution_count": 8,
   "metadata": {},
   "outputs": [
    {
     "output_type": "execute_result",
     "data": {
      "text/plain": "       CoinName Algorithm ProofType  TotalCoinsMined TotalCoinSupply\n42      42 Coin    Scrypt   PoW/PoS     4.199995e+01              42\n404     404Coin    Scrypt   PoW/PoS     1.055185e+09       532000000\n1337  EliteCoin       X13   PoW/PoS     2.927942e+10    314159265359\nBTC     Bitcoin   SHA-256       PoW     1.792718e+07        21000000\nETH    Ethereum    Ethash       PoW     1.076842e+08               0",
      "text/html": "<div>\n<style scoped>\n    .dataframe tbody tr th:only-of-type {\n        vertical-align: middle;\n    }\n\n    .dataframe tbody tr th {\n        vertical-align: top;\n    }\n\n    .dataframe thead th {\n        text-align: right;\n    }\n</style>\n<table border=\"1\" class=\"dataframe\">\n  <thead>\n    <tr style=\"text-align: right;\">\n      <th></th>\n      <th>CoinName</th>\n      <th>Algorithm</th>\n      <th>ProofType</th>\n      <th>TotalCoinsMined</th>\n      <th>TotalCoinSupply</th>\n    </tr>\n  </thead>\n  <tbody>\n    <tr>\n      <th>42</th>\n      <td>42 Coin</td>\n      <td>Scrypt</td>\n      <td>PoW/PoS</td>\n      <td>4.199995e+01</td>\n      <td>42</td>\n    </tr>\n    <tr>\n      <th>404</th>\n      <td>404Coin</td>\n      <td>Scrypt</td>\n      <td>PoW/PoS</td>\n      <td>1.055185e+09</td>\n      <td>532000000</td>\n    </tr>\n    <tr>\n      <th>1337</th>\n      <td>EliteCoin</td>\n      <td>X13</td>\n      <td>PoW/PoS</td>\n      <td>2.927942e+10</td>\n      <td>314159265359</td>\n    </tr>\n    <tr>\n      <th>BTC</th>\n      <td>Bitcoin</td>\n      <td>SHA-256</td>\n      <td>PoW</td>\n      <td>1.792718e+07</td>\n      <td>21000000</td>\n    </tr>\n    <tr>\n      <th>ETH</th>\n      <td>Ethereum</td>\n      <td>Ethash</td>\n      <td>PoW</td>\n      <td>1.076842e+08</td>\n      <td>0</td>\n    </tr>\n  </tbody>\n</table>\n</div>"
     },
     "metadata": {},
     "execution_count": 8
    }
   ],
   "source": [
    "# Drop null rows\n",
    "cryptoNull = cryptoZero.dropna()\n",
    "cryptoNull.head()"
   ]
  },
  {
   "cell_type": "code",
   "execution_count": 9,
   "metadata": {},
   "outputs": [
    {
     "output_type": "execute_result",
     "data": {
      "text/plain": "       CoinName\n42      42 Coin\n404     404Coin\n1337  EliteCoin\nBTC     Bitcoin\nETH    Ethereum",
      "text/html": "<div>\n<style scoped>\n    .dataframe tbody tr th:only-of-type {\n        vertical-align: middle;\n    }\n\n    .dataframe tbody tr th {\n        vertical-align: top;\n    }\n\n    .dataframe thead th {\n        text-align: right;\n    }\n</style>\n<table border=\"1\" class=\"dataframe\">\n  <thead>\n    <tr style=\"text-align: right;\">\n      <th></th>\n      <th>CoinName</th>\n    </tr>\n  </thead>\n  <tbody>\n    <tr>\n      <th>42</th>\n      <td>42 Coin</td>\n    </tr>\n    <tr>\n      <th>404</th>\n      <td>404Coin</td>\n    </tr>\n    <tr>\n      <th>1337</th>\n      <td>EliteCoin</td>\n    </tr>\n    <tr>\n      <th>BTC</th>\n      <td>Bitcoin</td>\n    </tr>\n    <tr>\n      <th>ETH</th>\n      <td>Ethereum</td>\n    </tr>\n  </tbody>\n</table>\n</div>"
     },
     "metadata": {},
     "execution_count": 9
    }
   ],
   "source": [
    "# Create CoinName DF with index\n",
    "coins_name = cryptoNull[['CoinName']].copy()\n",
    "coins_name.head()"
   ]
  },
  {
   "cell_type": "code",
   "execution_count": 10,
   "metadata": {},
   "outputs": [
    {
     "output_type": "execute_result",
     "data": {
      "text/plain": "     Algorithm ProofType  TotalCoinsMined TotalCoinSupply\n42      Scrypt   PoW/PoS     4.199995e+01              42\n404     Scrypt   PoW/PoS     1.055185e+09       532000000\n1337       X13   PoW/PoS     2.927942e+10    314159265359\nBTC    SHA-256       PoW     1.792718e+07        21000000\nETH     Ethash       PoW     1.076842e+08               0",
      "text/html": "<div>\n<style scoped>\n    .dataframe tbody tr th:only-of-type {\n        vertical-align: middle;\n    }\n\n    .dataframe tbody tr th {\n        vertical-align: top;\n    }\n\n    .dataframe thead th {\n        text-align: right;\n    }\n</style>\n<table border=\"1\" class=\"dataframe\">\n  <thead>\n    <tr style=\"text-align: right;\">\n      <th></th>\n      <th>Algorithm</th>\n      <th>ProofType</th>\n      <th>TotalCoinsMined</th>\n      <th>TotalCoinSupply</th>\n    </tr>\n  </thead>\n  <tbody>\n    <tr>\n      <th>42</th>\n      <td>Scrypt</td>\n      <td>PoW/PoS</td>\n      <td>4.199995e+01</td>\n      <td>42</td>\n    </tr>\n    <tr>\n      <th>404</th>\n      <td>Scrypt</td>\n      <td>PoW/PoS</td>\n      <td>1.055185e+09</td>\n      <td>532000000</td>\n    </tr>\n    <tr>\n      <th>1337</th>\n      <td>X13</td>\n      <td>PoW/PoS</td>\n      <td>2.927942e+10</td>\n      <td>314159265359</td>\n    </tr>\n    <tr>\n      <th>BTC</th>\n      <td>SHA-256</td>\n      <td>PoW</td>\n      <td>1.792718e+07</td>\n      <td>21000000</td>\n    </tr>\n    <tr>\n      <th>ETH</th>\n      <td>Ethash</td>\n      <td>PoW</td>\n      <td>1.076842e+08</td>\n      <td>0</td>\n    </tr>\n  </tbody>\n</table>\n</div>"
     },
     "metadata": {},
     "execution_count": 10
    }
   ],
   "source": [
    "# Drop CoinName Column\n",
    "cryptoNull.drop(columns=[\"CoinName\"], inplace=True)\n",
    "cryptoNull.head(5)"
   ]
  },
  {
   "cell_type": "code",
   "execution_count": 11,
   "metadata": {},
   "outputs": [
    {
     "output_type": "execute_result",
     "data": {
      "text/plain": "      TotalCoinsMined TotalCoinSupply  Algorithm_1GB AES Pattern Search  \\\n42       4.199995e+01              42                                 0   \n404      1.055185e+09       532000000                                 0   \n1337     2.927942e+10    314159265359                                 0   \nBTC      1.792718e+07        21000000                                 0   \nETH      1.076842e+08               0                                 0   \n\n      Algorithm_536  Algorithm_Argon2d  Algorithm_BLAKE256  Algorithm_Blake  \\\n42                0                  0                   0                0   \n404               0                  0                   0                0   \n1337              0                  0                   0                0   \nBTC               0                  0                   0                0   \nETH               0                  0                   0                0   \n\n      Algorithm_Blake2S  Algorithm_Blake2b  Algorithm_C11  ...  \\\n42                    0                  0              0  ...   \n404                   0                  0              0  ...   \n1337                  0                  0              0  ...   \nBTC                   0                  0              0  ...   \nETH                   0                  0              0  ...   \n\n      ProofType_PoW/PoS  ProofType_PoW/PoS   ProofType_PoW/PoW  \\\n42                    1                   0                  0   \n404                   1                   0                  0   \n1337                  1                   0                  0   \nBTC                   0                   0                  0   \nETH                   0                   0                  0   \n\n      ProofType_PoW/nPoS  ProofType_Pos  ProofType_Proof of Authority  \\\n42                     0              0                             0   \n404                    0              0                             0   \n1337                   0              0                             0   \nBTC                    0              0                             0   \nETH                    0              0                             0   \n\n      ProofType_Proof of Trust  ProofType_TPoS  \\\n42                           0               0   \n404                          0               0   \n1337                         0               0   \nBTC                          0               0   \nETH                          0               0   \n\n      ProofType_Zero-Knowledge Proof  ProofType_dPoW/PoW  \n42                                 0                   0  \n404                                0                   0  \n1337                               0                   0  \nBTC                                0                   0  \nETH                                0                   0  \n\n[5 rows x 100 columns]",
      "text/html": "<div>\n<style scoped>\n    .dataframe tbody tr th:only-of-type {\n        vertical-align: middle;\n    }\n\n    .dataframe tbody tr th {\n        vertical-align: top;\n    }\n\n    .dataframe thead th {\n        text-align: right;\n    }\n</style>\n<table border=\"1\" class=\"dataframe\">\n  <thead>\n    <tr style=\"text-align: right;\">\n      <th></th>\n      <th>TotalCoinsMined</th>\n      <th>TotalCoinSupply</th>\n      <th>Algorithm_1GB AES Pattern Search</th>\n      <th>Algorithm_536</th>\n      <th>Algorithm_Argon2d</th>\n      <th>Algorithm_BLAKE256</th>\n      <th>Algorithm_Blake</th>\n      <th>Algorithm_Blake2S</th>\n      <th>Algorithm_Blake2b</th>\n      <th>Algorithm_C11</th>\n      <th>...</th>\n      <th>ProofType_PoW/PoS</th>\n      <th>ProofType_PoW/PoS</th>\n      <th>ProofType_PoW/PoW</th>\n      <th>ProofType_PoW/nPoS</th>\n      <th>ProofType_Pos</th>\n      <th>ProofType_Proof of Authority</th>\n      <th>ProofType_Proof of Trust</th>\n      <th>ProofType_TPoS</th>\n      <th>ProofType_Zero-Knowledge Proof</th>\n      <th>ProofType_dPoW/PoW</th>\n    </tr>\n  </thead>\n  <tbody>\n    <tr>\n      <th>42</th>\n      <td>4.199995e+01</td>\n      <td>42</td>\n      <td>0</td>\n      <td>0</td>\n      <td>0</td>\n      <td>0</td>\n      <td>0</td>\n      <td>0</td>\n      <td>0</td>\n      <td>0</td>\n      <td>...</td>\n      <td>1</td>\n      <td>0</td>\n      <td>0</td>\n      <td>0</td>\n      <td>0</td>\n      <td>0</td>\n      <td>0</td>\n      <td>0</td>\n      <td>0</td>\n      <td>0</td>\n    </tr>\n    <tr>\n      <th>404</th>\n      <td>1.055185e+09</td>\n      <td>532000000</td>\n      <td>0</td>\n      <td>0</td>\n      <td>0</td>\n      <td>0</td>\n      <td>0</td>\n      <td>0</td>\n      <td>0</td>\n      <td>0</td>\n      <td>...</td>\n      <td>1</td>\n      <td>0</td>\n      <td>0</td>\n      <td>0</td>\n      <td>0</td>\n      <td>0</td>\n      <td>0</td>\n      <td>0</td>\n      <td>0</td>\n      <td>0</td>\n    </tr>\n    <tr>\n      <th>1337</th>\n      <td>2.927942e+10</td>\n      <td>314159265359</td>\n      <td>0</td>\n      <td>0</td>\n      <td>0</td>\n      <td>0</td>\n      <td>0</td>\n      <td>0</td>\n      <td>0</td>\n      <td>0</td>\n      <td>...</td>\n      <td>1</td>\n      <td>0</td>\n      <td>0</td>\n      <td>0</td>\n      <td>0</td>\n      <td>0</td>\n      <td>0</td>\n      <td>0</td>\n      <td>0</td>\n      <td>0</td>\n    </tr>\n    <tr>\n      <th>BTC</th>\n      <td>1.792718e+07</td>\n      <td>21000000</td>\n      <td>0</td>\n      <td>0</td>\n      <td>0</td>\n      <td>0</td>\n      <td>0</td>\n      <td>0</td>\n      <td>0</td>\n      <td>0</td>\n      <td>...</td>\n      <td>0</td>\n      <td>0</td>\n      <td>0</td>\n      <td>0</td>\n      <td>0</td>\n      <td>0</td>\n      <td>0</td>\n      <td>0</td>\n      <td>0</td>\n      <td>0</td>\n    </tr>\n    <tr>\n      <th>ETH</th>\n      <td>1.076842e+08</td>\n      <td>0</td>\n      <td>0</td>\n      <td>0</td>\n      <td>0</td>\n      <td>0</td>\n      <td>0</td>\n      <td>0</td>\n      <td>0</td>\n      <td>0</td>\n      <td>...</td>\n      <td>0</td>\n      <td>0</td>\n      <td>0</td>\n      <td>0</td>\n      <td>0</td>\n      <td>0</td>\n      <td>0</td>\n      <td>0</td>\n      <td>0</td>\n      <td>0</td>\n    </tr>\n  </tbody>\n</table>\n<p>5 rows × 100 columns</p>\n</div>"
     },
     "metadata": {},
     "execution_count": 11
    }
   ],
   "source": [
    "# create dummies variables\n",
    "X = pd.get_dummies(data=cryptoNull, columns=['Algorithm', 'ProofType'])\n",
    "X.head()"
   ]
  },
  {
   "cell_type": "code",
   "execution_count": 12,
   "metadata": {
    "tags": []
   },
   "outputs": [
    {
     "output_type": "stream",
     "name": "stdout",
     "text": "[[-0.11674788 -0.15286468 -0.0433555  -0.0433555  -0.0433555  -0.06137164\n  -0.07523548 -0.0433555  -0.06137164 -0.06137164 -0.0433555  -0.0433555\n  -0.19226279 -0.06137164 -0.09731237 -0.0433555  -0.11536024 -0.07523548\n  -0.0433555  -0.0433555  -0.15176505 -0.0433555  -0.13105561 -0.0433555\n  -0.0433555  -0.08695652 -0.0433555  -0.0433555  -0.0433555  -0.0433555\n  -0.06137164 -0.0433555  -0.08695652 -0.08695652 -0.08695652 -0.0433555\n  -0.13105561 -0.13827675 -0.13827675 -0.0433555  -0.06137164 -0.0433555\n  -0.07523548 -0.1815096  -0.0433555  -0.0433555  -0.0433555  -0.07523548\n  -0.15811388 -0.3145935  -0.0433555  -0.08695652 -0.07523548 -0.06137164\n  -0.0433555   1.38873015 -0.0433555  -0.0433555  -0.06137164 -0.0433555\n  -0.0433555  -0.0433555  -0.0433555  -0.0433555  -0.0433555  -0.0433555\n  -0.0433555  -0.39836623 -0.0433555  -0.1815096  -0.0433555  -0.08695652\n  -0.08695652 -0.10670145 -0.0433555  -0.0433555  -0.13105561 -0.0433555\n  -0.0433555  -0.0433555  -0.0433555  -0.07523548 -0.4386271  -0.0433555\n  -0.06137164 -0.0433555  -0.0433555  -0.89480483 -0.0433555  -0.0433555\n   1.42422228 -0.0433555  -0.0433555  -0.0433555  -0.0433555  -0.0433555\n  -0.0433555  -0.0433555  -0.0433555  -0.0433555 ]\n [-0.09358885 -0.14499604 -0.0433555  -0.0433555  -0.0433555  -0.06137164\n  -0.07523548 -0.0433555  -0.06137164 -0.06137164 -0.0433555  -0.0433555\n  -0.19226279 -0.06137164 -0.09731237 -0.0433555  -0.11536024 -0.07523548\n  -0.0433555  -0.0433555  -0.15176505 -0.0433555  -0.13105561 -0.0433555\n  -0.0433555  -0.08695652 -0.0433555  -0.0433555  -0.0433555  -0.0433555\n  -0.06137164 -0.0433555  -0.08695652 -0.08695652 -0.08695652 -0.0433555\n  -0.13105561 -0.13827675 -0.13827675 -0.0433555  -0.06137164 -0.0433555\n  -0.07523548 -0.1815096  -0.0433555  -0.0433555  -0.0433555  -0.07523548\n  -0.15811388 -0.3145935  -0.0433555  -0.08695652 -0.07523548 -0.06137164\n  -0.0433555   1.38873015 -0.0433555  -0.0433555  -0.06137164 -0.0433555\n  -0.0433555  -0.0433555  -0.0433555  -0.0433555  -0.0433555  -0.0433555\n  -0.0433555  -0.39836623 -0.0433555  -0.1815096  -0.0433555  -0.08695652\n  -0.08695652 -0.10670145 -0.0433555  -0.0433555  -0.13105561 -0.0433555\n  -0.0433555  -0.0433555  -0.0433555  -0.07523548 -0.4386271  -0.0433555\n  -0.06137164 -0.0433555  -0.0433555  -0.89480483 -0.0433555  -0.0433555\n   1.42422228 -0.0433555  -0.0433555  -0.0433555  -0.0433555  -0.0433555\n  -0.0433555  -0.0433555  -0.0433555  -0.0433555 ]\n [ 0.52587231  4.4937636  -0.0433555  -0.0433555  -0.0433555  -0.06137164\n  -0.07523548 -0.0433555  -0.06137164 -0.06137164 -0.0433555  -0.0433555\n  -0.19226279 -0.06137164 -0.09731237 -0.0433555  -0.11536024 -0.07523548\n  -0.0433555  -0.0433555  -0.15176505 -0.0433555  -0.13105561 -0.0433555\n  -0.0433555  -0.08695652 -0.0433555  -0.0433555  -0.0433555  -0.0433555\n  -0.06137164 -0.0433555  -0.08695652 -0.08695652 -0.08695652 -0.0433555\n  -0.13105561 -0.13827675 -0.13827675 -0.0433555  -0.06137164 -0.0433555\n  -0.07523548 -0.1815096  -0.0433555  -0.0433555  -0.0433555  -0.07523548\n  -0.15811388 -0.3145935  -0.0433555  -0.08695652 -0.07523548 -0.06137164\n  -0.0433555  -0.7200823  -0.0433555  -0.0433555  -0.06137164 -0.0433555\n  -0.0433555  -0.0433555  -0.0433555  -0.0433555  -0.0433555  -0.0433555\n  -0.0433555  -0.39836623 -0.0433555   5.50935034 -0.0433555  -0.08695652\n  -0.08695652 -0.10670145 -0.0433555  -0.0433555  -0.13105561 -0.0433555\n  -0.0433555  -0.0433555  -0.0433555  -0.07523548 -0.4386271  -0.0433555\n  -0.06137164 -0.0433555  -0.0433555  -0.89480483 -0.0433555  -0.0433555\n   1.42422228 -0.0433555  -0.0433555  -0.0433555  -0.0433555  -0.0433555\n  -0.0433555  -0.0433555  -0.0433555  -0.0433555 ]\n [-0.11635442 -0.15255408 -0.0433555  -0.0433555  -0.0433555  -0.06137164\n  -0.07523548 -0.0433555  -0.06137164 -0.06137164 -0.0433555  -0.0433555\n  -0.19226279 -0.06137164 -0.09731237 -0.0433555  -0.11536024 -0.07523548\n  -0.0433555  -0.0433555  -0.15176505 -0.0433555  -0.13105561 -0.0433555\n  -0.0433555  -0.08695652 -0.0433555  -0.0433555  -0.0433555  -0.0433555\n  -0.06137164 -0.0433555  -0.08695652 -0.08695652 -0.08695652 -0.0433555\n  -0.13105561 -0.13827675 -0.13827675 -0.0433555  -0.06137164 -0.0433555\n  -0.07523548 -0.1815096  -0.0433555  -0.0433555  -0.0433555  -0.07523548\n  -0.15811388  3.17870519 -0.0433555  -0.08695652 -0.07523548 -0.06137164\n  -0.0433555  -0.7200823  -0.0433555  -0.0433555  -0.06137164 -0.0433555\n  -0.0433555  -0.0433555  -0.0433555  -0.0433555  -0.0433555  -0.0433555\n  -0.0433555  -0.39836623 -0.0433555  -0.1815096  -0.0433555  -0.08695652\n  -0.08695652 -0.10670145 -0.0433555  -0.0433555  -0.13105561 -0.0433555\n  -0.0433555  -0.0433555  -0.0433555  -0.07523548 -0.4386271  -0.0433555\n  -0.06137164 -0.0433555  -0.0433555   1.11756214 -0.0433555  -0.0433555\n  -0.70213759 -0.0433555  -0.0433555  -0.0433555  -0.0433555  -0.0433555\n  -0.0433555  -0.0433555  -0.0433555  -0.0433555 ]\n [-0.11438445 -0.15286468 -0.0433555  -0.0433555  -0.0433555  -0.06137164\n  -0.07523548 -0.0433555  -0.06137164 -0.06137164 -0.0433555  -0.0433555\n  -0.19226279 -0.06137164 -0.09731237 -0.0433555  -0.11536024 -0.07523548\n  -0.0433555  -0.0433555  -0.15176505 -0.0433555   7.63034876 -0.0433555\n  -0.0433555  -0.08695652 -0.0433555  -0.0433555  -0.0433555  -0.0433555\n  -0.06137164 -0.0433555  -0.08695652 -0.08695652 -0.08695652 -0.0433555\n  -0.13105561 -0.13827675 -0.13827675 -0.0433555  -0.06137164 -0.0433555\n  -0.07523548 -0.1815096  -0.0433555  -0.0433555  -0.0433555  -0.07523548\n  -0.15811388 -0.3145935  -0.0433555  -0.08695652 -0.07523548 -0.06137164\n  -0.0433555  -0.7200823  -0.0433555  -0.0433555  -0.06137164 -0.0433555\n  -0.0433555  -0.0433555  -0.0433555  -0.0433555  -0.0433555  -0.0433555\n  -0.0433555  -0.39836623 -0.0433555  -0.1815096  -0.0433555  -0.08695652\n  -0.08695652 -0.10670145 -0.0433555  -0.0433555  -0.13105561 -0.0433555\n  -0.0433555  -0.0433555  -0.0433555  -0.07523548 -0.4386271  -0.0433555\n  -0.06137164 -0.0433555  -0.0433555   1.11756214 -0.0433555  -0.0433555\n  -0.70213759 -0.0433555  -0.0433555  -0.0433555  -0.0433555  -0.0433555\n  -0.0433555  -0.0433555  -0.0433555  -0.0433555 ]]\n"
    }
   ],
   "source": [
    "# Standardize data with StandardScaler\n",
    "cryptoScaled = StandardScaler().fit_transform(X)\n",
    "print(cryptoScaled[0:5])"
   ]
  },
  {
   "cell_type": "code",
   "execution_count": 13,
   "metadata": {},
   "outputs": [],
   "source": [
    "# Initialize PCA model\n",
    "pca = PCA(n_components=3)"
   ]
  },
  {
   "cell_type": "code",
   "execution_count": 14,
   "metadata": {},
   "outputs": [],
   "source": [
    "# 3 principal components for the data\n",
    "cryptoPCA = pca.fit_transform(cryptoScaled)"
   ]
  },
  {
   "cell_type": "code",
   "execution_count": 18,
   "metadata": {},
   "outputs": [
    {
     "output_type": "execute_result",
     "data": {
      "text/plain": "          PC 1      PC 2      PC 3\n42   -0.330273  1.031138 -0.581809\n404  -0.313609  1.031190 -0.582287\n1337  2.298183  1.613213 -0.733051\nBTC  -0.146334 -1.307808  0.180179\nETH  -0.153091 -2.039321  0.405501",
      "text/html": "<div>\n<style scoped>\n    .dataframe tbody tr th:only-of-type {\n        vertical-align: middle;\n    }\n\n    .dataframe tbody tr th {\n        vertical-align: top;\n    }\n\n    .dataframe thead th {\n        text-align: right;\n    }\n</style>\n<table border=\"1\" class=\"dataframe\">\n  <thead>\n    <tr style=\"text-align: right;\">\n      <th></th>\n      <th>PC 1</th>\n      <th>PC 2</th>\n      <th>PC 3</th>\n    </tr>\n  </thead>\n  <tbody>\n    <tr>\n      <th>42</th>\n      <td>-0.330273</td>\n      <td>1.031138</td>\n      <td>-0.581809</td>\n    </tr>\n    <tr>\n      <th>404</th>\n      <td>-0.313609</td>\n      <td>1.031190</td>\n      <td>-0.582287</td>\n    </tr>\n    <tr>\n      <th>1337</th>\n      <td>2.298183</td>\n      <td>1.613213</td>\n      <td>-0.733051</td>\n    </tr>\n    <tr>\n      <th>BTC</th>\n      <td>-0.146334</td>\n      <td>-1.307808</td>\n      <td>0.180179</td>\n    </tr>\n    <tr>\n      <th>ETH</th>\n      <td>-0.153091</td>\n      <td>-2.039321</td>\n      <td>0.405501</td>\n    </tr>\n  </tbody>\n</table>\n</div>"
     },
     "metadata": {},
     "execution_count": 18
    }
   ],
   "source": [
    "# Transform PCA data to a DF\n",
    "pcs_df = pd.DataFrame(\n",
    "    data=cryptoPCA, columns=[\"PC 1\", \"PC 2\", \"PC 3\"], index=cryptoNull.index\n",
    ")\n",
    "pcs_df.head()"
   ]
  },
  {
   "cell_type": "code",
   "execution_count": 19,
   "metadata": {},
   "outputs": [
    {
     "output_type": "display_data",
     "data": {},
     "metadata": {}
    },
    {
     "output_type": "execute_result",
     "data": {
      "text/html": "<div id='1001'>\n\n\n\n\n\n  <div class=\"bk-root\" id=\"5a7dde38-eb03-4f84-8a01-725980b20bff\" data-root-id=\"1001\"></div>\n</div>\n<script type=\"application/javascript\">(function(root) {\n  function embed_document(root) {\n  var docs_json = {\"e29b3294-0343-4b99-9ed3-c14d9ace754b\":{\"roots\":{\"references\":[{\"attributes\":{},\"id\":\"1023\",\"type\":\"SaveTool\"},{\"attributes\":{\"axis\":{\"id\":\"1019\"},\"dimension\":1,\"grid_line_color\":null,\"ticker\":null},\"id\":\"1022\",\"type\":\"Grid\"},{\"attributes\":{},\"id\":\"1024\",\"type\":\"PanTool\"},{\"attributes\":{\"end\":10.0,\"reset_end\":10.0,\"reset_start\":1.0,\"start\":1.0,\"tags\":[[[\"k\",\"k\",null]]]},\"id\":\"1003\",\"type\":\"Range1d\"},{\"attributes\":{\"active_drag\":\"auto\",\"active_inspect\":\"auto\",\"active_multi\":null,\"active_scroll\":\"auto\",\"active_tap\":\"auto\",\"tools\":[{\"id\":\"1005\"},{\"id\":\"1023\"},{\"id\":\"1024\"},{\"id\":\"1025\"},{\"id\":\"1026\"},{\"id\":\"1027\"}]},\"id\":\"1029\",\"type\":\"Toolbar\"},{\"attributes\":{\"line_color\":\"#1f77b3\",\"line_width\":2,\"x\":{\"field\":\"k\"},\"y\":{\"field\":\"inertia\"}},\"id\":\"1039\",\"type\":\"Line\"},{\"attributes\":{\"line_alpha\":0.2,\"line_color\":\"#1f77b3\",\"line_width\":2,\"x\":{\"field\":\"k\"},\"y\":{\"field\":\"inertia\"}},\"id\":\"1041\",\"type\":\"Line\"},{\"attributes\":{\"line_alpha\":0.1,\"line_color\":\"#1f77b3\",\"line_width\":2,\"x\":{\"field\":\"k\"},\"y\":{\"field\":\"inertia\"}},\"id\":\"1040\",\"type\":\"Line\"},{\"attributes\":{\"data\":{\"inertia\":{\"__ndarray__\":\"Mp437lqArEC0kXhVI2KjQHJxOouWN5dAyg03MhXbfkAUjHQMVz50QAWL/mj6LnBASXJP4X+WaUCFM//qR0ljQP+p6/2S019A1s/jGCPJWUA=\",\"dtype\":\"float64\",\"order\":\"little\",\"shape\":[10]},\"k\":[1,2,3,4,5,6,7,8,9,10]},\"selected\":{\"id\":\"1037\"},\"selection_policy\":{\"id\":\"1057\"}},\"id\":\"1036\",\"type\":\"ColumnDataSource\"},{\"attributes\":{\"callback\":null,\"renderers\":[{\"id\":\"1042\"}],\"tags\":[\"hv_created\"],\"tooltips\":[[\"k\",\"@{k}\"],[\"inertia\",\"@{inertia}\"]]},\"id\":\"1005\",\"type\":\"HoverTool\"},{\"attributes\":{\"margin\":[5,5,5,5],\"name\":\"HSpacer01525\",\"sizing_mode\":\"stretch_width\"},\"id\":\"1002\",\"type\":\"Spacer\"},{\"attributes\":{\"text\":\"Elbow Curve\",\"text_color\":{\"value\":\"black\"},\"text_font_size\":{\"value\":\"12pt\"}},\"id\":\"1007\",\"type\":\"Title\"},{\"attributes\":{\"axis_label\":\"k\",\"bounds\":\"auto\",\"formatter\":{\"id\":\"1046\"},\"major_label_orientation\":\"horizontal\",\"ticker\":{\"id\":\"1044\"}},\"id\":\"1015\",\"type\":\"LinearAxis\"},{\"attributes\":{\"axis\":{\"id\":\"1015\"},\"grid_line_color\":null,\"ticker\":null},\"id\":\"1018\",\"type\":\"Grid\"},{\"attributes\":{\"ticks\":[1,2,3,4,5,6,7,8,9,10]},\"id\":\"1044\",\"type\":\"FixedTicker\"},{\"attributes\":{\"source\":{\"id\":\"1036\"}},\"id\":\"1043\",\"type\":\"CDSView\"},{\"attributes\":{},\"id\":\"1027\",\"type\":\"ResetTool\"},{\"attributes\":{\"align\":null,\"below\":[{\"id\":\"1015\"}],\"center\":[{\"id\":\"1018\"},{\"id\":\"1022\"}],\"left\":[{\"id\":\"1019\"}],\"margin\":null,\"min_border_bottom\":10,\"min_border_left\":10,\"min_border_right\":10,\"min_border_top\":10,\"plot_height\":300,\"plot_width\":700,\"renderers\":[{\"id\":\"1042\"}],\"sizing_mode\":\"fixed\",\"title\":{\"id\":\"1007\"},\"toolbar\":{\"id\":\"1029\"},\"x_range\":{\"id\":\"1003\"},\"x_scale\":{\"id\":\"1011\"},\"y_range\":{\"id\":\"1004\"},\"y_scale\":{\"id\":\"1013\"}},\"id\":\"1006\",\"subtype\":\"Figure\",\"type\":\"Plot\"},{\"attributes\":{\"overlay\":{\"id\":\"1028\"}},\"id\":\"1026\",\"type\":\"BoxZoomTool\"},{\"attributes\":{\"axis_label\":\"inertia\",\"bounds\":\"auto\",\"formatter\":{\"id\":\"1050\"},\"major_label_orientation\":\"horizontal\",\"ticker\":{\"id\":\"1020\"}},\"id\":\"1019\",\"type\":\"LinearAxis\"},{\"attributes\":{\"bottom_units\":\"screen\",\"fill_alpha\":0.5,\"fill_color\":\"lightgrey\",\"left_units\":\"screen\",\"level\":\"overlay\",\"line_alpha\":1.0,\"line_color\":\"black\",\"line_dash\":[4,4],\"line_width\":2,\"right_units\":\"screen\",\"top_units\":\"screen\"},\"id\":\"1028\",\"type\":\"BoxAnnotation\"},{\"attributes\":{},\"id\":\"1037\",\"type\":\"Selection\"},{\"attributes\":{},\"id\":\"1011\",\"type\":\"LinearScale\"},{\"attributes\":{\"children\":[{\"id\":\"1002\"},{\"id\":\"1006\"},{\"id\":\"1065\"}],\"margin\":[0,0,0,0],\"name\":\"Row01521\",\"tags\":[\"embedded\"]},\"id\":\"1001\",\"type\":\"Row\"},{\"attributes\":{\"margin\":[5,5,5,5],\"name\":\"HSpacer01526\",\"sizing_mode\":\"stretch_width\"},\"id\":\"1065\",\"type\":\"Spacer\"},{\"attributes\":{\"end\":4002.6810818573185,\"reset_end\":4002.6810818573185,\"reset_start\":-251.3607159891952,\"start\":-251.3607159891952,\"tags\":[[[\"inertia\",\"inertia\",null]]]},\"id\":\"1004\",\"type\":\"Range1d\"},{\"attributes\":{},\"id\":\"1013\",\"type\":\"LinearScale\"},{\"attributes\":{},\"id\":\"1020\",\"type\":\"BasicTicker\"},{\"attributes\":{\"data_source\":{\"id\":\"1036\"},\"glyph\":{\"id\":\"1039\"},\"hover_glyph\":null,\"muted_glyph\":{\"id\":\"1041\"},\"nonselection_glyph\":{\"id\":\"1040\"},\"selection_glyph\":null,\"view\":{\"id\":\"1043\"}},\"id\":\"1042\",\"type\":\"GlyphRenderer\"},{\"attributes\":{},\"id\":\"1046\",\"type\":\"BasicTickFormatter\"},{\"attributes\":{},\"id\":\"1057\",\"type\":\"UnionRenderers\"},{\"attributes\":{},\"id\":\"1050\",\"type\":\"BasicTickFormatter\"},{\"attributes\":{},\"id\":\"1025\",\"type\":\"WheelZoomTool\"}],\"root_ids\":[\"1001\"]},\"title\":\"Bokeh Application\",\"version\":\"2.2.1\"}};\n  var render_items = [{\"docid\":\"e29b3294-0343-4b99-9ed3-c14d9ace754b\",\"root_ids\":[\"1001\"],\"roots\":{\"1001\":\"5a7dde38-eb03-4f84-8a01-725980b20bff\"}}];\n  root.Bokeh.embed.embed_items_notebook(docs_json, render_items);\n  }\nif (root.Bokeh !== undefined) {\n    embed_document(root);\n  } else {\n    var attempts = 0;\n    var timer = setInterval(function(root) {\n      if (root.Bokeh !== undefined) {\n        clearInterval(timer);\n        embed_document(root);\n      } else if (document.readyState == \"complete\") {\n        attempts++;\n        if (attempts > 100) {\n          clearInterval(timer);\n          console.log(\"Bokeh: ERROR: Unable to run BokehJS code because BokehJS library is missing\");\n        }\n      }\n    }, 10, root)\n  }\n})(window);</script>",
      "application/vnd.holoviews_exec.v0+json": "",
      "text/plain": ":Curve   [k]   (inertia)"
     },
     "metadata": {
      "application/vnd.holoviews_exec.v0+json": {
       "id": "1001"
      }
     },
     "execution_count": 19
    }
   ],
   "source": [
    "# Find the best value for K\n",
    "inertia = []\n",
    "k = list(range(1, 11))\n",
    "\n",
    "# Calculate the inertia for the range of K values\n",
    "for i in k:\n",
    "\tkm = KMeans(n_clusters=i, random_state=0)\n",
    "\tkm.fit(pcs_df)\n",
    "\tinertia.append(km.inertia_)\n",
    "\n",
    "# Create the elbow curve\n",
    "elbow_data = {\"k\": k, \"inertia\": inertia}\n",
    "df_elbow = pd.DataFrame(elbow_data)\n",
    "df_elbow.hvplot.line(x=\"k\", y=\"inertia\", xticks=k, title=\"Elbow Curve\")"
   ]
  },
  {
   "cell_type": "code",
   "execution_count": 20,
   "metadata": {},
   "outputs": [
    {
     "output_type": "execute_result",
     "data": {
      "text/plain": "          PC 1      PC 2      PC 3  class\n42   -0.330273  1.031138 -0.581809      1\n404  -0.313609  1.031190 -0.582287      1\n1337  2.298183  1.613213 -0.733051      1\nBTC  -0.146334 -1.307808  0.180179      0\nETH  -0.153091 -2.039321  0.405501      0",
      "text/html": "<div>\n<style scoped>\n    .dataframe tbody tr th:only-of-type {\n        vertical-align: middle;\n    }\n\n    .dataframe tbody tr th {\n        vertical-align: top;\n    }\n\n    .dataframe thead th {\n        text-align: right;\n    }\n</style>\n<table border=\"1\" class=\"dataframe\">\n  <thead>\n    <tr style=\"text-align: right;\">\n      <th></th>\n      <th>PC 1</th>\n      <th>PC 2</th>\n      <th>PC 3</th>\n      <th>class</th>\n    </tr>\n  </thead>\n  <tbody>\n    <tr>\n      <th>42</th>\n      <td>-0.330273</td>\n      <td>1.031138</td>\n      <td>-0.581809</td>\n      <td>1</td>\n    </tr>\n    <tr>\n      <th>404</th>\n      <td>-0.313609</td>\n      <td>1.031190</td>\n      <td>-0.582287</td>\n      <td>1</td>\n    </tr>\n    <tr>\n      <th>1337</th>\n      <td>2.298183</td>\n      <td>1.613213</td>\n      <td>-0.733051</td>\n      <td>1</td>\n    </tr>\n    <tr>\n      <th>BTC</th>\n      <td>-0.146334</td>\n      <td>-1.307808</td>\n      <td>0.180179</td>\n      <td>0</td>\n    </tr>\n    <tr>\n      <th>ETH</th>\n      <td>-0.153091</td>\n      <td>-2.039321</td>\n      <td>0.405501</td>\n      <td>0</td>\n    </tr>\n  </tbody>\n</table>\n</div>"
     },
     "metadata": {},
     "execution_count": 20
    }
   ],
   "source": [
    "# Initialize the K-means model\n",
    "model = KMeans(n_clusters=4, random_state=0)\n",
    "\n",
    "# Fit the model\n",
    "model.fit(pcs_df)\n",
    "\n",
    "# Predict clusters\n",
    "predictions = model.predict(pcs_df)\n",
    "\n",
    "# Add the predicted class columns\n",
    "pcs_df[\"class\"] = model.labels_\n",
    "pcs_df.head()"
   ]
  },
  {
   "cell_type": "code",
   "execution_count": 25,
   "metadata": {},
   "outputs": [
    {
     "output_type": "execute_result",
     "data": {
      "text/plain": "           Algorithm ProofType  TotalCoinsMined TotalCoinSupply      PC 1  \\\n42            Scrypt   PoW/PoS     4.199995e+01              42 -0.330273   \n404           Scrypt   PoW/PoS     1.055185e+09       532000000 -0.313609   \n1337             X13   PoW/PoS     2.927942e+10    314159265359  2.298183   \nBTC          SHA-256       PoW     1.792718e+07        21000000 -0.146334   \nETH           Ethash       PoW     1.076842e+08               0 -0.153091   \nLTC           Scrypt       PoW     6.303924e+07        84000000 -0.158528   \nDASH             X11   PoW/PoS     9.031294e+06        22000000 -0.402113   \nXMR   CryptoNight-V7       PoW     1.720114e+07               0 -0.164754   \nETC           Ethash       PoW     1.133597e+08       210000000 -0.151532   \nZEC         Equihash       PoW     7.383056e+06        21000000 -0.141386   \n\n          PC 2      PC 3  class          CoinName  \n42    1.031138 -0.581809      1           42 Coin  \n404   1.031190 -0.582287      1           404Coin  \n1337  1.613213 -0.733051      1         EliteCoin  \nBTC  -1.307808  0.180179      0           Bitcoin  \nETH  -2.039321  0.405501      0          Ethereum  \nLTC  -1.114150  0.029738      0          Litecoin  \nDASH  1.212087 -0.600212      1              Dash  \nXMR  -2.193398  0.474126      0            Monero  \nETC  -2.039431  0.405487      0  Ethereum Classic  \nZEC  -2.094214  0.401495      0             ZCash  ",
      "text/html": "<div>\n<style scoped>\n    .dataframe tbody tr th:only-of-type {\n        vertical-align: middle;\n    }\n\n    .dataframe tbody tr th {\n        vertical-align: top;\n    }\n\n    .dataframe thead th {\n        text-align: right;\n    }\n</style>\n<table border=\"1\" class=\"dataframe\">\n  <thead>\n    <tr style=\"text-align: right;\">\n      <th></th>\n      <th>Algorithm</th>\n      <th>ProofType</th>\n      <th>TotalCoinsMined</th>\n      <th>TotalCoinSupply</th>\n      <th>PC 1</th>\n      <th>PC 2</th>\n      <th>PC 3</th>\n      <th>class</th>\n      <th>CoinName</th>\n    </tr>\n  </thead>\n  <tbody>\n    <tr>\n      <th>42</th>\n      <td>Scrypt</td>\n      <td>PoW/PoS</td>\n      <td>4.199995e+01</td>\n      <td>42</td>\n      <td>-0.330273</td>\n      <td>1.031138</td>\n      <td>-0.581809</td>\n      <td>1</td>\n      <td>42 Coin</td>\n    </tr>\n    <tr>\n      <th>404</th>\n      <td>Scrypt</td>\n      <td>PoW/PoS</td>\n      <td>1.055185e+09</td>\n      <td>532000000</td>\n      <td>-0.313609</td>\n      <td>1.031190</td>\n      <td>-0.582287</td>\n      <td>1</td>\n      <td>404Coin</td>\n    </tr>\n    <tr>\n      <th>1337</th>\n      <td>X13</td>\n      <td>PoW/PoS</td>\n      <td>2.927942e+10</td>\n      <td>314159265359</td>\n      <td>2.298183</td>\n      <td>1.613213</td>\n      <td>-0.733051</td>\n      <td>1</td>\n      <td>EliteCoin</td>\n    </tr>\n    <tr>\n      <th>BTC</th>\n      <td>SHA-256</td>\n      <td>PoW</td>\n      <td>1.792718e+07</td>\n      <td>21000000</td>\n      <td>-0.146334</td>\n      <td>-1.307808</td>\n      <td>0.180179</td>\n      <td>0</td>\n      <td>Bitcoin</td>\n    </tr>\n    <tr>\n      <th>ETH</th>\n      <td>Ethash</td>\n      <td>PoW</td>\n      <td>1.076842e+08</td>\n      <td>0</td>\n      <td>-0.153091</td>\n      <td>-2.039321</td>\n      <td>0.405501</td>\n      <td>0</td>\n      <td>Ethereum</td>\n    </tr>\n    <tr>\n      <th>LTC</th>\n      <td>Scrypt</td>\n      <td>PoW</td>\n      <td>6.303924e+07</td>\n      <td>84000000</td>\n      <td>-0.158528</td>\n      <td>-1.114150</td>\n      <td>0.029738</td>\n      <td>0</td>\n      <td>Litecoin</td>\n    </tr>\n    <tr>\n      <th>DASH</th>\n      <td>X11</td>\n      <td>PoW/PoS</td>\n      <td>9.031294e+06</td>\n      <td>22000000</td>\n      <td>-0.402113</td>\n      <td>1.212087</td>\n      <td>-0.600212</td>\n      <td>1</td>\n      <td>Dash</td>\n    </tr>\n    <tr>\n      <th>XMR</th>\n      <td>CryptoNight-V7</td>\n      <td>PoW</td>\n      <td>1.720114e+07</td>\n      <td>0</td>\n      <td>-0.164754</td>\n      <td>-2.193398</td>\n      <td>0.474126</td>\n      <td>0</td>\n      <td>Monero</td>\n    </tr>\n    <tr>\n      <th>ETC</th>\n      <td>Ethash</td>\n      <td>PoW</td>\n      <td>1.133597e+08</td>\n      <td>210000000</td>\n      <td>-0.151532</td>\n      <td>-2.039431</td>\n      <td>0.405487</td>\n      <td>0</td>\n      <td>Ethereum Classic</td>\n    </tr>\n    <tr>\n      <th>ZEC</th>\n      <td>Equihash</td>\n      <td>PoW</td>\n      <td>7.383056e+06</td>\n      <td>21000000</td>\n      <td>-0.141386</td>\n      <td>-2.094214</td>\n      <td>0.401495</td>\n      <td>0</td>\n      <td>ZCash</td>\n    </tr>\n  </tbody>\n</table>\n</div>"
     },
     "metadata": {},
     "execution_count": 25
    }
   ],
   "source": [
    "clustered_df = pd.concat([cryptoNull, pcs_df, coins_name], axis=1)\n",
    "clustered_df.head(10)"
   ]
  },
  {
   "cell_type": "code",
   "execution_count": 36,
   "metadata": {},
   "outputs": [
    {
     "output_type": "display_data",
     "data": {
      "application/vnd.plotly.v1+json": {
       "config": {
        "plotlyServerURL": "https://plot.ly"
       },
       "data": [
        {
         "customdata": [
          [
           "Scrypt"
          ],
          [
           "Scrypt"
          ],
          [
           "X13"
          ],
          [
           "X11"
          ],
          [
           "SHA-512"
          ],
          [
           "SHA-256"
          ],
          [
           "SHA-256"
          ],
          [
           "X15"
          ],
          [
           "Scrypt"
          ],
          [
           "Scrypt"
          ],
          [
           "Scrypt"
          ],
          [
           "Scrypt"
          ],
          [
           "Scrypt"
          ],
          [
           "Scrypt"
          ],
          [
           "Groestl"
          ],
          [
           "PoS"
          ],
          [
           "Scrypt"
          ],
          [
           "Scrypt"
          ],
          [
           "X11"
          ],
          [
           "X11"
          ],
          [
           "SHA3"
          ],
          [
           "Scrypt"
          ],
          [
           "SHA-256"
          ],
          [
           "Scrypt"
          ],
          [
           "X13"
          ],
          [
           "X13"
          ],
          [
           "NeoScrypt"
          ],
          [
           "Scrypt"
          ],
          [
           "Scrypt"
          ],
          [
           "Scrypt"
          ],
          [
           "X11"
          ],
          [
           "X11"
          ],
          [
           "Multiple"
          ],
          [
           "PHI1612"
          ],
          [
           "X11"
          ],
          [
           "Scrypt"
          ],
          [
           "Scrypt"
          ],
          [
           "Scrypt"
          ],
          [
           "X11"
          ],
          [
           "Multiple"
          ],
          [
           "X13"
          ],
          [
           "Scrypt"
          ],
          [
           "Shabal256"
          ],
          [
           "Counterparty"
          ],
          [
           "SHA-256"
          ],
          [
           "Groestl"
          ],
          [
           "Scrypt"
          ],
          [
           "X13"
          ],
          [
           "Scrypt"
          ],
          [
           "Scrypt"
          ],
          [
           "X13"
          ],
          [
           "X11"
          ],
          [
           "Scrypt"
          ],
          [
           "X11"
          ],
          [
           "SHA3"
          ],
          [
           "QUAIT"
          ],
          [
           "X11"
          ],
          [
           "Scrypt"
          ],
          [
           "X13"
          ],
          [
           "SHA-256"
          ],
          [
           "X15"
          ],
          [
           "BLAKE256"
          ],
          [
           "SHA-256"
          ],
          [
           "X11"
          ],
          [
           "SHA-256"
          ],
          [
           "NIST5"
          ],
          [
           "Scrypt"
          ],
          [
           "Scrypt"
          ],
          [
           "X11"
          ],
          [
           "Scrypt"
          ],
          [
           "SHA-256"
          ],
          [
           "Scrypt"
          ],
          [
           "PoS"
          ],
          [
           "X11"
          ],
          [
           "SHA-256"
          ],
          [
           "SHA-256"
          ],
          [
           "NIST5"
          ],
          [
           "X11"
          ],
          [
           "POS 3.0"
          ],
          [
           "Scrypt"
          ],
          [
           "Scrypt"
          ],
          [
           "Scrypt"
          ],
          [
           "X13"
          ],
          [
           "X11"
          ],
          [
           "X11"
          ],
          [
           "Scrypt"
          ],
          [
           "SHA-256"
          ],
          [
           "X11"
          ],
          [
           "Scrypt"
          ],
          [
           "Scrypt"
          ],
          [
           "Scrypt"
          ],
          [
           "Scrypt"
          ],
          [
           "SHA-256D"
          ],
          [
           "PoS"
          ],
          [
           "Scrypt"
          ],
          [
           "X11"
          ],
          [
           "PoS"
          ],
          [
           "X13"
          ],
          [
           "X14"
          ],
          [
           "PoS"
          ],
          [
           "SHA-256D"
          ],
          [
           "DPoS"
          ],
          [
           "X11"
          ],
          [
           "X13"
          ],
          [
           "X11"
          ],
          [
           "PoS"
          ],
          [
           "Scrypt"
          ],
          [
           "Scrypt"
          ],
          [
           "PoS"
          ],
          [
           "X11"
          ],
          [
           "SHA-256"
          ],
          [
           "Scrypt"
          ],
          [
           "X11"
          ],
          [
           "Scrypt"
          ],
          [
           "Scrypt"
          ],
          [
           "X11"
          ],
          [
           "Scrypt"
          ],
          [
           "Scrypt"
          ],
          [
           "Scrypt"
          ],
          [
           "Scrypt"
          ],
          [
           "Quark"
          ],
          [
           "QuBit"
          ],
          [
           "Scrypt"
          ],
          [
           "SHA-256"
          ],
          [
           "X11"
          ],
          [
           "Scrypt"
          ],
          [
           "Scrypt"
          ],
          [
           "Scrypt"
          ],
          [
           "Scrypt"
          ],
          [
           "X13"
          ],
          [
           "Scrypt"
          ],
          [
           "Scrypt"
          ],
          [
           "X11"
          ],
          [
           "Blake2S"
          ],
          [
           "X11"
          ],
          [
           "PoS"
          ],
          [
           "X11"
          ],
          [
           "PoS"
          ],
          [
           "X11"
          ],
          [
           "Scrypt"
          ],
          [
           "Scrypt"
          ],
          [
           "Scrypt"
          ],
          [
           "SHA-256"
          ],
          [
           "X11"
          ],
          [
           "Scrypt"
          ],
          [
           "PoS"
          ],
          [
           "Scrypt"
          ],
          [
           "X15"
          ],
          [
           "SHA-256"
          ],
          [
           "POS 3.0"
          ],
          [
           "536"
          ],
          [
           "NIST5"
          ],
          [
           "NIST5"
          ],
          [
           "Skein"
          ],
          [
           "X13"
          ],
          [
           "Scrypt"
          ],
          [
           "X13"
          ],
          [
           "SkunkHash v2 Raptor"
          ],
          [
           "Skein"
          ],
          [
           "X11"
          ],
          [
           "Scrypt"
          ],
          [
           "PoS"
          ],
          [
           "Scrypt"
          ],
          [
           "Scrypt"
          ],
          [
           "SHA-512"
          ],
          [
           "Ouroboros"
          ],
          [
           "X11"
          ],
          [
           "NeoScrypt"
          ],
          [
           "Scrypt"
          ],
          [
           "Lyra2REv2"
          ],
          [
           "Scrypt"
          ],
          [
           "SHA-256"
          ],
          [
           "NIST5"
          ],
          [
           "PHI1612"
          ],
          [
           "Scrypt"
          ],
          [
           "Quark"
          ],
          [
           "POS 2.0"
          ],
          [
           "Scrypt"
          ],
          [
           "SHA-256"
          ],
          [
           "X11"
          ],
          [
           "DPoS"
          ],
          [
           "NIST5"
          ],
          [
           "X13"
          ],
          [
           "Scrypt"
          ],
          [
           "NIST5"
          ],
          [
           "Quark"
          ],
          [
           "Scrypt"
          ],
          [
           "Scrypt"
          ],
          [
           "X11"
          ],
          [
           "Quark"
          ],
          [
           "Scrypt"
          ],
          [
           "Scrypt"
          ],
          [
           "X11"
          ],
          [
           "POS 3.0"
          ],
          [
           "Ethash"
          ],
          [
           "Scrypt"
          ],
          [
           "Scrypt"
          ],
          [
           "X13"
          ],
          [
           "C11"
          ],
          [
           "X11"
          ],
          [
           "XEVAN"
          ],
          [
           "Scrypt"
          ],
          [
           "VBFT"
          ],
          [
           "NIST5"
          ],
          [
           "Scrypt"
          ],
          [
           "Scrypt"
          ],
          [
           "Scrypt"
          ],
          [
           "Green Protocol"
          ],
          [
           "PoS"
          ],
          [
           "Scrypt"
          ],
          [
           "Semux BFT consensus"
          ],
          [
           "Quark"
          ],
          [
           "PoS"
          ],
          [
           "X16R"
          ],
          [
           "Scrypt"
          ],
          [
           "XEVAN"
          ],
          [
           "Scrypt"
          ],
          [
           "Scrypt"
          ],
          [
           "Scrypt"
          ],
          [
           "SHA-256D"
          ],
          [
           "Scrypt"
          ],
          [
           "X15"
          ],
          [
           "Scrypt"
          ],
          [
           "Quark"
          ],
          [
           "SHA-256"
          ],
          [
           "DPoS"
          ],
          [
           "X16R"
          ],
          [
           "Quark"
          ],
          [
           "Quark"
          ],
          [
           "Scrypt"
          ],
          [
           "Lyra2REv2"
          ],
          [
           "Quark"
          ],
          [
           "Scrypt"
          ],
          [
           "X11"
          ],
          [
           "X11"
          ],
          [
           "Scrypt"
          ],
          [
           "PoS"
          ],
          [
           "Keccak"
          ],
          [
           "X11"
          ],
          [
           "Scrypt"
          ],
          [
           "SHA-512"
          ],
          [
           "XEVAN"
          ],
          [
           "XEVAN"
          ],
          [
           "X11"
          ],
          [
           "Quark"
          ],
          [
           "Scrypt"
          ],
          [
           "Quark"
          ],
          [
           "Quark"
          ],
          [
           "Scrypt"
          ],
          [
           "X11"
          ],
          [
           "Scrypt"
          ],
          [
           "XEVAN"
          ],
          [
           "SHA-256D"
          ],
          [
           "X11"
          ],
          [
           "X11"
          ],
          [
           "DPoS"
          ],
          [
           "Scrypt"
          ],
          [
           "X11"
          ],
          [
           "Scrypt"
          ],
          [
           "Scrypt"
          ],
          [
           "SHA-256"
          ],
          [
           "Scrypt"
          ],
          [
           "X11"
          ],
          [
           "Scrypt"
          ],
          [
           "SHA-256"
          ],
          [
           "X11"
          ],
          [
           "Scrypt"
          ],
          [
           "Scrypt"
          ],
          [
           "X11"
          ],
          [
           "Scrypt"
          ],
          [
           "PoS"
          ],
          [
           "X11"
          ],
          [
           "SHA-256"
          ],
          [
           "DPoS"
          ],
          [
           "Scrypt"
          ],
          [
           "Scrypt"
          ],
          [
           "NeoScrypt"
          ],
          [
           "X13"
          ],
          [
           "DPoS"
          ],
          [
           "DPoS"
          ],
          [
           "SHA-256"
          ],
          [
           "PoS"
          ],
          [
           "PoS"
          ],
          [
           "SHA-256"
          ],
          [
           "Scrypt"
          ],
          [
           "Scrypt"
          ]
         ],
         "hovertemplate": "<b>%{hovertext}</b><br><br>class=%{marker.color}<br>PC 1=%{x}<br>PC 2=%{y}<br>PC 3=%{z}<br>Algorithm=%{customdata[0]}<extra></extra>",
         "hovertext": [
          "42 Coin",
          "404Coin",
          "EliteCoin",
          "Dash",
          "Bitshares",
          "BitcoinDark",
          "PayCoin",
          "KoboCoin",
          "Aurora Coin",
          "BlueCoin",
          "EnergyCoin",
          "BitBar",
          "CryptoBullion",
          "CasinoCoin",
          "Diamond",
          "Exclusive Coin",
          "FlutterCoin",
          "HoboNickels",
          "HyperStake",
          "IOCoin",
          "MaxCoin",
          "MintCoin",
          "MazaCoin",
          "Nautilus Coin",
          "NavCoin",
          "OpalCoin",
          "Orbitcoin",
          "PotCoin",
          "PhoenixCoin",
          "Reddcoin",
          "SuperCoin",
          "SyncCoin",
          "TeslaCoin",
          "TittieCoin",
          "TorCoin",
          "UnitaryStatus Dollar",
          "UltraCoin",
          "VeriCoin",
          "X11 Coin",
          "Crypti",
          "StealthCoin",
          "ZCC Coin",
          "BurstCoin",
          "StorjCoin",
          "Neutron",
          "FairCoin",
          "RubyCoin",
          "Kore",
          "Dnotes",
          "8BIT Coin",
          "Sativa Coin",
          "Ucoin",
          "Vtorrent",
          "IslaCoin",
          "Nexus",
          "Droidz",
          "Squall Coin",
          "Diggits",
          "Paycon",
          "Emercoin",
          "EverGreenCoin",
          "Decred",
          "EDRCoin",
          "Hitcoin",
          "DubaiCoin",
          "PWR Coin",
          "BillaryCoin",
          "GPU Coin",
          "EuropeCoin",
          "ZeitCoin",
          "SwingCoin",
          "SafeExchangeCoin",
          "Nebuchadnezzar",
          "Ratecoin",
          "Revenu",
          "Clockcoin",
          "VIP Tokens",
          "BitSend",
          "Let it Ride",
          "PutinCoin",
          "iBankCoin",
          "Frankywillcoin",
          "MudraCoin",
          "Lutetium Coin",
          "GoldBlocks",
          "CarterCoin",
          "BitTokens",
          "MustangCoin",
          "ZoneCoin",
          "RootCoin",
          "BitCurrency",
          "Swiscoin",
          "BuzzCoin",
          "Opair",
          "PesoBit",
          "Halloween Coin",
          "CoffeeCoin",
          "RoyalCoin",
          "GanjaCoin V2",
          "TeamUP",
          "LanaCoin",
          "ARK",
          "InsaneCoin",
          "EmberCoin",
          "XenixCoin",
          "FreeCoin",
          "PLNCoin",
          "AquariusCoin",
          "Creatio",
          "Eternity",
          "Eurocoin",
          "BitcoinFast",
          "Stakenet",
          "BitConnect Coin",
          "MoneyCoin",
          "Enigma",
          "Russiacoin",
          "PandaCoin",
          "GameUnits",
          "GAKHcoin",
          "Allsafe",
          "LiteCreed",
          "Klingon Empire Darsek",
          "Internet of People",
          "KushCoin",
          "Printerium",
          "Impeach",
          "Zilbercoin",
          "FirstCoin",
          "FindCoin",
          "OpenChat",
          "RenosCoin",
          "VirtacoinPlus",
          "TajCoin",
          "Impact",
          "Atmos",
          "HappyCoin",
          "MacronCoin",
          "Condensate",
          "Independent Money System",
          "ArgusCoin",
          "LomoCoin",
          "ProCurrency",
          "GoldReserve",
          "GrowthCoin",
          "Phreak",
          "Degas Coin",
          "HTML5 Coin",
          "Ultimate Secure Cash",
          "QTUM",
          "Espers",
          "Denarius",
          "Virta Unique Coin",
          "Bitcoin Planet",
          "BritCoin",
          "Linda",
          "DeepOnion",
          "Signatum",
          "Cream",
          "Monoeci",
          "Draftcoin",
          "Stakecoin",
          "CoinonatX",
          "Ethereum Dark",
          "Obsidian",
          "Cardano",
          "Regalcoin",
          "TrezarCoin",
          "TerraNovaCoin",
          "Rupee",
          "WomenCoin",
          "Theresa May Coin",
          "NamoCoin",
          "LUXCoin",
          "Xios",
          "Bitcloud 2.0",
          "KekCoin",
          "BlackholeCoin",
          "Infinity Economics",
          "Magnet",
          "Lamden Tau",
          "Electra",
          "Bitcoin Diamond",
          "Cash & Back Coin",
          "Bulwark",
          "Kalkulus",
          "GermanCoin",
          "LiteCoin Ultra",
          "PhantomX",
          "Digiwage",
          "Trollcoin",
          "Litecoin Plus",
          "Monkey Project",
          "TokenPay",
          "1717 Masonic Commemorative Token",
          "My Big Coin",
          "Unified Society USDEX",
          "Tokyo Coin",
          "Stipend",
          "Pushi",
          "Ellerium",
          "Velox",
          "Ontology",
          "Bitspace",
          "Briacoin",
          "Ignition",
          "MedicCoin",
          "Bitcoin Green",
          "Deviant Coin",
          "Abjcoin",
          "Semux",
          "Carebit",
          "Zealium",
          "Proton",
          "iDealCash",
          "Bitcoin Incognito",
          "HollyWoodCoin",
          "Swisscoin",
          "Xt3ch",
          "TheVig",
          "EmaratCoin",
          "Dekado",
          "Lynx",
          "Poseidon Quark",
          "BitcoinWSpectrum",
          "Muse",
          "Trivechain",
          "Dystem",
          "Giant",
          "Peony Coin",
          "Absolute Coin",
          "Vitae",
          "TPCash",
          "ARENON",
          "EUNO",
          "MMOCoin",
          "Ketan",
          "XDNA",
          "PAXEX",
          "ThunderStake",
          "Kcash",
          "Bettex coin",
          "BitMoney",
          "Junson Ming Chan Coin",
          "HerbCoin",
          "Oduwa",
          "Galilel",
          "Crypto Sports",
          "Credit",
          "Dash Platinum",
          "Nasdacoin",
          "Beetle Coin",
          "Titan Coin",
          "Award",
          "Insane Coin",
          "ALAX",
          "LiteDoge",
          "TruckCoin",
          "OrangeCoin",
          "BitstarCoin",
          "NeosCoin",
          "HyperCoin",
          "PinkCoin",
          "AudioCoin",
          "IncaKoin",
          "Piggy Coin",
          "Genstake",
          "XiaoMiCoin",
          "CapriCoin",
          " ClubCoin",
          "Radium",
          "Creditbit ",
          "OKCash",
          "Lisk",
          "HiCoin",
          "WhiteCoin",
          "FriendshipCoin",
          "Triangles Coin",
          "EOS",
          "Oxycoin",
          "TigerCash",
          "Particl",
          "Nxt",
          "ZEPHYR",
          "Gapcoin",
          "BitcoinPlus"
         ],
         "legendgroup": "1",
         "marker": {
          "color": [
           1,
           1,
           1,
           1,
           1,
           1,
           1,
           1,
           1,
           1,
           1,
           1,
           1,
           1,
           1,
           1,
           1,
           1,
           1,
           1,
           1,
           1,
           1,
           1,
           1,
           1,
           1,
           1,
           1,
           1,
           1,
           1,
           1,
           1,
           1,
           1,
           1,
           1,
           1,
           1,
           1,
           1,
           1,
           1,
           1,
           1,
           1,
           1,
           1,
           1,
           1,
           1,
           1,
           1,
           1,
           1,
           1,
           1,
           1,
           1,
           1,
           1,
           1,
           1,
           1,
           1,
           1,
           1,
           1,
           1,
           1,
           1,
           1,
           1,
           1,
           1,
           1,
           1,
           1,
           1,
           1,
           1,
           1,
           1,
           1,
           1,
           1,
           1,
           1,
           1,
           1,
           1,
           1,
           1,
           1,
           1,
           1,
           1,
           1,
           1,
           1,
           1,
           1,
           1,
           1,
           1,
           1,
           1,
           1,
           1,
           1,
           1,
           1,
           1,
           1,
           1,
           1,
           1,
           1,
           1,
           1,
           1,
           1,
           1,
           1,
           1,
           1,
           1,
           1,
           1,
           1,
           1,
           1,
           1,
           1,
           1,
           1,
           1,
           1,
           1,
           1,
           1,
           1,
           1,
           1,
           1,
           1,
           1,
           1,
           1,
           1,
           1,
           1,
           1,
           1,
           1,
           1,
           1,
           1,
           1,
           1,
           1,
           1,
           1,
           1,
           1,
           1,
           1,
           1,
           1,
           1,
           1,
           1,
           1,
           1,
           1,
           1,
           1,
           1,
           1,
           1,
           1,
           1,
           1,
           1,
           1,
           1,
           1,
           1,
           1,
           1,
           1,
           1,
           1,
           1,
           1,
           1,
           1,
           1,
           1,
           1,
           1,
           1,
           1,
           1,
           1,
           1,
           1,
           1,
           1,
           1,
           1,
           1,
           1,
           1,
           1,
           1,
           1,
           1,
           1,
           1,
           1,
           1,
           1,
           1,
           1,
           1,
           1,
           1,
           1,
           1,
           1,
           1,
           1,
           1,
           1,
           1,
           1,
           1,
           1,
           1,
           1,
           1,
           1,
           1,
           1,
           1,
           1,
           1,
           1,
           1,
           1,
           1,
           1,
           1,
           1,
           1,
           1,
           1,
           1,
           1,
           1,
           1,
           1,
           1,
           1,
           1,
           1,
           1,
           1,
           1,
           1,
           1,
           1,
           1,
           1,
           1,
           1,
           1,
           1,
           1,
           1,
           1,
           1,
           1,
           1
          ],
          "coloraxis": "coloraxis",
          "symbol": "circle"
         },
         "mode": "markers",
         "name": "1",
         "scene": "scene",
         "showlegend": true,
         "type": "scatter3d",
         "x": [
          -0.33027269823572014,
          -0.31360927944951644,
          2.298183125972934,
          -0.40211314538221954,
          -0.3195651071507986,
          -0.3169098984733945,
          -0.27015387889004344,
          -0.24288812246311703,
          -0.32993224186918163,
          -0.3225097464973885,
          -0.32876924491824727,
          -0.330268633496603,
          -0.33025291347724484,
          0.6842545892849068,
          -0.3881114390455935,
          -0.34892968114792,
          -0.24109323892055115,
          -0.3283312419805837,
          -0.33518047154216757,
          -0.4020078397776652,
          -0.3913120908779135,
          -0.023432942797197813,
          -0.2802115983517086,
          -0.2832677199784379,
          -0.28632937350431326,
          -0.28695159255345626,
          -0.3522849444339784,
          -0.32457415809624257,
          -0.32867425089183566,
          0.02787460527788808,
          -0.3550674015830409,
          -0.40237945468580794,
          -0.2431057931668219,
          -0.32492462817544354,
          -0.40229107612002224,
          -0.3055016863424406,
          -0.3289499055504948,
          -0.26423869327329425,
          -0.40225555914665795,
          -0.243573707512571,
          -0.2867324524126208,
          -0.32137399124947985,
          0.03193513797656728,
          -0.34657074101004215,
          -0.3161215230930221,
          -0.38753299994257545,
          -0.28324800627208657,
          -0.28702696037192993,
          -0.2779011145427541,
          -0.3302547664822132,
          -0.28697914840608274,
          -0.355512219728466,
          -0.32998911022571115,
          -0.40236098328471614,
          -0.35121024231614867,
          -0.4216673500309368,
          -0.34325824115127573,
          -0.28164935002424235,
          -0.2865007108266938,
          -0.3094648641296124,
          -0.24533015136371678,
          -0.07117261864458276,
          -0.31688081195475054,
          -0.07977931550102824,
          -0.3169445266988232,
          -0.2427035110728539,
          -0.32986495162898144,
          -0.281518190177483,
          -0.3995294959424566,
          0.87007712143827,
          -0.31674453690953264,
          -0.04658974847906905,
          -0.3486129162623975,
          -0.40020381923648096,
          -0.31548775479812025,
          -0.313155445191368,
          -0.36406395813144615,
          -0.40109592261592664,
          -0.33703648414663684,
          -0.306157745109521,
          -0.32990304602372444,
          -0.32834193078824636,
          -0.2389649485518559,
          -0.3430017479341641,
          -0.40183479703933106,
          -0.3291071831352918,
          -0.3169254608371855,
          -0.4023501696866222,
          -0.3300922501693326,
          -0.3302489994875738,
          -0.2815081376592739,
          -0.22990473513729615,
          0.02408127677797742,
          -0.3475698883863745,
          -0.32986315020138207,
          -0.3885098342681769,
          -0.34689857362641374,
          -0.24039590498531327,
          -0.4123989309858285,
          -0.34664707415182205,
          -0.29047055686673245,
          3.745300215473838,
          -0.4019426611423462,
          0.8452069852081324,
          -0.40230507734558923,
          -0.34803368578487587,
          -0.3297906397797507,
          -0.32994496256899064,
          -0.3486129162623975,
          -0.40187988253585555,
          -0.3167881332641502,
          -0.3297913848582313,
          -0.394944538645757,
          -0.32993878618354594,
          -0.32552571387447854,
          -0.4023340697674849,
          -0.329149283747366,
          0.3600679713702565,
          -0.33013809042133796,
          -0.33020867884512445,
          -0.3605996257238902,
          -0.3525549051565226,
          -0.32643455689494644,
          -0.3169018741570722,
          -0.40224401259998466,
          -0.32998645907066215,
          -0.3301134109987432,
          -0.2831544234252015,
          -0.2779350491810914,
          -0.24016373536391764,
          -0.31096501646259544,
          -0.28289558418972055,
          -0.4015095956896458,
          -0.4203062076786216,
          -0.40024792964434674,
          -0.3468592918281582,
          -0.40140747928359083,
          -0.34125863167194487,
          -0.3973477353964949,
          -0.33005669783352015,
          -0.3300558755329547,
          -0.32317587455746566,
          0.2626430050030449,
          -0.4018860653156628,
          -0.2657930261422807,
          -0.34864719442385633,
          -0.3292672345600941,
          0.8892124036026857,
          -0.26884395774019554,
          -0.3358147052771565,
          0.5668710275828595,
          -0.3655997645618238,
          -0.3641017862090189,
          -0.42723691491302246,
          -0.2866642043006082,
          0.1347647202835666,
          -0.2867349961914779,
          -0.3614137121172293,
          -0.4267417925272114,
          -0.40215850453692786,
          -0.2832286891713891,
          -0.34851341418997767,
          -0.3296918433243886,
          -0.3301916067797989,
          -0.37763596187475773,
          0.6391013647809707,
          -0.40209930230070207,
          -0.3472834489637176,
          -0.33014720213016985,
          -0.3089165612422505,
          0.43902295646652717,
          -0.31524798706181956,
          -0.3503643920255994,
          -0.40721884992604834,
          -0.33009753134407865,
          -0.40573371731845337,
          -0.34142003198868076,
          -0.3299679389160822,
          -0.09661991631115817,
          -0.40089174209462225,
          3.7501569255666904,
          0.19395131575981878,
          -0.283405477940658,
          -0.3274278466628753,
          -0.3186706851079207,
          -0.3604855194087761,
          0.0842667358882174,
          -0.3291062320890037,
          -0.40147304849164817,
          -0.3596500765431476,
          -0.3166705494820966,
          -0.33021373895808903,
          -0.35548414710538007,
          -0.3373184192283871,
          -0.2780617050236479,
          -0.2565844280279106,
          -0.32575854395321774,
          -0.23195804951149712,
          -0.37289697765893,
          -0.40217572398451823,
          -0.2906586820619339,
          -0.28238848150204565,
          -0.31093672367026254,
          -0.36519865179689487,
          -0.33024109576973004,
          -0.33022280313682284,
          -0.27676919350176976,
          -0.3535706990997992,
          -0.3481078213751319,
          -0.3299392677992237,
          3.9452648060027515,
          -0.40440172532466667,
          -0.3482965066245081,
          -0.3264912095704838,
          -0.27679985194168605,
          -0.23168990351081276,
          -0.2829228798688948,
          -0.13333433668927494,
          -0.283174911323209,
          -0.3557990745772367,
          -0.329413200491264,
          -0.1979811991493601,
          2.2510597868437534,
          -0.3561923318200278,
          -0.26897185355664005,
          1.030528041029002,
          -0.3725202708590004,
          -0.3605990513565057,
          -0.4074182200192105,
          -0.16387610187179696,
          -0.35553737965017335,
          -0.3593184321261101,
          -0.3231159649662673,
          -0.35506149105265045,
          -0.4016490105379763,
          -0.28041998454843114,
          -0.34739607029784864,
          -0.34855022281342557,
          -0.35492279076718986,
          -0.18969038736544946,
          -0.44744270043089435,
          -0.2439592092290548,
          0.6030143914106695,
          -0.14543383239025348,
          -0.4067127560486626,
          -0.32994325718347384,
          -0.4071689406112424,
          -0.3607160426833057,
          0.5767095270128596,
          -0.35553846509908427,
          -0.32942606265376695,
          -0.28511346863183473,
          -0.31050982149658185,
          -0.39921298694342705,
          -0.40187628456311425,
          3.7623996573132428,
          0.10505269264310627,
          -0.399415956419647,
          -0.3288113426021405,
          -0.32963660151150254,
          -0.27018649433717407,
          -0.3301550349982288,
          -0.3935032005062879,
          -0.24383860445607078,
          -0.09656538286816994,
          -0.389250638451558,
          -0.32943332031187417,
          -0.322496891775555,
          -0.39844454596845147,
          -0.3278722394878095,
          -0.3488885694385149,
          -0.39544553149330725,
          -0.3154248000392141,
          3.7456920949910573,
          -0.09043765224427942,
          -0.32506674068963226,
          -0.3519106996598074,
          -0.28713418658690176,
          3.7555599330590828,
          3.756804081573035,
          -0.25108137686144116,
          -0.3488244358981231,
          -0.3365123863442128,
          2.4811407392416704,
          -0.32831760795332937,
          -0.2835714598000165
         ],
         "y": [
          1.0311381598058238,
          1.031189960213782,
          1.613212626314492,
          1.212087145896477,
          1.374071232324168,
          0.8374490387300311,
          0.6261461163651032,
          1.8724259877674798,
          1.0311349900010505,
          1.0313399328679227,
          1.0311772372828267,
          1.031137907110081,
          1.0311379573258617,
          0.5377178361738186,
          0.8622331358233946,
          1.5503737615934143,
          0.38999748281994046,
          1.0311026115955966,
          1.001317610338095,
          1.2120898829779148,
          1.9402761377865327,
          0.8265884708686477,
          0.8366846968662424,
          0.8198233021771165,
          1.7712106085893329,
          1.7711944360008198,
          0.49358303712252033,
          1.0309852395189931,
          1.0311094647100365,
          1.0404470502897982,
          1.0008007133758727,
          1.2120959918544625,
          0.10467599283540728,
          1.600862053166799,
          1.2120911221745068,
          1.0306352005907267,
          1.0311008664484909,
          0.33514050165473974,
          1.2120952707056434,
          0.1047355060433915,
          1.7712001318459232,
          1.0306527017764275,
          1.0521042061593073,
          1.454361874724898,
          0.8374365594547597,
          0.8622513098637848,
          0.8198354116094402,
          1.7711838760392324,
          0.8196160112074271,
          1.0311386259143471,
          1.7711865522607475,
          1.000774816726738,
          1.0311311957685565,
          1.2120964726760413,
          2.056590463609502,
          1.9771673785791628,
          0.8301361463609728,
          0.819805288410524,
          1.7711703176548548,
          0.836941565643556,
          1.872594528922389,
          0.9603237985756539,
          0.8374497947407931,
          1.2014511986601009,
          0.8374563813215492,
          1.5088855083789074,
          1.031118654342118,
          0.8197219328458307,
          1.2118948355678936,
          0.7788540099613431,
          0.8374404352481972,
          0.5458527260136987,
          1.5503676598525122,
          1.2120987848812312,
          0.8373421328675169,
          0.8371860977438568,
          1.5056666251755273,
          1.2120297254251535,
          1.5716168218704438,
          1.0303314478847172,
          1.031115991780799,
          1.0311166688024522,
          1.5597733403509668,
          1.0006434156697834,
          1.2120743116295103,
          1.031103946036181,
          0.8374493509877046,
          1.2120946034866216,
          1.03112779822512,
          1.0311387758088764,
          0.819880633913676,
          0.264615690697142,
          1.8554395597297628,
          1.5503560654408552,
          1.0311488047235198,
          1.2113813617597369,
          1.550397883735831,
          1.5598777055419353,
          1.8882246140355325,
          1.550217348467847,
          1.856218885761226,
          2.030653522595216,
          1.2120858430762385,
          1.8000120283142822,
          1.212095163894233,
          1.5503612125487916,
          1.031123065800162,
          1.031116574714355,
          1.5503676598525122,
          1.212065972262569,
          0.8374536371289156,
          1.031127017237028,
          0.6590164737415379,
          1.0311267697693747,
          1.0307951811187979,
          1.2120935884495692,
          1.0310641471898552,
          0.8132512346978246,
          1.0311323407660462,
          1.031137447218225,
          1.4840538682710185,
          0.5364999111481384,
          1.0308795443066439,
          0.8374499640478038,
          1.2120928084611706,
          1.0311312646768285,
          1.0311265792494895,
          0.8197984226680398,
          0.2825389059251314,
          1.5598751213062614,
          1.0309232496908682,
          0.8198198965040299,
          1.2120469266252432,
          1.8854091913058864,
          1.212072552073432,
          1.5503485241892188,
          1.2120495808136964,
          1.550286445358297,
          1.2118684002724893,
          1.0311285702560364,
          1.0311232963564387,
          1.0306058675990926,
          0.5862470664118212,
          1.212080146589166,
          0.8188555950210005,
          1.550359601387582,
          1.0310890347416368,
          1.837594546324124,
          0.6260457123248577,
          1.5716009141249667,
          1.8540304799645082,
          1.5056840469257393,
          1.5056441394137867,
          1.9081545211323239,
          1.7711804031945075,
          1.0073877456757092,
          1.771186520425994,
          1.4305888296242102,
          1.908167390250716,
          1.212094921111811,
          0.8198234379985205,
          1.5503404292563259,
          1.0311186726074864,
          1.0311372571923296,
          1.37507707752433,
          1.3825701530967198,
          1.2120839219459478,
          0.4934290365460005,
          1.0311301448161279,
          0.6819937855900142,
          1.0332147478252418,
          0.8374363281771566,
          1.505227107396137,
          1.812853606238284,
          1.0311276609579216,
          1.695273157580112,
          1.442055173800285,
          1.0311354815593599,
          0.6242147718744304,
          1.2120314486858956,
          2.0305109754195447,
          1.4987324079086726,
          1.7711360880812301,
          1.0310615848328057,
          1.29436611550408,
          1.4840532503416695,
          1.0060752125356696,
          1.0310609656711938,
          1.2120837141227565,
          1.4840032898587694,
          1.030846627800264,
          1.0311368252876214,
          1.0007748296331302,
          1.5716155862592103,
          -0.10540388736623073,
          0.5100907275342503,
          1.031089204471777,
          1.5595254113741528,
          0.90672838370436,
          1.2120833691122006,
          1.4728271388817415,
          0.8197688750246521,
          1.4236223497740994,
          1.5056658025093015,
          1.0311368309864524,
          1.0311358729419615,
          0.8196454318644297,
          1.492841087683721,
          1.5503320490784573,
          1.0311253237485074,
          2.0419434888371675,
          1.6953077784398363,
          1.5503328788218291,
          0.6672774611556661,
          1.028856849229127,
          1.090891283917867,
          0.8198252266909328,
          1.0289460765502283,
          0.8198057744163135,
          1.8598291413901236,
          1.0311002926049535,
          1.6612545503030125,
          0.27713848021812004,
          1.4837132845972794,
          0.626113935638622,
          1.759154535389621,
          0.8785791760556724,
          1.4840495826914182,
          1.6953690326299702,
          0.8108393376575821,
          0.8932866037991393,
          1.484026244919821,
          1.0306074247567654,
          1.0007614456738003,
          1.2120791405537323,
          0.8197225615980462,
          1.5502631050933,
          0.9571918424297438,
          1.0007327969295732,
          1.021890620796047,
          1.2497792222865862,
          1.2615231051411022,
          1.1698299814503017,
          1.0062494656404426,
          1.695352356313768,
          1.0311316708199165,
          1.6953655597560942,
          1.4840520106903394,
          1.001099248579442,
          1.0007743495879289,
          1.031099958294293,
          1.4726558983006384,
          1.857494208374415,
          1.2118772591535398,
          1.2120875683225225,
          2.0304708102614617,
          1.017366747909981,
          1.2121730192036904,
          1.0310327928072738,
          1.0311158049804952,
          0.6261391762442094,
          1.0311412181144,
          1.2119683266262213,
          1.0258588471127108,
          0.843055773456645,
          1.2117204826342072,
          1.0311492255017898,
          1.0310535664226244,
          1.2120491836101897,
          1.0310858718369618,
          1.5503683793977825,
          0.6005637066969468,
          0.8374281487338768,
          2.030638680434065,
          0.8176730513356951,
          1.0310584465831283,
          0.49355234096534634,
          1.7711896040443929,
          2.0310097849732203,
          2.03104212262343,
          0.6259340528694667,
          1.5503703085741367,
          1.7247971385804761,
          0.8972464777000438,
          1.0310097882855727,
          0.8198262877210013
         ],
         "z": [
          -0.5818089356445115,
          -0.5822874288475111,
          -0.7330511449215971,
          -0.6002120925714126,
          -0.09460033104450416,
          -0.4313917305360179,
          -0.09897213869024678,
          -0.7252563874100175,
          -0.5818175692584051,
          -0.582079857512456,
          -0.5818614051748942,
          -0.5818089806587339,
          -0.5818094324263546,
          -0.25145110714659447,
          -0.5473780253974759,
          -0.17261185330134796,
          -0.1610507743733316,
          -0.5818534470390938,
          -0.26849907382397037,
          -0.6002157676670692,
          -0.7513915895392262,
          -0.2584642532886002,
          -0.4322081362516597,
          -0.24939305805170459,
          -0.7037064108713526,
          -0.703684695839792,
          -0.36792709644400723,
          -0.5819264564027921,
          -0.5818457376829318,
          -0.5943080386771423,
          -0.26780503317370413,
          -0.6002070597869139,
          0.08504218332361864,
          -0.30686305777154305,
          -0.600208207321578,
          -0.5823635055501436,
          -0.5818357301159673,
          -0.35895913235261767,
          -0.6002103184958879,
          0.08503914310066357,
          -0.7036923436851624,
          -0.5819257933877826,
          -0.0915447501332293,
          -0.14258150073644554,
          -0.43141033405667206,
          -0.5473990609493748,
          -0.24939688013284037,
          -0.7036797411382422,
          -0.24948663248873787,
          -0.58180956145894,
          -0.7036817971465519,
          -0.2677856352912905,
          -0.581814958661283,
          -0.600207704620245,
          -0.6451843752525586,
          -0.601329295170305,
          -0.19110426102584285,
          -0.24943330205127226,
          -0.7036907462511722,
          -0.43146211748842866,
          -0.7252338636983586,
          -0.4028677843742249,
          -0.43139274563620034,
          -0.606322822962492,
          -0.43139274959807683,
          -0.6373101877446852,
          -0.5818150302868204,
          -0.24941443139928093,
          -0.6002321403761774,
          -0.2704707394728438,
          -0.4313940149226565,
          -0.23327720407763908,
          -0.17261903416089852,
          -0.600268460620683,
          -0.4314024817266593,
          -0.4314253267440573,
          -0.6330573556348763,
          -0.6002249299266177,
          0.004936678963723236,
          -0.5822631290435029,
          -0.5818132488482765,
          -0.5818569480313751,
          -0.3712674715615128,
          -0.2680988547653674,
          -0.600216383109311,
          -0.5818321782450004,
          -0.4313913811210859,
          -0.6002075009039511,
          -0.5818111654445238,
          -0.5818097627232227,
          -0.2494576003918714,
          -0.269293914933417,
          -0.8578871625339904,
          -0.17264497527469314,
          -0.5818232286070442,
          -0.6004005486787554,
          -0.1726749895754791,
          -0.3712557881009827,
          -0.6735513889241498,
          -0.17263321069971035,
          -0.8493296156022969,
          -0.20782472297481983,
          -0.600216492748325,
          -0.743031632221776,
          -0.6002089093062594,
          -0.17263343788300634,
          -0.5818182939272541,
          -0.5818122379581542,
          -0.17261903416089852,
          -0.6002128726431408,
          -0.43139636746340565,
          -0.5818193410293157,
          -0.4447555066505524,
          -0.5818151653271035,
          -0.5818485686451019,
          -0.6002076753779789,
          -0.581820249095262,
          -0.26555000113830407,
          -0.5818111152600025,
          -0.5818105276144623,
          -0.2046930045964401,
          -0.5032918879440429,
          -0.5818460336220451,
          -0.4313922042805564,
          -0.6002099749381632,
          -0.5818150511848337,
          -0.581810246157883,
          -0.249389492544475,
          -0.304373811469258,
          -0.37126156146208494,
          -0.5822890596945907,
          -0.24940251098902116,
          -0.6002180473590031,
          -0.7593158015292537,
          -0.6002601416537472,
          -0.17266274519922933,
          -0.6002216111537527,
          -0.17280208734183358,
          -0.6002858130276815,
          -0.581812365109333,
          -0.5818109627658382,
          -0.581862908857078,
          -0.1030412252021636,
          -0.600216530892802,
          -0.2496186448894234,
          -0.17261590086354522,
          -0.5818236870381478,
          -0.7474006287356816,
          -0.09898151877838841,
          0.00490692082433376,
          -0.7913415206244029,
          -0.6330192531087613,
          -0.6330502244232377,
          -0.900839117519837,
          -0.7036889144620888,
          -0.5883533712734573,
          -0.7036885943068113,
          -0.13729849169336758,
          -0.9008563969622597,
          -0.6002129294239918,
          -0.24939418274431696,
          -0.17261444875281481,
          -0.5818198606315977,
          -0.5818109521454462,
          -0.09325342956156646,
          -0.1933345833026811,
          -0.6002116071796186,
          -0.3680248950763436,
          -0.5818102678174557,
          -0.060354313326474035,
          -0.6038143123516938,
          -0.43143462144467903,
          -0.6333204530295937,
          -0.6384781208783384,
          -0.5818109811350328,
          -0.5371352060861935,
          -0.06552788964422035,
          -0.5818167070432712,
          -0.10328746893830487,
          -0.6002310871850601,
          -0.20792158097072655,
          -0.646738114336266,
          -0.7037677756265963,
          -0.5818675418251152,
          -0.30060042914145996,
          -0.2046960183249096,
          -0.5865910251569448,
          -0.5818205893621742,
          -0.6002290078933648,
          -0.2047058046032001,
          -0.5821093105044628,
          -0.5818102184873691,
          -0.267786421305963,
          0.0049448718503830496,
          0.12639143537488462,
          -0.07367531805659899,
          -0.5819215379539665,
          -0.3713957869471993,
          -0.5638277562227968,
          -0.6002093275160669,
          -0.3726000917246901,
          -0.24940285802411644,
          -0.2500050567340076,
          -0.6330255036287135,
          -0.5818094574540407,
          -0.581809708452323,
          -0.24952613578128835,
          -0.06918989893104792,
          -0.17262348995346172,
          -0.5818147611165791,
          -0.316785860059576,
          -0.5371816917221175,
          -0.1726184545734041,
          -0.03981197827588844,
          -0.5826829742300109,
          0.03650047276184974,
          -0.24940319059643393,
          -0.5867062011407919,
          -0.2493909082439553,
          -0.8484842450212376,
          -0.5818226606498933,
          -0.3928207854902779,
          -0.36020070275377425,
          -0.2047238159464271,
          -0.09899639094240098,
          -0.1497260121290501,
          -0.37225150782942845,
          -0.2046918624341093,
          -0.5371141605513933,
          -0.2502932035769661,
          -0.3927749432801305,
          -0.20472125279765915,
          -0.5818649996620209,
          -0.26779458587972177,
          -0.6002228669348154,
          -0.24944521389331936,
          -0.17262469804346345,
          -0.4295927070255684,
          -0.26779070987228226,
          -0.5832285428194977,
          0.00726029433721179,
          -0.04017862328549829,
          0.3152860673748082,
          -0.275121105507703,
          -0.5371293186641114,
          -0.5818163652007746,
          -0.5371201706958053,
          -0.20468925745487904,
          -0.5989731610382157,
          -0.26778477745565576,
          -0.5818222117689645,
          -0.3727083874499365,
          -0.8491156738546685,
          -0.600236213085804,
          -0.6002188092468553,
          -0.20825199356326357,
          -0.590221959669912,
          -0.6003104841018585,
          -0.5818211957479864,
          -0.5818206255289518,
          -0.09896935397236144,
          -0.5818130420214932,
          -0.6004199847419525,
          -0.5827915652200102,
          -0.4390490659796101,
          -0.6004715457190192,
          -0.5818353238662834,
          -0.5820028256423108,
          -0.6003040958259026,
          -0.5818617178720992,
          -0.17261154476164492,
          -0.5168484219709608,
          -0.431427482283058,
          -0.20783163557272213,
          -0.25418710967259384,
          -0.5819325097448576,
          -0.3679292329480945,
          -0.7036783001851493,
          -0.208206992957984,
          -0.20825041291480387,
          -0.0994464763806547,
          -0.17261385384714098,
          -0.34112196582263954,
          -0.1579811875577247,
          -0.5818287416978848,
          -0.24938539811831284
         ]
        },
        {
         "customdata": [
          [
           "SHA-256"
          ],
          [
           "Ethash"
          ],
          [
           "Scrypt"
          ],
          [
           "CryptoNight-V7"
          ],
          [
           "Ethash"
          ],
          [
           "Equihash"
          ],
          [
           "Multiple"
          ],
          [
           "Scrypt"
          ],
          [
           "X11"
          ],
          [
           "Scrypt"
          ],
          [
           "Multiple"
          ],
          [
           "Scrypt"
          ],
          [
           "SHA-256"
          ],
          [
           "Scrypt"
          ],
          [
           "Scrypt"
          ],
          [
           "Quark"
          ],
          [
           "Groestl"
          ],
          [
           "Scrypt"
          ],
          [
           "Scrypt"
          ],
          [
           "Scrypt"
          ],
          [
           "X11"
          ],
          [
           "Multiple"
          ],
          [
           "SHA-256"
          ],
          [
           "Scrypt"
          ],
          [
           "Scrypt"
          ],
          [
           "Scrypt"
          ],
          [
           "Scrypt"
          ],
          [
           "Scrypt"
          ],
          [
           "NeoScrypt"
          ],
          [
           "Scrypt"
          ],
          [
           "Scrypt"
          ],
          [
           "Scrypt"
          ],
          [
           "Scrypt"
          ],
          [
           "SHA-256"
          ],
          [
           "Scrypt"
          ],
          [
           "Scrypt"
          ],
          [
           "Scrypt"
          ],
          [
           "Scrypt"
          ],
          [
           "HybridScryptHash256"
          ],
          [
           "Scrypt"
          ],
          [
           "Scrypt"
          ],
          [
           "SHA-256"
          ],
          [
           "Scrypt"
          ],
          [
           "Scrypt"
          ],
          [
           "Scrypt"
          ],
          [
           "Scrypt"
          ],
          [
           "SHA-256"
          ],
          [
           "SHA-256"
          ],
          [
           "SHA-256"
          ],
          [
           "SHA-256"
          ],
          [
           "SHA-256"
          ],
          [
           "X11"
          ],
          [
           "Scrypt"
          ],
          [
           "Lyra2REv2"
          ],
          [
           "Scrypt"
          ],
          [
           "SHA-256"
          ],
          [
           "CryptoNight"
          ],
          [
           "CryptoNight"
          ],
          [
           "Scrypt"
          ],
          [
           "Scrypt"
          ],
          [
           "Scrypt"
          ],
          [
           "Scrypt"
          ],
          [
           "Scrypt"
          ],
          [
           "Scrypt"
          ],
          [
           "Stanford Folding"
          ],
          [
           "Multiple"
          ],
          [
           "QuBit"
          ],
          [
           "Scrypt"
          ],
          [
           "Scrypt"
          ],
          [
           "M7 POW"
          ],
          [
           "Scrypt"
          ],
          [
           "SHA-256"
          ],
          [
           "Scrypt"
          ],
          [
           "X11"
          ],
          [
           "Lyra2RE"
          ],
          [
           "SHA-256"
          ],
          [
           "X11"
          ],
          [
           "Scrypt"
          ],
          [
           "Scrypt"
          ],
          [
           "Ethash"
          ],
          [
           "Blake2b"
          ],
          [
           "X11"
          ],
          [
           "SHA-256"
          ],
          [
           "Scrypt"
          ],
          [
           "1GB AES Pattern Search"
          ],
          [
           "Scrypt"
          ],
          [
           "SHA-256"
          ],
          [
           "X11"
          ],
          [
           "Dagger"
          ],
          [
           "Scrypt"
          ],
          [
           "X11GOST"
          ],
          [
           "Scrypt"
          ],
          [
           "X11"
          ],
          [
           "Scrypt"
          ],
          [
           "X11"
          ],
          [
           "Equihash"
          ],
          [
           "CryptoNight"
          ],
          [
           "SHA-256"
          ],
          [
           "Multiple"
          ],
          [
           "Scrypt"
          ],
          [
           "SHA-256"
          ],
          [
           "Scrypt"
          ],
          [
           "Lyra2Z"
          ],
          [
           "Ethash"
          ],
          [
           "Equihash"
          ],
          [
           "Scrypt"
          ],
          [
           "X11"
          ],
          [
           "X11"
          ],
          [
           "CryptoNight"
          ],
          [
           "Scrypt"
          ],
          [
           "CryptoNight"
          ],
          [
           "Lyra2RE"
          ],
          [
           "X11"
          ],
          [
           "CryptoNight-V7"
          ],
          [
           "Scrypt"
          ],
          [
           "X11"
          ],
          [
           "Equihash"
          ],
          [
           "Scrypt"
          ],
          [
           "Lyra2RE"
          ],
          [
           "Dagger-Hashimoto"
          ],
          [
           "Scrypt"
          ],
          [
           "NIST5"
          ],
          [
           "Scrypt"
          ],
          [
           "SHA-256"
          ],
          [
           "Scrypt"
          ],
          [
           "CryptoNight-V7"
          ],
          [
           "Argon2d"
          ],
          [
           "Blake2b"
          ],
          [
           "Cloverhash"
          ],
          [
           "CryptoNight"
          ],
          [
           "X11"
          ],
          [
           "Scrypt"
          ],
          [
           "Scrypt"
          ],
          [
           "X11"
          ],
          [
           "X11"
          ],
          [
           "CryptoNight"
          ],
          [
           "Time Travel"
          ],
          [
           "Scrypt"
          ],
          [
           "Keccak"
          ],
          [
           "X11"
          ],
          [
           "SHA-256"
          ],
          [
           "Scrypt"
          ],
          [
           "Scrypt"
          ],
          [
           "Scrypt"
          ],
          [
           "Scrypt"
          ],
          [
           "Scrypt"
          ],
          [
           "Scrypt"
          ],
          [
           "CryptoNight"
          ],
          [
           "Equihash"
          ],
          [
           "X11"
          ],
          [
           "NeoScrypt"
          ],
          [
           "Equihash"
          ],
          [
           "Dagger"
          ],
          [
           "Scrypt"
          ],
          [
           "X11"
          ],
          [
           "NeoScrypt"
          ],
          [
           "Ethash"
          ],
          [
           "NeoScrypt"
          ],
          [
           "Multiple"
          ],
          [
           "CryptoNight"
          ],
          [
           "CryptoNight"
          ],
          [
           "Ethash"
          ],
          [
           "X11"
          ],
          [
           "CryptoNight-V7"
          ],
          [
           "Scrypt"
          ],
          [
           "BLAKE256"
          ],
          [
           "X11"
          ],
          [
           "NeoScrypt"
          ],
          [
           "NeoScrypt"
          ],
          [
           "Scrypt"
          ],
          [
           "X11"
          ],
          [
           "SHA-256"
          ],
          [
           "C11"
          ],
          [
           "CryptoNight"
          ],
          [
           "SkunkHash"
          ],
          [
           "CryptoNight"
          ],
          [
           "Scrypt"
          ],
          [
           "Dagger"
          ],
          [
           "Lyra2REv2"
          ],
          [
           "Scrypt"
          ],
          [
           "Scrypt"
          ],
          [
           "X11"
          ],
          [
           "Ethash"
          ],
          [
           "CryptoNight"
          ],
          [
           "Scrypt"
          ],
          [
           "IMesh"
          ],
          [
           "Equihash"
          ],
          [
           "Lyra2Z"
          ],
          [
           "X11"
          ],
          [
           "CryptoNight"
          ],
          [
           "NIST5"
          ],
          [
           "Lyra2RE"
          ],
          [
           "Tribus"
          ],
          [
           "Lyra2Z"
          ],
          [
           "CryptoNight"
          ],
          [
           "CryptoNight Heavy"
          ],
          [
           "CryptoNight"
          ],
          [
           "Jump Consistent Hash"
          ],
          [
           "CryptoNight"
          ],
          [
           "X16R"
          ],
          [
           "HMQ1725"
          ],
          [
           "X11"
          ],
          [
           "Scrypt"
          ],
          [
           "CryptoNight-V7"
          ],
          [
           "Cryptonight-GPU"
          ],
          [
           "XEVAN"
          ],
          [
           "CryptoNight Heavy"
          ],
          [
           "SHA-256"
          ],
          [
           "X11"
          ],
          [
           "X16R"
          ],
          [
           "Equihash"
          ],
          [
           "Lyra2Z"
          ],
          [
           "SHA-256"
          ],
          [
           "CryptoNight"
          ],
          [
           "Blake"
          ],
          [
           "Blake"
          ],
          [
           "Equihash"
          ],
          [
           "Exosis"
          ],
          [
           "Scrypt"
          ],
          [
           "Equihash"
          ],
          [
           "Equihash"
          ],
          [
           "QuBit"
          ],
          [
           "SHA-256"
          ],
          [
           "X13"
          ],
          [
           "SHA-256"
          ],
          [
           "Scrypt"
          ],
          [
           "NeoScrypt"
          ],
          [
           "Blake"
          ],
          [
           "Scrypt"
          ],
          [
           "SHA-256"
          ],
          [
           "Scrypt"
          ],
          [
           "Groestl"
          ],
          [
           "Scrypt"
          ],
          [
           "Scrypt"
          ],
          [
           "Multiple"
          ],
          [
           "Equihash+Scrypt"
          ],
          [
           "Ethash"
          ],
          [
           "CryptoNight"
          ],
          [
           "Equihash"
          ]
         ],
         "hovertemplate": "<b>%{hovertext}</b><br><br>class=%{marker.color}<br>PC 1=%{x}<br>PC 2=%{y}<br>PC 3=%{z}<br>Algorithm=%{customdata[0]}<extra></extra>",
         "hovertext": [
          "Bitcoin",
          "Ethereum",
          "Litecoin",
          "Monero",
          "Ethereum Classic",
          "ZCash",
          "DigiByte",
          "ProsperCoin",
          "Spreadcoin",
          "Argentum",
          "MyriadCoin",
          "MoonCoin",
          "ZetaCoin",
          "SexCoin",
          "Quatloo",
          "QuarkCoin",
          "Riecoin",
          "Digitalcoin ",
          "Catcoin",
          "CannaCoin",
          "CryptCoin",
          "Verge",
          "DevCoin",
          "EarthCoin",
          "E-Gulden",
          "Einsteinium",
          "Emerald",
          "Franko",
          "FeatherCoin",
          "GrandCoin",
          "GlobalCoin",
          "GoldCoin",
          "Infinite Coin",
          "IXcoin",
          "KrugerCoin",
          "LuckyCoin",
          "Litebar ",
          "MegaCoin",
          "MediterraneanCoin",
          "MinCoin",
          "NobleCoin",
          "Namecoin",
          "NyanCoin",
          "RonPaulCoin",
          "StableCoin",
          "SmartCoin",
          "SysCoin",
          "TigerCoin",
          "TerraCoin",
          "UnbreakableCoin",
          "Unobtanium",
          "UroCoin",
          "ViaCoin",
          "Vertcoin",
          "WorldCoin",
          "JouleCoin",
          "ByteCoin",
          "DigitalNote ",
          "MonaCoin",
          "Gulden",
          "PesetaCoin",
          "Wild Beast Coin",
          "Flo",
          "ArtByte",
          "Folding Coin",
          "Unitus",
          "CypherPunkCoin",
          "OmniCron",
          "GreenCoin",
          "Cryptonite",
          "MasterCoin",
          "SoonCoin",
          "1Credit",
          "MarsCoin ",
          "Crypto",
          "Anarchists Prime",
          "BowsCoin",
          "Song Coin",
          "BitZeny",
          "Expanse",
          "Siacoin",
          "MindCoin",
          "I0coin",
          "Revolution VR",
          "HOdlcoin",
          "Gamecredits",
          "CarpeDiemCoin",
          "Adzcoin",
          "SoilCoin",
          "YoCoin",
          "SibCoin",
          "Francs",
          "BolivarCoin",
          "Omni",
          "PizzaCoin",
          "Komodo",
          "Karbo",
          "ZayedCoin",
          "Circuits of Value",
          "DopeCoin",
          "DollarCoin",
          "Shilling",
          "ZCoin",
          "Elementrem",
          "ZClassic",
          "KiloCoin",
          "ArtexCoin",
          "Kurrent",
          "Cannabis Industry Coin",
          "OsmiumCoin",
          "Bikercoins",
          "HexxCoin",
          "PacCoin",
          "Citadel",
          "BeaverCoin",
          "VaultCoin",
          "Zero",
          "Canada eCoin",
          "Zoin",
          "DubaiCoin",
          "EB3coin",
          "Coinonat",
          "BenjiRolls",
          "ILCoin",
          "EquiTrader",
          "Quantum Resistant Ledger",
          "Dynamic",
          "Nano",
          "ChanCoin",
          "Dinastycoin",
          "DigitalPrice",
          "Unify",
          "SocialCoin",
          "ArcticCoin",
          "DAS",
          "LeviarCoin",
          "Bitcore",
          "gCn Coin",
          "SmartCash",
          "Onix",
          "Bitcoin Cash",
          "Sojourn Coin",
          "NewYorkCoin",
          "FrazCoin",
          "Kronecoin",
          "AdCoin",
          "Linx",
          "Sumokoin",
          "BitcoinZ",
          "Elements",
          "VIVO Coin",
          "Bitcoin Gold",
          "Pirl",
          "eBoost",
          "Pura",
          "Innova",
          "Ellaism",
          "GoByte",
          "SHIELD",
          "UltraNote",
          "BitCoal",
          "DaxxCoin",
          "AC3",
          "Lethean",
          "PopularCoin",
          "Photon",
          "Sucre",
          "SparksPay",
          "GunCoin",
          "IrishCoin",
          "Pioneer Coin",
          "UnitedBitcoin",
          "Interzone",
          "TurtleCoin",
          "MUNcoin",
          "Niobio Cash",
          "ShareChain",
          "Travelflex",
          "KREDS",
          "BitFlip",
          "LottoCoin",
          "Crypto Improvement Fund",
          "Callisto Network",
          "BitTube",
          "Poseidon",
          "Aidos Kuneen",
          "Bitrolium",
          "Alpenschillling",
          "FuturoCoin",
          "Monero Classic",
          "Jumpcoin",
          "Infinex",
          "KEYCO",
          "GINcoin",
          "PlatinCoin",
          "Loki",
          "Newton Coin",
          "MassGrid",
          "PluraCoin",
          "Motion",
          "PlusOneCoin",
          "Axe",
          "HexCoin",
          "Webchain",
          "Ryo",
          "Urals Coin",
          "Qwertycoin",
          "Project Pai",
          "Azart",
          "Xchange",
          "CrypticCoin",
          "Actinium",
          "Bitcoin SV",
          "FREDEnergy",
          "Universal Molecule",
          "Lithium",
          "PirateCash",
          "Exosis",
          "Block-Logic",
          "Beam",
          "Bithereum",
          "SLICE",
          "BLAST",
          "Bitcoin Rhodium",
          "GlobalToken",
          "SolarCoin",
          "UFO Coin",
          "BlakeCoin",
          "Crypto Escudo",
          "Crown Coin",
          "SmileyCoin",
          "Groestlcoin",
          "Bata",
          "Pakcoin",
          "JoinCoin",
          "Vollar",
          "Reality Clash",
          "Beldex",
          "Horizen"
         ],
         "legendgroup": "0",
         "marker": {
          "color": [
           0,
           0,
           0,
           0,
           0,
           0,
           0,
           0,
           0,
           0,
           0,
           0,
           0,
           0,
           0,
           0,
           0,
           0,
           0,
           0,
           0,
           0,
           0,
           0,
           0,
           0,
           0,
           0,
           0,
           0,
           0,
           0,
           0,
           0,
           0,
           0,
           0,
           0,
           0,
           0,
           0,
           0,
           0,
           0,
           0,
           0,
           0,
           0,
           0,
           0,
           0,
           0,
           0,
           0,
           0,
           0,
           0,
           0,
           0,
           0,
           0,
           0,
           0,
           0,
           0,
           0,
           0,
           0,
           0,
           0,
           0,
           0,
           0,
           0,
           0,
           0,
           0,
           0,
           0,
           0,
           0,
           0,
           0,
           0,
           0,
           0,
           0,
           0,
           0,
           0,
           0,
           0,
           0,
           0,
           0,
           0,
           0,
           0,
           0,
           0,
           0,
           0,
           0,
           0,
           0,
           0,
           0,
           0,
           0,
           0,
           0,
           0,
           0,
           0,
           0,
           0,
           0,
           0,
           0,
           0,
           0,
           0,
           0,
           0,
           0,
           0,
           0,
           0,
           0,
           0,
           0,
           0,
           0,
           0,
           0,
           0,
           0,
           0,
           0,
           0,
           0,
           0,
           0,
           0,
           0,
           0,
           0,
           0,
           0,
           0,
           0,
           0,
           0,
           0,
           0,
           0,
           0,
           0,
           0,
           0,
           0,
           0,
           0,
           0,
           0,
           0,
           0,
           0,
           0,
           0,
           0,
           0,
           0,
           0,
           0,
           0,
           0,
           0,
           0,
           0,
           0,
           0,
           0,
           0,
           0,
           0,
           0,
           0,
           0,
           0,
           0,
           0,
           0,
           0,
           0,
           0,
           0,
           0,
           0,
           0,
           0,
           0,
           0,
           0,
           0,
           0,
           0,
           0,
           0,
           0,
           0,
           0,
           0,
           0,
           0,
           0,
           0,
           0,
           0,
           0,
           0,
           0,
           0,
           0,
           0,
           0,
           0,
           0,
           0,
           0,
           0,
           0,
           0,
           0,
           0,
           0,
           0,
           0,
           0
          ],
          "coloraxis": "coloraxis",
          "symbol": "diamond"
         },
         "mode": "markers",
         "name": "0",
         "scene": "scene",
         "showlegend": true,
         "type": "scatter3d",
         "x": [
          -0.14633430968731953,
          -0.1530905419174282,
          -0.15852752078540527,
          -0.1647535231117864,
          -0.15153215440288423,
          -0.14138607229620198,
          0.16714585900645326,
          -0.15967391297180294,
          -0.23172203611992864,
          -0.15929036563902108,
          -0.08630179738666836,
          2.562941658081266,
          -0.14341887678660592,
          -0.1565453429657757,
          -0.1590943277247508,
          -0.23222524465542885,
          -0.21660250385666235,
          -0.1591431859603964,
          -0.15965617825324224,
          -0.15974265011122973,
          -0.23181138546607738,
          0.1908887721218912,
          0.23156239532320963,
          0.08902010628164052,
          -0.15948892160157627,
          -0.15509359543358256,
          -0.1594281947594868,
          -0.15979965857885728,
          -0.17703982889337025,
          -0.1390188145563655,
          -0.1585946177069071,
          -0.15887207320675514,
          1.5893308676276794,
          -0.14629567751325948,
          -0.15616103486760397,
          -0.1595153659432334,
          -0.1598702250552601,
          -0.15912937747735612,
          -0.143380277493062,
          -0.15975147232122144,
          -0.024626396190711542,
          -0.146373291278853,
          -0.15341458656772688,
          -0.15973089476796767,
          -0.1578247741911165,
          -0.15921756676771268,
          -0.13352341091070466,
          -0.1458369942767729,
          -0.14612421938262257,
          -0.14610714105837733,
          -0.1466980032096157,
          -0.2319853167017312,
          -0.15944736911440294,
          -0.18447230878198587,
          -0.15655003174283835,
          -0.14590429516320097,
          3.86092047418805,
          0.45946065389722074,
          -0.15831478112815975,
          -0.14291044916450915,
          -0.15703344479716974,
          -0.15987243235542684,
          -0.15689848907402923,
          -0.14312017215731568,
          -0.12083325870637973,
          -0.1203130881118209,
          -0.18302602032012538,
          -0.15974550348112057,
          -0.032661751675753414,
          -0.11044835168787656,
          -0.15988132857381743,
          -0.14640106997311897,
          0.49245366097941945,
          -0.23137242283677234,
          -0.1453363614395092,
          -0.14614086747925822,
          -0.2316573533589881,
          -0.15800468794362163,
          -0.15719683043761065,
          -0.15415801754661962,
          0.3560054513365102,
          -0.23169275981206894,
          -0.14629679991204975,
          -0.15583867591575748,
          -0.1666704844809217,
          -0.158444483814265,
          0.2722400897894719,
          -0.23085333490251733,
          -0.1477080810722574,
          -0.15869178235906395,
          -0.15307509834945568,
          -0.15967119960075712,
          -0.2316559869979602,
          -0.15988138707609575,
          -0.23180596450156687,
          -0.22470862330878646,
          0.3043424173922837,
          -0.1465569144256264,
          -0.10038274936091218,
          -0.15704765181193647,
          -0.1465155408507802,
          -0.15954472488345664,
          -0.17191784805387153,
          -0.15390014823802783,
          -0.1414076902949182,
          -0.08658796344836836,
          -0.21838792790429895,
          -0.22963369124881014,
          0.3043367988339681,
          -0.15986312074146253,
          0.3044675269645833,
          -0.14587691986336576,
          0.4836318262732124,
          -0.16351787464382286,
          -0.15983140544976113,
          -0.22453813123511424,
          -0.14142007209731675,
          -0.15796443407537536,
          -0.14559526989906307,
          -0.16989173127165177,
          -0.13074736590974392,
          -0.19487640754333824,
          -0.1593937117639849,
          -0.11287656324056311,
          -0.15921571015658884,
          -0.16337573301172437,
          -0.15781203922451312,
          -0.0443145955472464,
          -0.16472097252897755,
          0.34046357545517386,
          -0.2308617030838952,
          -0.15953507030683642,
          -0.15929835102350845,
          -0.23125646471212905,
          -0.23183400812453903,
          0.30473185677132664,
          -0.15635560248576966,
          3.2502885884770554,
          -0.11799118512192523,
          -0.22270399798031762,
          -0.14633347386786488,
          -0.08543484335326583,
          1.5872144154296373,
          -0.1596329209815043,
          -0.15908443724077856,
          -0.15878537363553635,
          -0.158772303986546,
          0.304915530654646,
          0.07094923221353537,
          -0.1862160801850715,
          -0.18172926798773337,
          -0.14126611017716328,
          -0.14646691983206822,
          -0.15796264315142378,
          -0.2273777094722202,
          -0.1815746442596379,
          -0.15226487187603488,
          -0.1816748749393693,
          -0.11054341635083914,
          1.1424521721090168,
          0.30431955413274603,
          -0.07713523894091193,
          -0.22711895214780387,
          -0.15248588996582207,
          -0.0760091950694561,
          1.104700208642582,
          -0.23180800414423974,
          -0.18172683613510932,
          -0.17476363323157193,
          -0.15888381854037448,
          -0.23173340318215094,
          -0.14631287169426924,
          -0.20248349277498096,
          8.04409954050593,
          -0.12584870248224642,
          0.3081946728935789,
          0.03318353658215659,
          -0.14597020349363424,
          -0.17002809585910122,
          -0.15945760703041117,
          0.14766161617828907,
          -0.22587329217709776,
          -0.10529138936601386,
          0.3122446168094395,
          -0.1596946585764914,
          -0.14256422928521767,
          -0.14025707828568634,
          -0.16970081801880235,
          -0.23090247737860536,
          0.3045020904997543,
          -0.19493591503300736,
          -0.1457221255132737,
          -0.16623826311939444,
          -0.1720022456857269,
          0.30843140699988253,
          0.5777641901282016,
          2.1133614598270003,
          -0.1469652804519359,
          0.3181092112003918,
          -0.202921457903216,
          -0.1452148348758782,
          -0.23179016164237354,
          -0.15971923979091074,
          -0.15236457311813742,
          -0.14773757476116856,
          -0.11904063388657725,
          3.1007279891353745,
          -0.10615609699474039,
          -0.23176151961240754,
          -0.20234903096140994,
          -0.03599551853981134,
          -0.17139985416423412,
          -0.14633351143503684,
          0.38427867614722105,
          -0.14800805668483197,
          -0.14840022545180606,
          -0.2644028448631464,
          -0.1588085899288632,
          -0.15861133112726766,
          -0.13932574247832996,
          -0.14109890569891667,
          -0.18223679924405062,
          -0.14560955254255623,
          -0.11672815963371605,
          -0.14447727471749403,
          0.5363847876012456,
          -0.10688269981934212,
          -0.09885235340572904,
          -0.14327076520668966,
          -0.14612358980464035,
          0.5560691198432068,
          -0.21616345052207364,
          -0.15979610877157316,
          -0.15775144628222412,
          -0.12104800293854232,
          -0.12699840186737385,
          -0.15393331101592508,
          0.32607987138788846,
          -0.14138712929287925
         ],
         "y": [
          -1.3078082576677303,
          -2.0393210772947112,
          -1.1141496607253243,
          -2.1933976146386187,
          -2.039431089804908,
          -2.0942135877852355,
          -1.836807509893329,
          -1.1141343021747343,
          -0.9331742287034142,
          -1.1141551534024616,
          -1.8297767921061159,
          -1.318586131046844,
          -1.3078391297872365,
          -1.11421712110389,
          -1.114175861076272,
          -0.44994231197554097,
          -1.2830576857265736,
          -1.1141399788970021,
          -1.1141338412176065,
          -1.1141304551101556,
          -0.9331751175502808,
          -1.8330044290170493,
          -1.3130227726201078,
          -1.1173313909980636,
          -1.114129493917396,
          -1.1142150763973417,
          -1.114135799783378,
          -1.114130572033716,
          -1.6517917329751872,
          -1.114600611298653,
          -1.1141413701749063,
          -1.1141501913493639,
          -1.1335971582011,
          -1.3078072535482743,
          -1.1142181851275736,
          -1.1141294645018347,
          -1.114125320512568,
          -1.1141352005006022,
          -2.1641315040727602,
          -1.1141284338157924,
          -1.1213603944362218,
          -1.3078092708691775,
          -1.1141981045050875,
          -1.1141357832337655,
          -1.1142503758150193,
          -1.1141440868112908,
          -1.3080967029123285,
          -1.3078139756633438,
          -1.3078178488236283,
          -1.3078446414808087,
          -1.3078028381226725,
          -0.933166736809579,
          -1.114129847396578,
          -1.2519812645025448,
          -1.1142282958536995,
          -1.3078142828531363,
          -2.3614014235605394,
          -2.324761678423817,
          -1.114159269029967,
          -1.1148876802824623,
          -1.114169877293392,
          -1.1141262938925534,
          -1.1141617923777367,
          -1.1144057404026484,
          -2.21518117276119,
          -1.8292273037098483,
          -1.6087288024725908,
          -1.1141235275714103,
          -1.1179854906978721,
          -2.221800541242931,
          -1.114125085510249,
          -1.3078099928872393,
          -1.1631104150963245,
          -0.9331744593957316,
          -2.195316486477514,
          -1.3078267105340435,
          -0.93317326423391,
          -1.1142265540600513,
          -1.1142340544311773,
          -2.0393609405837663,
          -2.2349448952275255,
          -0.9331706007540648,
          -1.3078072827214313,
          -1.1141700835041914,
          -2.2489446692139836,
          -1.114147502445588,
          -1.3124143734905498,
          -0.9331975216915002,
          -2.269265476738617,
          -1.1142143890909961,
          -2.2677125956383786,
          -1.1141335148979503,
          -0.9331760957253629,
          -1.1141250848590714,
          -0.93317999390954,
          -1.6594606059199,
          -2.321633132914463,
          -1.3078059700760938,
          -1.8295693801651272,
          -1.1141943394409488,
          -1.3078055414260756,
          -1.1141373951073859,
          -2.1867665747794516,
          -2.039360903271272,
          -2.0942141496757753,
          -1.1193871296130857,
          -0.933171692002474,
          -0.93326903316906,
          -2.321641163216335,
          -1.1141261137126255,
          -2.3216406323634957,
          -2.195290549643382,
          -0.9862417050479849,
          -2.193498096930023,
          -1.1141257521917574,
          -0.9336899225154565,
          -2.0942116044953907,
          -1.114146493114812,
          -2.1952911133220945,
          -2.1024616254117783,
          -1.1162344032072957,
          -0.6395975426369711,
          -1.1141374267601598,
          -1.3087154575957816,
          -1.1141589469838928,
          -2.19343706230168,
          -2.213413063366811,
          -2.2455938287480066,
          -2.1523193922336246,
          -2.322120614562288,
          -0.9332092072180381,
          -1.1141294582989507,
          -1.1141632452223902,
          -0.9331907977241717,
          -0.9331763506299944,
          -2.3216545477487514,
          -2.2035480513330783,
          -1.1688384933686546,
          -1.1898285193698803,
          -0.933713925244832,
          -1.3078082359432865,
          -1.1197155336578692,
          -1.0687144911670863,
          -1.1141325199680154,
          -1.1141641359823606,
          -1.114167830805644,
          -1.1141674911020376,
          -2.3216747803948015,
          -2.1037313403315583,
          -0.9332672648354706,
          -1.6516921437192293,
          -2.09421046975471,
          -2.2693237472613164,
          -1.114146446565488,
          -0.9332978398300645,
          -1.6517010262966638,
          -2.039500307043993,
          -1.6516941703531443,
          -1.8294464283553327,
          -2.3607658599761554,
          -2.3216355190500795,
          -2.044514376872591,
          -0.933434464544622,
          -2.1937951366437565,
          -1.1155284114260418,
          -1.2232973119882886,
          -0.9331763198161963,
          -1.6516877800025813,
          -1.6518501178001486,
          -1.1141445865145683,
          -0.933176674407958,
          -1.3078071026851892,
          -1.2385364657002198,
          -2.8372072094444842,
          -2.086661315230829,
          -2.321766666846698,
          -1.1162740536179807,
          -2.2692704787833775,
          -1.25233405294406,
          -1.1141422982722766,
          -1.1193242777332344,
          -0.9333662500386206,
          -2.042737575774047,
          -2.3221373244780166,
          -1.1141348413901897,
          -2.2210819583018875,
          -2.0942193640259155,
          -2.1869086371362902,
          -0.9332102670150519,
          -2.321635003435974,
          -0.6395795564339767,
          -2.1952981949743426,
          -2.2045892687290327,
          -2.1867609558348704,
          -2.3219497364454615,
          -2.2444141313790666,
          -2.406488576314829,
          -2.2081097839071306,
          -2.321984893156585,
          -1.266660882671533,
          -2.1869244276677566,
          -0.9331767161592749,
          -1.1141362724988282,
          -2.194329918580349,
          -2.186516681170395,
          -0.6725112915900908,
          -2.3109493986616054,
          -1.3082540800679923,
          -0.9331788387071963,
          -1.2667018566207684,
          -2.0969065572730887,
          -2.186797979827716,
          -1.3078082369197248,
          -2.325339630100791,
          -2.1869771422225663,
          -2.186930073260852,
          -0.16030464713378925,
          -2.2117037759058364,
          -1.114177642156984,
          -2.0943333466098712,
          -2.0942132096149835,
          -1.6087799643426617,
          -1.3078202402407744,
          -0.3740742354885654,
          -1.3078653524565809,
          -1.1663407499410463,
          -1.6525944005759148,
          -2.190641412310981,
          -1.1144096545859636,
          -1.3078178324597678,
          -1.1313533762105015,
          -1.28306132572287,
          -1.1141260102401231,
          -1.1141997307955793,
          -1.8292484123675838,
          -2.1990088970798483,
          -2.039360534142687,
          -2.322064581528241,
          -2.094213615258473
         ],
         "z": [
          0.1801791149869615,
          0.40550053931428237,
          0.029737556607163793,
          0.47412588568266706,
          0.4054868298830336,
          0.40149547986239187,
          0.35824385675788545,
          0.02976536175568269,
          0.01136499746319517,
          0.029760305361331934,
          0.3634086882940104,
          0.009125090603794033,
          0.18010619020323915,
          0.029700534321678695,
          0.02976043701255104,
          0.07434258139635964,
          0.06417586314897838,
          0.029752101823047238,
          0.02976474282578392,
          0.029766238144540293,
          0.01136772829357614,
          0.35655424289864107,
          0.17105442903972348,
          0.023697004516002523,
          0.02975890567972627,
          0.029659514157286595,
          0.029758917066783328,
          0.0297678588588361,
          0.2435453327569375,
          0.029315618640983695,
          0.02973718642796212,
          0.029747304435479856,
          -0.013728479887041563,
          0.18017776674974428,
          0.029690109252200097,
          0.02975963486845826,
          0.029768406687872243,
          0.02975042555438535,
          0.5240679179779294,
          0.029765937811952053,
          0.027953743815250346,
          0.1801804754186152,
          0.02960812500959821,
          0.029767350382523775,
          0.02974518562169241,
          0.029755285353348915,
          0.1798999620932886,
          0.1801667975595887,
          0.18017585070065947,
          0.1801826153251692,
          0.18018778834884588,
          0.011370311756068853,
          0.029757842927978603,
          0.21878511493320443,
          0.02970368498478855,
          0.1801687565951528,
          0.3525495734657587,
          0.43746370446723937,
          0.02973422310436586,
          0.02950167834055778,
          0.02970137261689545,
          0.02976873127135206,
          0.029695425775745205,
          0.029377280698337303,
          0.4110110648134433,
          0.36420825729428474,
          0.10830041007773765,
          0.029764445523230355,
          0.027265666242399584,
          0.38489007794389035,
          0.02976865269028646,
          0.1801814448765956,
          0.024822987839785805,
          0.0113553143077835,
          0.45651549431090177,
          0.18017870963462232,
          0.011362933779026661,
          0.029743762931317794,
          0.02972327080175199,
          0.40554106829463404,
          0.42137884806553666,
          0.011363200934581152,
          0.18017780592071658,
          0.029668124061835142,
          0.32602390374505513,
          0.0297346586720213,
          0.16975611572484883,
          0.011347077246290417,
          0.35604505375893786,
          0.029759628177423936,
          0.3538913169490867,
          0.02976507335960689,
          0.01136366089884832,
          0.029768654145062294,
          0.011368895014114675,
          0.3932270680350301,
          0.4409421526247882,
          0.18018470189384422,
          0.3637451431830673,
          0.029708379505369947,
          0.18018343275979182,
          0.02976259648825796,
          0.467406562824136,
          0.40553387008226083,
          0.4014962343161895,
          0.02914765521747724,
          0.010992622532168237,
          0.011332405469721826,
          0.4409444794222555,
          0.029768423015913443,
          0.44094069190223556,
          0.4565235530234751,
          0.005765871602445931,
          0.474118597099082,
          0.029767441248892273,
          0.011304111157926722,
          0.40149589162795574,
          0.029721004474621164,
          0.45651585434048947,
          0.5305229132343112,
          0.029526581663351724,
          -0.021445961438330875,
          0.029758395538947335,
          0.17949164720280986,
          0.02975924954440651,
          0.4740981403522475,
          0.36201408992368744,
          0.43541566493659983,
          0.3403958528675329,
          0.4400670136434372,
          0.011350468509918648,
          0.02976018245293293,
          0.029762714759460452,
          0.011356497379417978,
          0.011368692140437106,
          0.44093708430316486,
          0.4074472399816963,
          -0.0505038868004978,
          0.18078256116348151,
          0.011259471248347233,
          0.18017908581741687,
          0.029204262706267036,
          -0.03120394841298912,
          0.029763737461218465,
          0.0297569926215732,
          0.02974965472003326,
          0.029749198597963877,
          0.4409374322270929,
          0.3981487768329001,
          0.010121658011161981,
          0.24364913738717317,
          0.40149129326411204,
          0.35602620382528216,
          0.029720941972564714,
          0.011277304753935043,
          0.24364722774387118,
          0.405525960322199,
          0.2436481688718082,
          0.3639951450492888,
          0.42815534623665286,
          0.4409434347904325,
          0.40478676197208274,
          0.01130701454086956,
          0.473891354231093,
          0.027809957084390335,
          0.1910480917464693,
          0.01136795894990101,
          0.2436478903097608,
          0.24349766204157927,
          0.02974611713760286,
          0.011365975269802635,
          0.18017820526841705,
          0.0477496491513695,
          0.36452906097380205,
          0.4846969060478901,
          0.44087085806680854,
          0.024967709414193132,
          0.3559979620716728,
          0.2184778219436603,
          0.029761493145332187,
          0.022600942791348562,
          0.011253856773787986,
          0.40509143862190383,
          0.4408581353296906,
          0.02976608576350801,
          0.3673765079638415,
          0.40146557008145733,
          0.4673831551106406,
          0.011351891505723207,
          0.44093820722970606,
          -0.021449163412343094,
          0.45652130425965953,
          0.41008735001807517,
          0.4674073969020428,
          0.44091373342838935,
          0.4490551623784449,
          0.4134476785585582,
          0.47462909220193283,
          0.44065346488049206,
          0.23934190694187243,
          0.5158739123650611,
          0.011367568699910449,
          0.02976715772236626,
          0.4740324967060446,
          0.5461759811482585,
          0.23896362154346792,
          0.39670841188882744,
          0.17917962690291514,
          0.011367343917001739,
          0.23933702365442783,
          0.3992854811435775,
          0.46740061087832396,
          0.18017908712848626,
          0.4397155991989198,
          0.43635407923746494,
          0.43635229064310327,
          0.12233412647941919,
          0.5158036112596374,
          0.029747454776657238,
          0.40147041267719397,
          0.40148737286921754,
          0.10829223690920355,
          0.18016215059679105,
          -0.09210095983715913,
          0.18014277978047677,
          0.02447139819194906,
          0.24180661684923258,
          0.43597412456648954,
          0.02938253629574209,
          0.18017582872880614,
          0.01446739897951489,
          0.06416460820500268,
          0.02976652708828071,
          0.029729454842835793,
          0.3642344476970738,
          0.19755575862059208,
          0.40553469474092235,
          0.4404528177449949,
          0.40149551675087425
         ]
        },
        {
         "customdata": [
          [
           "VeChainThor Authority"
          ],
          [
           "Proof-of-BibleHash"
          ],
          [
           "SHA-256 + Hive"
          ],
          [
           "Proof-of-Authority"
          ],
          [
           "ECC 256K1"
          ],
          [
           "SHA3-256"
          ],
          [
           "Leased POS"
          ]
         ],
         "hovertemplate": "<b>%{hovertext}</b><br><br>class=%{marker.color}<br>PC 1=%{x}<br>PC 2=%{y}<br>PC 3=%{z}<br>Algorithm=%{customdata[0]}<extra></extra>",
         "hovertext": [
          "Vechain",
          "BiblePay",
          "LitecoinCash",
          "Poa Network",
          "Acute Angle Cloud",
          "Fiii",
          "Waves"
         ],
         "legendgroup": "3",
         "marker": {
          "color": [
           3,
           3,
           3,
           3,
           3,
           3,
           3
          ],
          "coloraxis": "coloraxis",
          "symbol": "square"
         },
         "mode": "markers",
         "name": "3",
         "scene": "scene",
         "showlegend": true,
         "type": "scatter3d",
         "x": [
          4.397960857063633,
          -0.09580404562209209,
          -0.35124565297667815,
          -0.47865118022606806,
          -0.36965535440051034,
          -0.5442516801694047,
          -0.49732313806055917
         ],
         "y": [
          2.690968846026093,
          3.977615746533208,
          3.2317441197512204,
          2.4416702834142443,
          2.9486853200981815,
          2.8501714181194093,
          2.871556215333116
         ],
         "z": [
          8.607918596547119,
          14.251949830464085,
          11.586298157512633,
          6.152119736890039,
          14.250501024307505,
          10.553895730661571,
          14.855342144190024
         ]
        },
        {
         "customdata": [
          [
           "TRC10"
          ]
         ],
         "hovertemplate": "<b>%{hovertext}</b><br><br>class=%{marker.color}<br>PC 1=%{x}<br>PC 2=%{y}<br>PC 3=%{z}<br>Algorithm=%{customdata[0]}<extra></extra>",
         "hovertext": [
          "BitTorrent"
         ],
         "legendgroup": "2",
         "marker": {
          "color": [
           2
          ],
          "coloraxis": "coloraxis",
          "symbol": "x"
         },
         "mode": "markers",
         "name": "2",
         "scene": "scene",
         "showlegend": true,
         "type": "scatter3d",
         "x": [
          34.071893493662714
         ],
         "y": [
          1.5936126405067692
         ],
         "z": [
          -1.2187545213844049
         ]
        }
       ],
       "layout": {
        "coloraxis": {
         "colorbar": {
          "title": {
           "text": "class"
          }
         },
         "colorscale": [
          [
           0,
           "#0d0887"
          ],
          [
           0.1111111111111111,
           "#46039f"
          ],
          [
           0.2222222222222222,
           "#7201a8"
          ],
          [
           0.3333333333333333,
           "#9c179e"
          ],
          [
           0.4444444444444444,
           "#bd3786"
          ],
          [
           0.5555555555555556,
           "#d8576b"
          ],
          [
           0.6666666666666666,
           "#ed7953"
          ],
          [
           0.7777777777777778,
           "#fb9f3a"
          ],
          [
           0.8888888888888888,
           "#fdca26"
          ],
          [
           1,
           "#f0f921"
          ]
         ]
        },
        "legend": {
         "title": {
          "text": "class"
         },
         "tracegroupgap": 0,
         "x": 0,
         "y": 1
        },
        "margin": {
         "t": 60
        },
        "scene": {
         "domain": {
          "x": [
           0,
           1
          ],
          "y": [
           0,
           1
          ]
         },
         "xaxis": {
          "title": {
           "text": "PC 1"
          }
         },
         "yaxis": {
          "title": {
           "text": "PC 2"
          }
         },
         "zaxis": {
          "title": {
           "text": "PC 3"
          }
         }
        },
        "template": {
         "data": {
          "bar": [
           {
            "error_x": {
             "color": "#2a3f5f"
            },
            "error_y": {
             "color": "#2a3f5f"
            },
            "marker": {
             "line": {
              "color": "#E5ECF6",
              "width": 0.5
             }
            },
            "type": "bar"
           }
          ],
          "barpolar": [
           {
            "marker": {
             "line": {
              "color": "#E5ECF6",
              "width": 0.5
             }
            },
            "type": "barpolar"
           }
          ],
          "carpet": [
           {
            "aaxis": {
             "endlinecolor": "#2a3f5f",
             "gridcolor": "white",
             "linecolor": "white",
             "minorgridcolor": "white",
             "startlinecolor": "#2a3f5f"
            },
            "baxis": {
             "endlinecolor": "#2a3f5f",
             "gridcolor": "white",
             "linecolor": "white",
             "minorgridcolor": "white",
             "startlinecolor": "#2a3f5f"
            },
            "type": "carpet"
           }
          ],
          "choropleth": [
           {
            "colorbar": {
             "outlinewidth": 0,
             "ticks": ""
            },
            "type": "choropleth"
           }
          ],
          "contour": [
           {
            "colorbar": {
             "outlinewidth": 0,
             "ticks": ""
            },
            "colorscale": [
             [
              0,
              "#0d0887"
             ],
             [
              0.1111111111111111,
              "#46039f"
             ],
             [
              0.2222222222222222,
              "#7201a8"
             ],
             [
              0.3333333333333333,
              "#9c179e"
             ],
             [
              0.4444444444444444,
              "#bd3786"
             ],
             [
              0.5555555555555556,
              "#d8576b"
             ],
             [
              0.6666666666666666,
              "#ed7953"
             ],
             [
              0.7777777777777778,
              "#fb9f3a"
             ],
             [
              0.8888888888888888,
              "#fdca26"
             ],
             [
              1,
              "#f0f921"
             ]
            ],
            "type": "contour"
           }
          ],
          "contourcarpet": [
           {
            "colorbar": {
             "outlinewidth": 0,
             "ticks": ""
            },
            "type": "contourcarpet"
           }
          ],
          "heatmap": [
           {
            "colorbar": {
             "outlinewidth": 0,
             "ticks": ""
            },
            "colorscale": [
             [
              0,
              "#0d0887"
             ],
             [
              0.1111111111111111,
              "#46039f"
             ],
             [
              0.2222222222222222,
              "#7201a8"
             ],
             [
              0.3333333333333333,
              "#9c179e"
             ],
             [
              0.4444444444444444,
              "#bd3786"
             ],
             [
              0.5555555555555556,
              "#d8576b"
             ],
             [
              0.6666666666666666,
              "#ed7953"
             ],
             [
              0.7777777777777778,
              "#fb9f3a"
             ],
             [
              0.8888888888888888,
              "#fdca26"
             ],
             [
              1,
              "#f0f921"
             ]
            ],
            "type": "heatmap"
           }
          ],
          "heatmapgl": [
           {
            "colorbar": {
             "outlinewidth": 0,
             "ticks": ""
            },
            "colorscale": [
             [
              0,
              "#0d0887"
             ],
             [
              0.1111111111111111,
              "#46039f"
             ],
             [
              0.2222222222222222,
              "#7201a8"
             ],
             [
              0.3333333333333333,
              "#9c179e"
             ],
             [
              0.4444444444444444,
              "#bd3786"
             ],
             [
              0.5555555555555556,
              "#d8576b"
             ],
             [
              0.6666666666666666,
              "#ed7953"
             ],
             [
              0.7777777777777778,
              "#fb9f3a"
             ],
             [
              0.8888888888888888,
              "#fdca26"
             ],
             [
              1,
              "#f0f921"
             ]
            ],
            "type": "heatmapgl"
           }
          ],
          "histogram": [
           {
            "marker": {
             "colorbar": {
              "outlinewidth": 0,
              "ticks": ""
             }
            },
            "type": "histogram"
           }
          ],
          "histogram2d": [
           {
            "colorbar": {
             "outlinewidth": 0,
             "ticks": ""
            },
            "colorscale": [
             [
              0,
              "#0d0887"
             ],
             [
              0.1111111111111111,
              "#46039f"
             ],
             [
              0.2222222222222222,
              "#7201a8"
             ],
             [
              0.3333333333333333,
              "#9c179e"
             ],
             [
              0.4444444444444444,
              "#bd3786"
             ],
             [
              0.5555555555555556,
              "#d8576b"
             ],
             [
              0.6666666666666666,
              "#ed7953"
             ],
             [
              0.7777777777777778,
              "#fb9f3a"
             ],
             [
              0.8888888888888888,
              "#fdca26"
             ],
             [
              1,
              "#f0f921"
             ]
            ],
            "type": "histogram2d"
           }
          ],
          "histogram2dcontour": [
           {
            "colorbar": {
             "outlinewidth": 0,
             "ticks": ""
            },
            "colorscale": [
             [
              0,
              "#0d0887"
             ],
             [
              0.1111111111111111,
              "#46039f"
             ],
             [
              0.2222222222222222,
              "#7201a8"
             ],
             [
              0.3333333333333333,
              "#9c179e"
             ],
             [
              0.4444444444444444,
              "#bd3786"
             ],
             [
              0.5555555555555556,
              "#d8576b"
             ],
             [
              0.6666666666666666,
              "#ed7953"
             ],
             [
              0.7777777777777778,
              "#fb9f3a"
             ],
             [
              0.8888888888888888,
              "#fdca26"
             ],
             [
              1,
              "#f0f921"
             ]
            ],
            "type": "histogram2dcontour"
           }
          ],
          "mesh3d": [
           {
            "colorbar": {
             "outlinewidth": 0,
             "ticks": ""
            },
            "type": "mesh3d"
           }
          ],
          "parcoords": [
           {
            "line": {
             "colorbar": {
              "outlinewidth": 0,
              "ticks": ""
             }
            },
            "type": "parcoords"
           }
          ],
          "pie": [
           {
            "automargin": true,
            "type": "pie"
           }
          ],
          "scatter": [
           {
            "marker": {
             "colorbar": {
              "outlinewidth": 0,
              "ticks": ""
             }
            },
            "type": "scatter"
           }
          ],
          "scatter3d": [
           {
            "line": {
             "colorbar": {
              "outlinewidth": 0,
              "ticks": ""
             }
            },
            "marker": {
             "colorbar": {
              "outlinewidth": 0,
              "ticks": ""
             }
            },
            "type": "scatter3d"
           }
          ],
          "scattercarpet": [
           {
            "marker": {
             "colorbar": {
              "outlinewidth": 0,
              "ticks": ""
             }
            },
            "type": "scattercarpet"
           }
          ],
          "scattergeo": [
           {
            "marker": {
             "colorbar": {
              "outlinewidth": 0,
              "ticks": ""
             }
            },
            "type": "scattergeo"
           }
          ],
          "scattergl": [
           {
            "marker": {
             "colorbar": {
              "outlinewidth": 0,
              "ticks": ""
             }
            },
            "type": "scattergl"
           }
          ],
          "scattermapbox": [
           {
            "marker": {
             "colorbar": {
              "outlinewidth": 0,
              "ticks": ""
             }
            },
            "type": "scattermapbox"
           }
          ],
          "scatterpolar": [
           {
            "marker": {
             "colorbar": {
              "outlinewidth": 0,
              "ticks": ""
             }
            },
            "type": "scatterpolar"
           }
          ],
          "scatterpolargl": [
           {
            "marker": {
             "colorbar": {
              "outlinewidth": 0,
              "ticks": ""
             }
            },
            "type": "scatterpolargl"
           }
          ],
          "scatterternary": [
           {
            "marker": {
             "colorbar": {
              "outlinewidth": 0,
              "ticks": ""
             }
            },
            "type": "scatterternary"
           }
          ],
          "surface": [
           {
            "colorbar": {
             "outlinewidth": 0,
             "ticks": ""
            },
            "colorscale": [
             [
              0,
              "#0d0887"
             ],
             [
              0.1111111111111111,
              "#46039f"
             ],
             [
              0.2222222222222222,
              "#7201a8"
             ],
             [
              0.3333333333333333,
              "#9c179e"
             ],
             [
              0.4444444444444444,
              "#bd3786"
             ],
             [
              0.5555555555555556,
              "#d8576b"
             ],
             [
              0.6666666666666666,
              "#ed7953"
             ],
             [
              0.7777777777777778,
              "#fb9f3a"
             ],
             [
              0.8888888888888888,
              "#fdca26"
             ],
             [
              1,
              "#f0f921"
             ]
            ],
            "type": "surface"
           }
          ],
          "table": [
           {
            "cells": {
             "fill": {
              "color": "#EBF0F8"
             },
             "line": {
              "color": "white"
             }
            },
            "header": {
             "fill": {
              "color": "#C8D4E3"
             },
             "line": {
              "color": "white"
             }
            },
            "type": "table"
           }
          ]
         },
         "layout": {
          "annotationdefaults": {
           "arrowcolor": "#2a3f5f",
           "arrowhead": 0,
           "arrowwidth": 1
          },
          "coloraxis": {
           "colorbar": {
            "outlinewidth": 0,
            "ticks": ""
           }
          },
          "colorscale": {
           "diverging": [
            [
             0,
             "#8e0152"
            ],
            [
             0.1,
             "#c51b7d"
            ],
            [
             0.2,
             "#de77ae"
            ],
            [
             0.3,
             "#f1b6da"
            ],
            [
             0.4,
             "#fde0ef"
            ],
            [
             0.5,
             "#f7f7f7"
            ],
            [
             0.6,
             "#e6f5d0"
            ],
            [
             0.7,
             "#b8e186"
            ],
            [
             0.8,
             "#7fbc41"
            ],
            [
             0.9,
             "#4d9221"
            ],
            [
             1,
             "#276419"
            ]
           ],
           "sequential": [
            [
             0,
             "#0d0887"
            ],
            [
             0.1111111111111111,
             "#46039f"
            ],
            [
             0.2222222222222222,
             "#7201a8"
            ],
            [
             0.3333333333333333,
             "#9c179e"
            ],
            [
             0.4444444444444444,
             "#bd3786"
            ],
            [
             0.5555555555555556,
             "#d8576b"
            ],
            [
             0.6666666666666666,
             "#ed7953"
            ],
            [
             0.7777777777777778,
             "#fb9f3a"
            ],
            [
             0.8888888888888888,
             "#fdca26"
            ],
            [
             1,
             "#f0f921"
            ]
           ],
           "sequentialminus": [
            [
             0,
             "#0d0887"
            ],
            [
             0.1111111111111111,
             "#46039f"
            ],
            [
             0.2222222222222222,
             "#7201a8"
            ],
            [
             0.3333333333333333,
             "#9c179e"
            ],
            [
             0.4444444444444444,
             "#bd3786"
            ],
            [
             0.5555555555555556,
             "#d8576b"
            ],
            [
             0.6666666666666666,
             "#ed7953"
            ],
            [
             0.7777777777777778,
             "#fb9f3a"
            ],
            [
             0.8888888888888888,
             "#fdca26"
            ],
            [
             1,
             "#f0f921"
            ]
           ]
          },
          "colorway": [
           "#636efa",
           "#EF553B",
           "#00cc96",
           "#ab63fa",
           "#FFA15A",
           "#19d3f3",
           "#FF6692",
           "#B6E880",
           "#FF97FF",
           "#FECB52"
          ],
          "font": {
           "color": "#2a3f5f"
          },
          "geo": {
           "bgcolor": "white",
           "lakecolor": "white",
           "landcolor": "#E5ECF6",
           "showlakes": true,
           "showland": true,
           "subunitcolor": "white"
          },
          "hoverlabel": {
           "align": "left"
          },
          "hovermode": "closest",
          "mapbox": {
           "style": "light"
          },
          "paper_bgcolor": "white",
          "plot_bgcolor": "#E5ECF6",
          "polar": {
           "angularaxis": {
            "gridcolor": "white",
            "linecolor": "white",
            "ticks": ""
           },
           "bgcolor": "#E5ECF6",
           "radialaxis": {
            "gridcolor": "white",
            "linecolor": "white",
            "ticks": ""
           }
          },
          "scene": {
           "xaxis": {
            "backgroundcolor": "#E5ECF6",
            "gridcolor": "white",
            "gridwidth": 2,
            "linecolor": "white",
            "showbackground": true,
            "ticks": "",
            "zerolinecolor": "white"
           },
           "yaxis": {
            "backgroundcolor": "#E5ECF6",
            "gridcolor": "white",
            "gridwidth": 2,
            "linecolor": "white",
            "showbackground": true,
            "ticks": "",
            "zerolinecolor": "white"
           },
           "zaxis": {
            "backgroundcolor": "#E5ECF6",
            "gridcolor": "white",
            "gridwidth": 2,
            "linecolor": "white",
            "showbackground": true,
            "ticks": "",
            "zerolinecolor": "white"
           }
          },
          "shapedefaults": {
           "line": {
            "color": "#2a3f5f"
           }
          },
          "ternary": {
           "aaxis": {
            "gridcolor": "white",
            "linecolor": "white",
            "ticks": ""
           },
           "baxis": {
            "gridcolor": "white",
            "linecolor": "white",
            "ticks": ""
           },
           "bgcolor": "#E5ECF6",
           "caxis": {
            "gridcolor": "white",
            "linecolor": "white",
            "ticks": ""
           }
          },
          "title": {
           "x": 0.05
          },
          "xaxis": {
           "automargin": true,
           "gridcolor": "white",
           "linecolor": "white",
           "ticks": "",
           "title": {
            "standoff": 15
           },
           "zerolinecolor": "white",
           "zerolinewidth": 2
          },
          "yaxis": {
           "automargin": true,
           "gridcolor": "white",
           "linecolor": "white",
           "ticks": "",
           "title": {
            "standoff": 15
           },
           "zerolinecolor": "white",
           "zerolinewidth": 2
          }
         }
        },
        "width": 800
       }
      }
     },
     "metadata": {}
    }
   ],
   "source": [
    "# 3D-scatter for clusters\n",
    "fig = px.scatter_3d(\n",
    "    clustered_df,\n",
    "    x=\"PC 1\",\n",
    "    y=\"PC 2\",\n",
    "    z=\"PC 3\",\n",
    "    color=\"class\",\n",
    "    symbol=\"class\",\n",
    "    hover_name=\"CoinName\",\n",
    "    hover_data=[\"Algorithm\"],\n",
    "    width=800,\n",
    ")\n",
    "fig.update_layout(legend=dict(x=0, y=1))\n",
    "fig.show()"
   ]
  },
  {
   "cell_type": "code",
   "execution_count": 32,
   "metadata": {},
   "outputs": [
    {
     "output_type": "display_data",
     "data": {},
     "metadata": {}
    },
    {
     "output_type": "execute_result",
     "data": {
      "text/html": "<div id='2644'>\n\n\n\n\n\n  <div class=\"bk-root\" id=\"78aae045-c2b3-48ea-a22e-c1fce14b9dc5\" data-root-id=\"2644\"></div>\n</div>\n<script type=\"application/javascript\">(function(root) {\n  function embed_document(root) {\n  var docs_json = {\"6914f8aa-6f68-4367-a385-8f1885c68504\":{\"roots\":{\"references\":[{\"attributes\":{\"columns\":[{\"id\":\"2650\"},{\"id\":\"2655\"},{\"id\":\"2660\"},{\"id\":\"2665\"},{\"id\":\"2670\"},{\"id\":\"2675\"}],\"height\":300,\"reorderable\":false,\"source\":{\"id\":\"2646\"},\"view\":{\"id\":\"2679\"},\"width\":700},\"id\":\"2678\",\"type\":\"DataTable\"},{\"attributes\":{},\"id\":\"2647\",\"type\":\"Selection\"},{\"attributes\":{},\"id\":\"2681\",\"type\":\"UnionRenderers\"},{\"attributes\":{\"editor\":{\"id\":\"2674\"},\"field\":\"class\",\"formatter\":{\"id\":\"2673\"},\"title\":\"class\"},\"id\":\"2675\",\"type\":\"TableColumn\"},{\"attributes\":{},\"id\":\"2649\",\"type\":\"StringEditor\"},{\"attributes\":{},\"id\":\"2654\",\"type\":\"StringEditor\"},{\"attributes\":{},\"id\":\"2659\",\"type\":\"StringEditor\"},{\"attributes\":{\"children\":[{\"id\":\"2645\"},{\"id\":\"2678\"},{\"id\":\"2684\"}],\"margin\":[0,0,0,0],\"name\":\"Row05771\",\"tags\":[\"embedded\"]},\"id\":\"2644\",\"type\":\"Row\"},{\"attributes\":{\"editor\":{\"id\":\"2649\"},\"field\":\"CoinName\",\"formatter\":{\"id\":\"2648\"},\"title\":\"CoinName\"},\"id\":\"2650\",\"type\":\"TableColumn\"},{\"attributes\":{},\"id\":\"2653\",\"type\":\"StringFormatter\"},{\"attributes\":{},\"id\":\"2664\",\"type\":\"StringEditor\"},{\"attributes\":{},\"id\":\"2669\",\"type\":\"NumberEditor\"},{\"attributes\":{},\"id\":\"2658\",\"type\":\"StringFormatter\"},{\"attributes\":{\"margin\":[5,5,5,5],\"name\":\"HSpacer05775\",\"sizing_mode\":\"stretch_width\"},\"id\":\"2645\",\"type\":\"Spacer\"},{\"attributes\":{\"editor\":{\"id\":\"2654\"},\"field\":\"Algorithm\",\"formatter\":{\"id\":\"2653\"},\"title\":\"Algorithm\"},\"id\":\"2655\",\"type\":\"TableColumn\"},{\"attributes\":{},\"id\":\"2673\",\"type\":\"NumberFormatter\"},{\"attributes\":{},\"id\":\"2663\",\"type\":\"StringFormatter\"},{\"attributes\":{\"editor\":{\"id\":\"2659\"},\"field\":\"ProofType\",\"formatter\":{\"id\":\"2658\"},\"title\":\"ProofType\"},\"id\":\"2660\",\"type\":\"TableColumn\"},{\"attributes\":{},\"id\":\"2674\",\"type\":\"IntEditor\"},{\"attributes\":{\"margin\":[5,5,5,5],\"name\":\"HSpacer05776\",\"sizing_mode\":\"stretch_width\"},\"id\":\"2684\",\"type\":\"Spacer\"},{\"attributes\":{\"format\":\"0,0.0[00000]\"},\"id\":\"2668\",\"type\":\"NumberFormatter\"},{\"attributes\":{\"editor\":{\"id\":\"2664\"},\"field\":\"TotalCoinSupply\",\"formatter\":{\"id\":\"2663\"},\"title\":\"TotalCoinSupply\"},\"id\":\"2665\",\"type\":\"TableColumn\"},{\"attributes\":{\"editor\":{\"id\":\"2669\"},\"field\":\"TotalCoinsMined\",\"formatter\":{\"id\":\"2668\"},\"title\":\"TotalCoinsMined\"},\"id\":\"2670\",\"type\":\"TableColumn\"},{\"attributes\":{\"source\":{\"id\":\"2646\"}},\"id\":\"2679\",\"type\":\"CDSView\"},{\"attributes\":{\"data\":{\"Algorithm\":[\"Scrypt\",\"Scrypt\",\"X13\",\"SHA-256\",\"Ethash\",\"Scrypt\",\"X11\",\"CryptoNight-V7\",\"Ethash\",\"Equihash\",\"SHA-512\",\"Multiple\",\"SHA-256\",\"SHA-256\",\"Scrypt\",\"X15\",\"X11\",\"Scrypt\",\"Scrypt\",\"Scrypt\",\"Multiple\",\"Scrypt\",\"SHA-256\",\"Scrypt\",\"Scrypt\",\"Scrypt\",\"Quark\",\"Groestl\",\"Scrypt\",\"Scrypt\",\"Scrypt\",\"Scrypt\",\"Scrypt\",\"X11\",\"Scrypt\",\"Groestl\",\"Multiple\",\"SHA-256\",\"Scrypt\",\"Scrypt\",\"Scrypt\",\"Scrypt\",\"PoS\",\"Scrypt\",\"Scrypt\",\"NeoScrypt\",\"Scrypt\",\"Scrypt\",\"Scrypt\",\"Scrypt\",\"X11\",\"Scrypt\",\"X11\",\"SHA-256\",\"Scrypt\",\"Scrypt\",\"Scrypt\",\"SHA3\",\"Scrypt\",\"HybridScryptHash256\",\"Scrypt\",\"Scrypt\",\"SHA-256\",\"Scrypt\",\"X13\",\"Scrypt\",\"SHA-256\",\"Scrypt\",\"X13\",\"NeoScrypt\",\"Scrypt\",\"Scrypt\",\"Scrypt\",\"Scrypt\",\"Scrypt\",\"Scrypt\",\"X11\",\"X11\",\"SHA-256\",\"Multiple\",\"SHA-256\",\"PHI1612\",\"X11\",\"SHA-256\",\"SHA-256\",\"SHA-256\",\"X11\",\"Scrypt\",\"Scrypt\",\"Scrypt\",\"Scrypt\",\"Lyra2REv2\",\"Scrypt\",\"X11\",\"Multiple\",\"SHA-256\",\"X13\",\"Scrypt\",\"CryptoNight\",\"CryptoNight\",\"Shabal256\",\"Counterparty\",\"Scrypt\",\"SHA-256\",\"Groestl\",\"Scrypt\",\"Scrypt\",\"Scrypt\",\"X13\",\"Scrypt\",\"Scrypt\",\"Scrypt\",\"Scrypt\",\"X13\",\"Scrypt\",\"Stanford Folding\",\"X11\",\"Multiple\",\"QuBit\",\"Scrypt\",\"Scrypt\",\"Scrypt\",\"M7 POW\",\"Scrypt\",\"SHA-256\",\"Scrypt\",\"X11\",\"SHA3\",\"X11\",\"Lyra2RE\",\"SHA-256\",\"QUAIT\",\"X11\",\"X11\",\"Scrypt\",\"Scrypt\",\"Scrypt\",\"Ethash\",\"X13\",\"Blake2b\",\"SHA-256\",\"X15\",\"X11\",\"SHA-256\",\"BLAKE256\",\"Scrypt\",\"1GB AES Pattern Search\",\"SHA-256\",\"X11\",\"Scrypt\",\"SHA-256\",\"SHA-256\",\"NIST5\",\"Scrypt\",\"Scrypt\",\"X11\",\"Dagger\",\"Scrypt\",\"X11GOST\",\"X11\",\"Scrypt\",\"SHA-256\",\"Scrypt\",\"PoS\",\"Scrypt\",\"X11\",\"X11\",\"SHA-256\",\"SHA-256\",\"NIST5\",\"X11\",\"Scrypt\",\"POS 3.0\",\"Scrypt\",\"Scrypt\",\"Scrypt\",\"X13\",\"X11\",\"X11\",\"Equihash\",\"X11\",\"Scrypt\",\"CryptoNight\",\"SHA-256\",\"SHA-256\",\"X11\",\"Scrypt\",\"Multiple\",\"Scrypt\",\"Scrypt\",\"Scrypt\",\"SHA-256\",\"Scrypt\",\"Scrypt\",\"SHA-256D\",\"PoS\",\"Scrypt\",\"X11\",\"Lyra2Z\",\"PoS\",\"X13\",\"X14\",\"PoS\",\"SHA-256D\",\"Ethash\",\"Equihash\",\"DPoS\",\"X11\",\"Scrypt\",\"X11\",\"X13\",\"X11\",\"PoS\",\"Scrypt\",\"Scrypt\",\"X11\",\"PoS\",\"X11\",\"SHA-256\",\"Scrypt\",\"X11\",\"Scrypt\",\"Scrypt\",\"X11\",\"CryptoNight\",\"Scrypt\",\"Scrypt\",\"Scrypt\",\"Scrypt\",\"Quark\",\"QuBit\",\"Scrypt\",\"CryptoNight\",\"Lyra2RE\",\"Scrypt\",\"SHA-256\",\"X11\",\"Scrypt\",\"X11\",\"Scrypt\",\"CryptoNight-V7\",\"Scrypt\",\"Scrypt\",\"Scrypt\",\"X13\",\"X11\",\"Equihash\",\"Scrypt\",\"Scrypt\",\"Lyra2RE\",\"Scrypt\",\"Dagger-Hashimoto\",\"X11\",\"Blake2S\",\"X11\",\"Scrypt\",\"PoS\",\"X11\",\"NIST5\",\"PoS\",\"X11\",\"Scrypt\",\"Scrypt\",\"Scrypt\",\"SHA-256\",\"X11\",\"Scrypt\",\"Scrypt\",\"SHA-256\",\"PoS\",\"Scrypt\",\"X15\",\"SHA-256\",\"Scrypt\",\"POS 3.0\",\"CryptoNight-V7\",\"536\",\"Argon2d\",\"Blake2b\",\"Cloverhash\",\"CryptoNight\",\"NIST5\",\"X11\",\"NIST5\",\"Skein\",\"Scrypt\",\"X13\",\"Scrypt\",\"X11\",\"X11\",\"Scrypt\",\"CryptoNight\",\"X13\",\"Time Travel\",\"Scrypt\",\"Keccak\",\"SkunkHash v2 Raptor\",\"X11\",\"Skein\",\"SHA-256\",\"X11\",\"Scrypt\",\"VeChainThor Authority\",\"Scrypt\",\"PoS\",\"Scrypt\",\"Scrypt\",\"Scrypt\",\"Scrypt\",\"Scrypt\",\"Scrypt\",\"Scrypt\",\"CryptoNight\",\"SHA-512\",\"Ouroboros\",\"X11\",\"Equihash\",\"NeoScrypt\",\"X11\",\"Scrypt\",\"NeoScrypt\",\"Lyra2REv2\",\"Equihash\",\"Scrypt\",\"SHA-256\",\"NIST5\",\"PHI1612\",\"Dagger\",\"Scrypt\",\"Quark\",\"Scrypt\",\"POS 2.0\",\"Scrypt\",\"SHA-256\",\"X11\",\"NeoScrypt\",\"Ethash\",\"NeoScrypt\",\"X11\",\"DPoS\",\"NIST5\",\"X13\",\"Multiple\",\"Scrypt\",\"CryptoNight\",\"CryptoNight\",\"Ethash\",\"NIST5\",\"Quark\",\"X11\",\"CryptoNight-V7\",\"Scrypt\",\"Scrypt\",\"Scrypt\",\"X11\",\"BLAKE256\",\"X11\",\"NeoScrypt\",\"Quark\",\"NeoScrypt\",\"Scrypt\",\"Scrypt\",\"Scrypt\",\"X11\",\"X11\",\"SHA-256\",\"C11\",\"POS 3.0\",\"Ethash\",\"Scrypt\",\"CryptoNight\",\"SkunkHash\",\"Scrypt\",\"CryptoNight\",\"Scrypt\",\"Dagger\",\"Lyra2REv2\",\"X13\",\"Proof-of-BibleHash\",\"SHA-256 + Hive\",\"Scrypt\",\"Scrypt\",\"X11\",\"C11\",\"Proof-of-Authority\",\"X11\",\"XEVAN\",\"Scrypt\",\"VBFT\",\"Ethash\",\"CryptoNight\",\"Scrypt\",\"IMesh\",\"NIST5\",\"Scrypt\",\"Scrypt\",\"Equihash\",\"Scrypt\",\"Lyra2Z\",\"Green Protocol\",\"PoS\",\"Scrypt\",\"Semux BFT consensus\",\"X11\",\"Quark\",\"PoS\",\"CryptoNight\",\"X16R\",\"Scrypt\",\"NIST5\",\"Lyra2RE\",\"XEVAN\",\"Tribus\",\"Scrypt\",\"Lyra2Z\",\"CryptoNight\",\"CryptoNight Heavy\",\"CryptoNight\",\"Scrypt\",\"Scrypt\",\"Jump Consistent Hash\",\"SHA-256D\",\"CryptoNight\",\"Scrypt\",\"X15\",\"Scrypt\",\"Quark\",\"SHA-256\",\"DPoS\",\"X16R\",\"HMQ1725\",\"X11\",\"X16R\",\"Quark\",\"Quark\",\"Scrypt\",\"Lyra2REv2\",\"Quark\",\"Scrypt\",\"Scrypt\",\"CryptoNight-V7\",\"Cryptonight-GPU\",\"XEVAN\",\"CryptoNight Heavy\",\"X11\",\"X11\",\"Scrypt\",\"PoS\",\"SHA-256\",\"Keccak\",\"X11\",\"X11\",\"Scrypt\",\"SHA-512\",\"X16R\",\"ECC 256K1\",\"Equihash\",\"XEVAN\",\"Lyra2Z\",\"SHA-256\",\"XEVAN\",\"X11\",\"CryptoNight\",\"Quark\",\"Blake\",\"Blake\",\"Equihash\",\"Exosis\",\"Scrypt\",\"Scrypt\",\"Equihash\",\"Quark\",\"Equihash\",\"Quark\",\"Scrypt\",\"QuBit\",\"X11\",\"Scrypt\",\"XEVAN\",\"SHA-256D\",\"X11\",\"SHA-256\",\"X13\",\"SHA-256\",\"X11\",\"DPoS\",\"Scrypt\",\"Scrypt\",\"X11\",\"NeoScrypt\",\"Scrypt\",\"Blake\",\"Scrypt\",\"SHA-256\",\"Scrypt\",\"X11\",\"Scrypt\",\"Scrypt\",\"SHA-256\",\"X11\",\"SHA-256\",\"Scrypt\",\"Scrypt\",\"Scrypt\",\"Groestl\",\"X11\",\"Scrypt\",\"PoS\",\"Scrypt\",\"Scrypt\",\"X11\",\"SHA-256\",\"DPoS\",\"Scrypt\",\"Scrypt\",\"NeoScrypt\",\"SHA3-256\",\"Multiple\",\"X13\",\"Equihash+Scrypt\",\"DPoS\",\"Ethash\",\"DPoS\",\"SHA-256\",\"Leased POS\",\"PoS\",\"TRC10\",\"PoS\",\"SHA-256\",\"Scrypt\",\"CryptoNight\",\"Equihash\",\"Scrypt\"],\"CoinName\":[\"42 Coin\",\"404Coin\",\"EliteCoin\",\"Bitcoin\",\"Ethereum\",\"Litecoin\",\"Dash\",\"Monero\",\"Ethereum Classic\",\"ZCash\",\"Bitshares\",\"DigiByte\",\"BitcoinDark\",\"PayCoin\",\"ProsperCoin\",\"KoboCoin\",\"Spreadcoin\",\"Argentum\",\"Aurora Coin\",\"BlueCoin\",\"MyriadCoin\",\"MoonCoin\",\"ZetaCoin\",\"SexCoin\",\"Quatloo\",\"EnergyCoin\",\"QuarkCoin\",\"Riecoin\",\"Digitalcoin \",\"BitBar\",\"Catcoin\",\"CryptoBullion\",\"CannaCoin\",\"CryptCoin\",\"CasinoCoin\",\"Diamond\",\"Verge\",\"DevCoin\",\"EarthCoin\",\"E-Gulden\",\"Einsteinium\",\"Emerald\",\"Exclusive Coin\",\"FlutterCoin\",\"Franko\",\"FeatherCoin\",\"GrandCoin\",\"GlobalCoin\",\"GoldCoin\",\"HoboNickels\",\"HyperStake\",\"Infinite Coin\",\"IOCoin\",\"IXcoin\",\"KrugerCoin\",\"LuckyCoin\",\"Litebar \",\"MaxCoin\",\"MegaCoin\",\"MediterraneanCoin\",\"MintCoin\",\"MinCoin\",\"MazaCoin\",\"Nautilus Coin\",\"NavCoin\",\"NobleCoin\",\"Namecoin\",\"NyanCoin\",\"OpalCoin\",\"Orbitcoin\",\"PotCoin\",\"PhoenixCoin\",\"Reddcoin\",\"RonPaulCoin\",\"StableCoin\",\"SmartCoin\",\"SuperCoin\",\"SyncCoin\",\"SysCoin\",\"TeslaCoin\",\"TigerCoin\",\"TittieCoin\",\"TorCoin\",\"TerraCoin\",\"UnbreakableCoin\",\"Unobtanium\",\"UroCoin\",\"UnitaryStatus Dollar\",\"UltraCoin\",\"ViaCoin\",\"VeriCoin\",\"Vertcoin\",\"WorldCoin\",\"X11 Coin\",\"Crypti\",\"JouleCoin\",\"StealthCoin\",\"ZCC Coin\",\"ByteCoin\",\"DigitalNote \",\"BurstCoin\",\"StorjCoin\",\"MonaCoin\",\"Neutron\",\"FairCoin\",\"Gulden\",\"RubyCoin\",\"PesetaCoin\",\"Kore\",\"Wild Beast Coin\",\"Dnotes\",\"Flo\",\"8BIT Coin\",\"Sativa Coin\",\"ArtByte\",\"Folding Coin\",\"Ucoin\",\"Unitus\",\"CypherPunkCoin\",\"OmniCron\",\"Vtorrent\",\"GreenCoin\",\"Cryptonite\",\"MasterCoin\",\"SoonCoin\",\"1Credit\",\"IslaCoin\",\"Nexus\",\"MarsCoin \",\"Crypto\",\"Anarchists Prime\",\"Droidz\",\"BowsCoin\",\"Squall Coin\",\"Song Coin\",\"BitZeny\",\"Diggits\",\"Expanse\",\"Paycon\",\"Siacoin\",\"Emercoin\",\"EverGreenCoin\",\"MindCoin\",\"I0coin\",\"Decred\",\"Revolution VR\",\"HOdlcoin\",\"EDRCoin\",\"Hitcoin\",\"Gamecredits\",\"DubaiCoin\",\"CarpeDiemCoin\",\"PWR Coin\",\"BillaryCoin\",\"GPU Coin\",\"Adzcoin\",\"SoilCoin\",\"YoCoin\",\"SibCoin\",\"EuropeCoin\",\"ZeitCoin\",\"SwingCoin\",\"SafeExchangeCoin\",\"Nebuchadnezzar\",\"Francs\",\"BolivarCoin\",\"Ratecoin\",\"Revenu\",\"Clockcoin\",\"VIP Tokens\",\"BitSend\",\"Omni\",\"Let it Ride\",\"PutinCoin\",\"iBankCoin\",\"Frankywillcoin\",\"MudraCoin\",\"PizzaCoin\",\"Lutetium Coin\",\"Komodo\",\"GoldBlocks\",\"CarterCoin\",\"Karbo\",\"BitTokens\",\"ZayedCoin\",\"MustangCoin\",\"ZoneCoin\",\"Circuits of Value\",\"RootCoin\",\"DopeCoin\",\"BitCurrency\",\"DollarCoin\",\"Swiscoin\",\"Shilling\",\"BuzzCoin\",\"Opair\",\"PesoBit\",\"Halloween Coin\",\"ZCoin\",\"CoffeeCoin\",\"RoyalCoin\",\"GanjaCoin V2\",\"TeamUP\",\"LanaCoin\",\"Elementrem\",\"ZClassic\",\"ARK\",\"InsaneCoin\",\"KiloCoin\",\"ArtexCoin\",\"EmberCoin\",\"XenixCoin\",\"FreeCoin\",\"PLNCoin\",\"AquariusCoin\",\"Kurrent\",\"Creatio\",\"Eternity\",\"Eurocoin\",\"BitcoinFast\",\"Stakenet\",\"BitConnect Coin\",\"MoneyCoin\",\"Enigma\",\"Cannabis Industry Coin\",\"Russiacoin\",\"PandaCoin\",\"GameUnits\",\"GAKHcoin\",\"Allsafe\",\"LiteCreed\",\"OsmiumCoin\",\"Bikercoins\",\"HexxCoin\",\"Klingon Empire Darsek\",\"Internet of People\",\"KushCoin\",\"Printerium\",\"PacCoin\",\"Impeach\",\"Citadel\",\"Zilbercoin\",\"FirstCoin\",\"BeaverCoin\",\"FindCoin\",\"VaultCoin\",\"Zero\",\"OpenChat\",\"Canada eCoin\",\"Zoin\",\"RenosCoin\",\"DubaiCoin\",\"VirtacoinPlus\",\"TajCoin\",\"Impact\",\"EB3coin\",\"Atmos\",\"HappyCoin\",\"Coinonat\",\"MacronCoin\",\"Condensate\",\"Independent Money System\",\"ArgusCoin\",\"LomoCoin\",\"ProCurrency\",\"GoldReserve\",\"BenjiRolls\",\"GrowthCoin\",\"ILCoin\",\"Phreak\",\"Degas Coin\",\"HTML5 Coin\",\"Ultimate Secure Cash\",\"EquiTrader\",\"QTUM\",\"Quantum Resistant Ledger\",\"Espers\",\"Dynamic\",\"Nano\",\"ChanCoin\",\"Dinastycoin\",\"Denarius\",\"DigitalPrice\",\"Virta Unique Coin\",\"Bitcoin Planet\",\"Unify\",\"BritCoin\",\"SocialCoin\",\"ArcticCoin\",\"DAS\",\"Linda\",\"LeviarCoin\",\"DeepOnion\",\"Bitcore\",\"gCn Coin\",\"SmartCash\",\"Signatum\",\"Onix\",\"Cream\",\"Bitcoin Cash\",\"Monoeci\",\"Draftcoin\",\"Vechain\",\"Sojourn Coin\",\"Stakecoin\",\"NewYorkCoin\",\"FrazCoin\",\"Kronecoin\",\"AdCoin\",\"Linx\",\"CoinonatX\",\"Ethereum Dark\",\"Sumokoin\",\"Obsidian\",\"Cardano\",\"Regalcoin\",\"BitcoinZ\",\"TrezarCoin\",\"Elements\",\"TerraNovaCoin\",\"VIVO Coin\",\"Rupee\",\"Bitcoin Gold\",\"WomenCoin\",\"Theresa May Coin\",\"NamoCoin\",\"LUXCoin\",\"Pirl\",\"Xios\",\"Bitcloud 2.0\",\"eBoost\",\"KekCoin\",\"BlackholeCoin\",\"Infinity Economics\",\"Pura\",\"Innova\",\"Ellaism\",\"GoByte\",\"Magnet\",\"Lamden Tau\",\"Electra\",\"Bitcoin Diamond\",\"SHIELD\",\"Cash & Back Coin\",\"UltraNote\",\"BitCoal\",\"DaxxCoin\",\"Bulwark\",\"Kalkulus\",\"AC3\",\"Lethean\",\"GermanCoin\",\"LiteCoin Ultra\",\"PopularCoin\",\"PhantomX\",\"Photon\",\"Sucre\",\"SparksPay\",\"Digiwage\",\"GunCoin\",\"IrishCoin\",\"Trollcoin\",\"Litecoin Plus\",\"Monkey Project\",\"Pioneer Coin\",\"UnitedBitcoin\",\"Interzone\",\"TokenPay\",\"1717 Masonic Commemorative Token\",\"My Big Coin\",\"TurtleCoin\",\"MUNcoin\",\"Unified Society USDEX\",\"Niobio Cash\",\"ShareChain\",\"Travelflex\",\"KREDS\",\"Tokyo Coin\",\"BiblePay\",\"LitecoinCash\",\"BitFlip\",\"LottoCoin\",\"Crypto Improvement Fund\",\"Stipend\",\"Poa Network\",\"Pushi\",\"Ellerium\",\"Velox\",\"Ontology\",\"Callisto Network\",\"BitTube\",\"Poseidon\",\"Aidos Kuneen\",\"Bitspace\",\"Briacoin\",\"Ignition\",\"Bitrolium\",\"MedicCoin\",\"Alpenschillling\",\"Bitcoin Green\",\"Deviant Coin\",\"Abjcoin\",\"Semux\",\"FuturoCoin\",\"Carebit\",\"Zealium\",\"Monero Classic\",\"Proton\",\"iDealCash\",\"Jumpcoin\",\"Infinex\",\"Bitcoin Incognito\",\"KEYCO\",\"HollyWoodCoin\",\"GINcoin\",\"PlatinCoin\",\"Loki\",\"Newton Coin\",\"Swisscoin\",\"Xt3ch\",\"MassGrid\",\"TheVig\",\"PluraCoin\",\"EmaratCoin\",\"Dekado\",\"Lynx\",\"Poseidon Quark\",\"BitcoinWSpectrum\",\"Muse\",\"Motion\",\"PlusOneCoin\",\"Axe\",\"Trivechain\",\"Dystem\",\"Giant\",\"Peony Coin\",\"Absolute Coin\",\"Vitae\",\"HexCoin\",\"TPCash\",\"Webchain\",\"Ryo\",\"Urals Coin\",\"Qwertycoin\",\"ARENON\",\"EUNO\",\"MMOCoin\",\"Ketan\",\"Project Pai\",\"XDNA\",\"PAXEX\",\"Azart\",\"ThunderStake\",\"Kcash\",\"Xchange\",\"Acute Angle Cloud\",\"CrypticCoin\",\"Bettex coin\",\"Actinium\",\"Bitcoin SV\",\"BitMoney\",\"Junson Ming Chan Coin\",\"FREDEnergy\",\"HerbCoin\",\"Universal Molecule\",\"Lithium\",\"PirateCash\",\"Exosis\",\"Block-Logic\",\"Oduwa\",\"Beam\",\"Galilel\",\"Bithereum\",\"Crypto Sports\",\"Credit\",\"SLICE\",\"Dash Platinum\",\"Nasdacoin\",\"Beetle Coin\",\"Titan Coin\",\"Award\",\"BLAST\",\"Bitcoin Rhodium\",\"GlobalToken\",\"Insane Coin\",\"ALAX\",\"LiteDoge\",\"SolarCoin\",\"TruckCoin\",\"UFO Coin\",\"OrangeCoin\",\"BlakeCoin\",\"BitstarCoin\",\"NeosCoin\",\"HyperCoin\",\"PinkCoin\",\"Crypto Escudo\",\"AudioCoin\",\"IncaKoin\",\"Piggy Coin\",\"Crown Coin\",\"Genstake\",\"SmileyCoin\",\"XiaoMiCoin\",\"Groestlcoin\",\"CapriCoin\",\" ClubCoin\",\"Radium\",\"Bata\",\"Pakcoin\",\"Creditbit \",\"OKCash\",\"Lisk\",\"HiCoin\",\"WhiteCoin\",\"FriendshipCoin\",\"Fiii\",\"JoinCoin\",\"Triangles Coin\",\"Vollar\",\"EOS\",\"Reality Clash\",\"Oxycoin\",\"TigerCash\",\"Waves\",\"Particl\",\"BitTorrent\",\"Nxt\",\"ZEPHYR\",\"Gapcoin\",\"Beldex\",\"Horizen\",\"BitcoinPlus\"],\"ProofType\":[\"PoW/PoS\",\"PoW/PoS\",\"PoW/PoS\",\"PoW\",\"PoW\",\"PoW\",\"PoW/PoS\",\"PoW\",\"PoW\",\"PoW\",\"PoS\",\"PoW\",\"PoW/PoS\",\"PoS\",\"PoW\",\"PoW/PoS\",\"PoW\",\"PoW\",\"PoW/PoS\",\"PoW/PoS\",\"PoW\",\"PoW\",\"PoW\",\"PoW\",\"PoW\",\"PoW/PoS\",\"PoW\",\"PoW\",\"PoW\",\"PoW/PoS\",\"PoW\",\"PoW/PoS\",\"PoW\",\"PoW\",\"PoC\",\"PoW/PoS\",\"PoW\",\"PoW\",\"PoW\",\"PoW\",\"PoW\",\"PoW\",\"PoS\",\"PoS/PoW/PoT\",\"PoW\",\"PoW\",\"PoW\",\"PoW\",\"PoW\",\"PoW/PoS\",\"PoS\",\"PoW\",\"PoW/PoS\",\"PoW\",\"PoW\",\"PoW\",\"PoW\",\"PoW/PoS\",\"PoW\",\"PoW\",\"PoS\",\"PoW\",\"PoW/PoS\",\"PoS\",\"PoW/PoS\",\"PoW\",\"PoW\",\"PoW\",\"PoW/PoS\",\"PoW/PoS\",\"PoW/PoS\",\"PoW/PoS\",\"PoW/PoS\",\"PoW\",\"PoW\",\"PoW\",\"PoS\",\"PoW/PoS\",\"PoW\",\"PoS\",\"PoW\",\"PoS\",\"PoW/PoS\",\"PoW\",\"PoW\",\"PoW\",\"PoW\",\"PoW/PoS\",\"PoW/PoS\",\"PoW\",\"PoST\",\"PoW\",\"PoW\",\"PoW/PoS\",\"PoS\",\"PoW\",\"PoW/PoS\",\"PoW/PoS\",\"PoW\",\"PoW\",\"PoC\",\"PoS\",\"PoW\",\"PoW/PoS\",\"PoW/PoS\",\"PoW\",\"PoS\",\"PoW\",\"PoW/PoS\",\"PoW\",\"PoS\",\"PoW\",\"PoW/PoS\",\"PoW/PoS\",\"PoW\",\"PoW\",\"PoS\",\"PoW\",\"PoW\",\"PoW\",\"PoW/PoS\",\"PoW\",\"PoW\",\"PoW\",\"PoW\",\"PoW\",\"PoW/PoS\",\"PoW/nPoS\",\"PoW\",\"PoW\",\"PoW\",\"PoW/PoS\",\"PoW\",\"PoS/PoW\",\"PoW\",\"PoW\",\"PoS\",\"PoW\",\"PoW/PoS\",\"PoW\",\"PoW/PoS\",\"PoW/PoS\",\"PoW\",\"PoW\",\"PoW/PoS\",\"PoW\",\"PoW\",\"PoW/PoS\",\"PoW/PoS\",\"PoW\",\"PoW/PoS\",\"PoW\",\"PoW/PoS\",\"PoW/PoS\",\"PoS\",\"PoW\",\"PoW\",\"PoW\",\"PoW\",\"PoW/PoS\",\"PoS\",\"PoW/PoS\",\"PoC\",\"PoS\",\"PoW\",\"PoW\",\"PoW/PoS\",\"PoW/PoS\",\"PoW/PoS\",\"PoW/PoS\",\"PoW/PoS\",\"PoW\",\"PoS\",\"PoW/PoS\",\"PoW/PoS\",\"PoW/PoS\",\"PoS\",\"PoW\",\"PoS\",\"dPoW/PoW\",\"PoW/PoS\",\"PoW/PoS\",\"PoW\",\"PoW/PoS\",\"PoW\",\"PoW/PoS\",\"PoW/PoS\",\"PoW\",\"PoW/PoS\",\"PoW\",\"PoS\",\"PoW\",\"PoW/PoW\",\"PoW\",\"PoW/PoS\",\"PoS\",\"PoW/PoS\",\"PoW/PoS\",\"PoW\",\"PoS\",\"PoS\",\"PoW/PoS\",\"PoS\",\"PoW/PoS\",\"PoW\",\"PoW\",\"DPoS\",\"PoW/PoS\",\"PoW\",\"PoW\",\"PoW/PoS\",\"PoW/PoS\",\"PoS\",\"PoW/PoS\",\"PoW/PoS\",\"PoW\",\"PoS\",\"PoW/PoS\",\"PoW/PoS\",\"PoW/PoS\",\"TPoS\",\"PoW/PoS\",\"PoW/PoS\",\"PoW/PoS\",\"PoW\",\"PoW/PoS\",\"PoS\",\"PoW/PoS\",\"PoW/PoS\",\"PoS\",\"PoW/PoS\",\"PoW\",\"PoW\",\"PoW\",\"PoW/PoS\",\"PoW/PoS\",\"PoW/PoS\",\"PoW/PoS\",\"PoW\",\"PoW/PoS\",\"PoW\",\"PoS\",\"PoW/PoS \",\"PoW\",\"PoS\",\"PoW\",\"PoW\",\"PoW/PoS\",\"PoW\",\"PoW\",\"PoS\",\"PoW\",\"PoW/PoS\",\"PoW/PoS\",\"PoW/PoS\",\"PoW\",\"PoS\",\"PoW/PoS\",\"PoW\",\"PoS\",\"PoW/PoS\",\"PoW/PoS\",\"PoW/PoS\",\"PoW/PoS\",\"PoS\",\"PoW/PoS\",\"PoW\",\"PoS\",\"PoW\",\"PoS\",\"PoW/PoS\",\"PoW/PoS\",\"PoS\",\"PoW\",\"PoS\",\"PoW\",\"PoW/PoS\",\"PoW\",\"PoW\",\"PoW\",\"PoW\",\"PoW/PoS\",\"PoW\",\"PoW/PoS\",\"PoW/PoS\",\"PoW\",\"PoW/PoS\",\"PoW\",\"PoW\",\"PoW\",\"PoW/PoS\",\"PoW\",\"PoW/PoS\",\"PoW\",\"PoW\",\"PoW\",\"PoS\",\"PoW\",\"PoW/PoS\",\"PoW\",\"PoW/PoS\",\"PoS\",\"Proof of Authority\",\"PoW\",\"PoS\",\"PoW\",\"PoW\",\"PoW\",\"PoW\",\"PoW\",\"PoW/PoS\",\"PoW/PoS\",\"PoW\",\"PoS\",\"PoS\",\"PoW/PoS\",\"PoW\",\"PoW/PoS\",\"PoW\",\"PoW/PoS\",\"PoW\",\"PoS\",\"PoW\",\"PoW/PoS\",\"PoW/PoS\",\"PoW/PoS\",\"PoW/PoS\",\"PoW\",\"PoW/PoS\",\"PoW/PoS\",\"PoW\",\"PoS\",\"PoW/PoS\",\"PoS\",\"PoW\",\"PoW\",\"PoW\",\"PoW\",\"PoW/PoS\",\"DPoS\",\"PoW/PoS\",\"PoW/PoS\",\"PoW\",\"PoW/PoS\",\"PoW\",\"PoW\",\"PoW\",\"PoS\",\"PoS\",\"PoW\",\"PoW\",\"PoW/PoS\",\"PoW/PoS\",\"PoW\",\"PoW/PoS\",\"PoW\",\"PoW\",\"PoW\",\"PoS\",\"PoW\",\"PoW\",\"PoW/PoS\",\"PoW/PoS\",\"PoS\",\"PoW\",\"PoW\",\"PoW\",\"PoS\",\"PoS\",\"PoW and PoS\",\"PoW\",\"PoW\",\"PoW/PoS\",\"PoW\",\"PoW\",\"PoW\",\"PoW\",\"PoS\",\"POBh\",\"PoW + Hive\",\"PoW\",\"PoW\",\"PoW\",\"PoW/PoS\",\"PoA\",\"PoW/PoS\",\"PoW/PoS\",\"PoS\",\"PoS\",\"PoW\",\"PoW\",\"PoW\",\"PoW\",\"PoW/PoS\",\"PoW/PoS\",\"PoW/PoS\",\"PoW\",\"PoS\",\"PoW\",\"PoS\",\"PoS\",\"PoW/PoS\",\"DPoS\",\"PoW\",\"PoW/PoS\",\"PoS\",\"PoW\",\"PoS\",\"PoW/PoS\",\"PoW\",\"PoW\",\"PoS/PoW\",\"PoW\",\"PoS\",\"PoW\",\"PoW\",\"PoW\",\"PoW\",\"PoW/PoS\",\"PoS\",\"PoW\",\"PoW/PoS\",\"PoW\",\"PoW/PoS\",\"PoS\",\"HPoW\",\"PoS\",\"PoS\",\"PoS\",\"PoW\",\"PoW\",\"PoW\",\"PoW/PoS\",\"PoS\",\"PoW/PoS\",\"PoS\",\"PoW/PoS\",\"PoS\",\"PoW\",\"PoW/PoS\",\"PoW\",\"PoW\",\"PoW\",\"PoW\",\"PoS\",\"PoW/PoS\",\"PoS\",\"PoS\",\"PoW\",\"PoW/PoS\",\"PoS\",\"PoW\",\"PoW/PoS\",\"Zero-Knowledge Proof\",\"PoW\",\"DPOS\",\"PoW\",\"PoS\",\"PoW\",\"PoW\",\"Pos\",\"PoS\",\"PoW\",\"PoW/PoS\",\"PoW\",\"PoW\",\"PoS\",\"PoW\",\"PoW\",\"PoW/PoS\",\"PoW\",\"PoW/PoS\",\"PoW\",\"PoS\",\"PoW/PoS\",\"PoW\",\"PoS\",\"PoW/PoS\",\"PoW/PoS\",\"PoW/PoS\",\"PoW/PoS\",\"PoW\",\"PoW\",\"PoW\",\"PoW/PoS\",\"DPoS\",\"PoW/PoS\",\"PoW\",\"PoW/PoS\",\"PoW\",\"PoW/PoS\",\"PoW\",\"PoW/PoS\",\"PoS\",\"PoW/PoS\",\"PoW/PoS\",\"PoW\",\"PoW/PoS\",\"PoW/PoS\",\"PoW/PoS\",\"PoW\",\"PoW/PoS\",\"PoW\",\"PoW/PoS\",\"PoW\",\"PoW/PoS\",\"PoW/PoS\",\"PoS\",\"PoW\",\"PoW\",\"Proof of Trust\",\"PoW/PoS\",\"DPoS\",\"PoS\",\"PoW/PoS\",\"PoW/PoS\",\"DPoC\",\"PoW\",\"PoW/PoS\",\"PoW\",\"DPoS\",\"PoW\",\"DPoS\",\"PoS\",\"LPoS\",\"PoS\",\"DPoS\",\"PoS/LPoS\",\"DPoS\",\"PoW/PoS\",\"PoW\",\"PoW\",\"PoS\"],\"TotalCoinSupply\":[\"42\",\"532000000\",\"314159265359\",\"21000000\",\"0\",\"84000000\",\"22000000\",\"0\",\"210000000\",\"21000000\",\"3600570502\",\"21000000000\",\"22000000\",\"12500000\",\"21000000\",\"350000000\",\"20000000\",\"64000000\",\"16768584\",\"0\",\"2000000000\",\"384000000000\",\"169795588\",\"250000000\",\"100000000\",\"0\",\"247000000\",\"84000000\",\"48166000\",\"500000\",\"21000000 \",\"1000000\",\"13140000\",\"18000000\",\"40000000000\",\"4380000\",\"16555000000\",\"21000000000\",\"13500000000\",\"21000000 \",\"299792458\",\"32000000\",\"0\",\"0\",\"11235813\",\"336000000\",\"1420609614\",\"70000000\",\"72245700\",\"120000000\",\"0\",\"90600000000\",\"22000000\",\"21000000\",\"265420800\",\"20000000\",\"1350000\",\"100000000\",\"42000000\",\"200000000\",\"0\",\"10000000\",\"2419200000\",\"16180000\",\"0\",\"15000000000\",\"21000000\",\"337000000\",\"0\",\"3770000\",\"420000000\",\"98000000\",\"0\",\"21000000\",\"250000000\",\"51200000\",\"0\",\"1000\",\"888000000\",\"100000000\",\"47011968\",\"2300000000\",\"10000000\",\"42000000\",\"80000000\",\"250000\",\"0\",\"1600000000\",\"100000000\",\"23000000\",\"0\",\"84000000\",\"265420800\",\"5500000\",\"0\",\"45000000\",\"0\",\"1000000000\",\"184467440735\",\"10000000000\",\"2158812800\",\"500000000\",\"105120000\",\"68000000\",\"0\",\"1680000000\",\"0\",\"166386000\",\"12000000\",\"2628000\",\"500000000\",\"160000000\",\"0\",\"10000000\",\"1000000000\",\"1000000000\",\"20000000\",\"0\",\"0\",\"3371337\",\"20000000\",\"10000000000\",\"1840000000\",\"619478\",\"21000000\",\"92000000000\",\"0\",\"78000000\",\"33000000\",\"65789100\",\"53760000\",\"5060000\",\"21000000\",\"0\",\"210240000\",\"250000000\",\"100000000\",\"16906397\",\"50000000\",\"0\",\"1000000000\",\"26298000\",\"16000000\",\"21000000\",\"21000000\",\"210000000\",\"81962100\",\"22000000\",\"26550000000\",\"84000000\",\"10500000\",\"21626280000 \",\"0\",\"42000000\",\"221052632\",\"84000000\",\"30000000\",\"168351300\",\"24000000\",\"384000000\",\" 99000000000\",\"40000000\",\"2147483647\",\"20000000\",\"20000000\",\"25000000\",\"75000000\",\"222725000\",\"525000000\",\"90000000\",\"139000000\",\"616448\",\"33500000\",\"2000000000\",\"44333333\",\"100000000\",\"200000000\",\"25000000\",\"657000000\",\"200000000\",\"50000000\",\"90000000\",\"10000000\",\"21000000\",\"9736000\",\"3000000\",\"21000000\",\"1200000000\",\"0\",\"200000000\",\"0\",\"10638298\",\"3100000000\",\"30000000\",\"20000000000\",\"74000000\",\"0\",\"1500000000\",\"21400000\",\"39999898\",\"2500124\",\"100000000\",\"301000000\",\"7506000000\",\"26205539\",\"21000000\",\"125000000\",\"30000000\",\"10000000000\",\"500000000\",\"850000000\",\"3853326.77707314\",\"50000000\",\"38540000 \",\"42000000\",\"228000000\",\"20000000\",\"60000000\",\"20000000\",\"33000000\",\"76500000\",\"28000000\",\"650659833\",\"5000000\",\"21000000\",\"144000000\",\"32514916898\",\"13000000\",\"3315789\",\"15000000\",\"78835200\",\"2714286\",\"25000000\",\"9999999\",\"500000000\",\"21000000\",\"9354000\",\"20000000\",\"100000000000\",\"21933333\",\"185000000\",\"55000000\",\"110000000\",\"3360000\",\"14524851.4827\",\"1000000000\",\"17000000\",\"1000000000\",\"100000000 \",\"21000000\",\"34426423\",\"2232901\",\"100000000\",\"36900000\",\"110000000\",\"4000000000\",\"110290030\",\"100000000\",\"48252000\",\"400000000\",\"500000000\",\"21212121\",\"28600000\",\"1000000000\",\"75000000000\",\"40000000\",\"35520400\",\"2000000000\",\"2500000000\",\"30000000\",\"105000000\",\"90000000000\",\"200084200\",\"72000000\",\"100000000\",\"105000000\",\"50000000000\",\"0\",\"340282367\",\"30000000\",\"2000000000\",\"10000000\",\"100000000\",\"120000000\",\"100000000\",\"19276800\",\"30000000\",\" 75000000\",\"60000000\",\"18900000\",\"50000000000\",\"54000000\",\"18898187.6216583\",\"21000000\",\"200000000000\",\"5000000000\",\"137500000\",\"1100000000\",\"100000000\",\"21000000\",\"9507271\",\"17405891.19707116\",\"86712634466\",\"10500000000\",\"61599965\",\"0\",\"20000000\",\"84000000\",\"100000000\",\"100000000\",\"48252000\",\"4200000\",\"88888888\",\"91388946\",\"45000000000\",\"27000000\",\"21000000000\",\"400000000\",\"1800000000\",\"15733333\",\"27000000\",\"24000000\",\"21000000\",\"25000000000\",\"100000000\",\"1200000000\",\"60000000\",\"156306732.71\",\"21000000\",\"200000000\",\"100000000\",\"21000000\",\"14788275.991\",\"9000000000\",\"350000000\",\"45000000\",\"280000000\",\"31800000\",\"144000000\",\"500000000\",\"30000000000\",\"210000000\",\"660000000\",\"210000000\",\"85000000000\",\"12500000\",\"10000000000\",\"27716121\",\"20000000\",\"550000000\",\"999481516\",\"50000000000\",\"150000000\",\"4999999999\",\"50000000\",\" 90000000000\",\"19800000\",\"21000000\",\"120000000\",\"500000000\",\"64000000\",\"900000000\",\"4000000\",\"21000000\",\"23000000\",\"20166000\",\"23000000\",\"25000000\",\"1618033\",\"30000000\",\"1000000000000\",\"16600000\",\"232000000\",\"336000000\",\"10000000000\",\"100000000\",\"1100000000\",\"800000000\",\"5200000000\",\"840000000\",\"40000000\",\"18406979840\",\"500000000\",\"19340594\",\"252460800\",\"25000000\",\"60000000\",\"124000000\",\"1000000000\",\"6500000000\",\"1000000000\",\"21000000\",\"25000000\",\"50000000\",\"3000000\",\"5000000\",\"70000000\",\"500000000\",\"300000000\",\"21000000\",\"88000000\",\"30000000\",\"100000000\",\"100000000\",\"200000000\",\"80000000\",\"18400000\",\"45000000\",\"5121951220\",\"21000000\",\"26280000\",\"21000000\",\"18000000\",\"26000000\",\"10500000\",\"600000518\",\"150000000\",\"184000000000\",\"10200000000\",\"44000000\",\"168000000\",\"100000000\",\"1000000000\",\"84000000\",\"90000000\",\"92000000000\",\"650000000 \",\"100262205\",\"18081806 \",\"22075700\",\"21000000\",\"21000000\",\"82546564\",\"21000000\",\"5151000\",\"16880000000\",\"52500000\",\"100000000\",\"22105263\",\"1000000000\",\"1750000000\",\"88188888\",\"210000000\",\"184470000000\",\"55000000\",\"50000000\",\"260000000\",\"210000000\",\"2100000000\",\"366000000\",\"100000000\",\"25000000\",\"18000000000\",\"1000000000\",\"100000000\",\"1000000000\",\"7600000000\",\"50000000\",\"84000000\",\"21000000\",\"70000000000\",\"0\",\"8080000000\",\"54000000\",\"105120001.44\",\"25228800\",\"105000000\",\"21000000\",\"120000000\",\"21000000\",\"262800000\",\"19035999\",\"30886000\",\"13370000\",\"74800000000\",\"100000000\",\"19700000\",\"84000000\",\"500000000\",\"5000000000\",\"420000000\",\"64000000\",\"2100000\",\"168000000\",\"30000000\",\"1000000000\",\"35000000000\",\"98100000000\",\"0\",\"4000000000\",\"200000000\",\"7000000000\",\"54256119\",\"21000000\",\"0\",\"500000000\",\"1000000000\",\"10500000000\",\"190000000\",\"1000000000\",\"42000000\",\"15000000\",\"50000000000\",\"400000000\",\"105000000\",\"208000000\",\"160000000\",\"9000000\",\"5000000\",\"182000000\",\"16504333\",\"105000000\",\"159918400\",\"10008835635\",\"300000000\",\"60168145\",\"5000000000\",\"2800000\",\"120000\",\"2100000000\",\"0\",\"24487944\",\"0\",\"1000000000\",\"100000000\",\"8634140\",\"990000000000\",\"1000000000\",\"2000000000\",\"250000000\",\"1400222610\",\"21000000\",\"1000000\"],\"TotalCoinsMined\":{\"__ndarray__\":\"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\",\"dtype\":\"float64\",\"order\":\"little\",\"shape\":[533]},\"class\":{\"__ndarray__\":\"AQAAAAEAAAABAAAAAAAAAAAAAAAAAAAAAQAAAAAAAAAAAAAAAAAAAAEAAAAAAAAAAQAAAAEAAAAAAAAAAQAAAAAAAAAAAAAAAQAAAAEAAAAAAAAAAAAAAAAAAAAAAAAAAAAAAAEAAAAAAAAAAAAAAAAAAAABAAAAAAAAAAEAAAAAAAAAAAAAAAEAAAABAAAAAAAAAAAAAAAAAAAAAAAAAAAAAAAAAAAAAQAAAAEAAAAAAAAAAAAAAAAAAAAAAAAAAAAAAAEAAAABAAAAAAAAAAEAAAAAAAAAAAAAAAAAAAAAAAAAAQAAAAAAAAAAAAAAAQAAAAAAAAABAAAAAQAAAAEAAAAAAAAAAAAAAAAAAAABAAAAAQAAAAEAAAABAAAAAQAAAAAAAAAAAAAAAAAAAAEAAAABAAAAAAAAAAEAAAAAAAAAAQAAAAEAAAAAAAAAAAAAAAAAAAAAAAAAAQAAAAEAAAAAAAAAAQAAAAAAAAAAAAAAAQAAAAEAAAAAAAAAAQAAAAEAAAAAAAAAAAAAAAEAAAABAAAAAAAAAAEAAAABAAAAAAAAAAEAAAAAAAAAAQAAAAAAAAABAAAAAAAAAAEAAAABAAAAAAAAAAAAAAABAAAAAAAAAAAAAAAAAAAAAQAAAAAAAAAAAAAAAAAAAAAAAAAAAAAAAQAAAAEAAAAAAAAAAAAAAAAAAAABAAAAAAAAAAEAAAAAAAAAAAAAAAEAAAAAAAAAAQAAAAAAAAABAAAAAQAAAAAAAAAAAAAAAQAAAAAAAAAAAAAAAQAAAAEAAAAAAAAAAQAAAAAAAAABAAAAAQAAAAEAAAAAAAAAAAAAAAAAAAAAAAAAAQAAAAEAAAABAAAAAQAAAAEAAAAAAAAAAAAAAAEAAAABAAAAAQAAAAEAAAABAAAAAAAAAAEAAAABAAAAAQAAAAEAAAABAAAAAAAAAAEAAAAAAAAAAQAAAAEAAAAAAAAAAQAAAAAAAAABAAAAAQAAAAAAAAABAAAAAAAAAAEAAAAAAAAAAQAAAAAAAAABAAAAAQAAAAEAAAABAAAAAAAAAAEAAAABAAAAAQAAAAEAAAABAAAAAAAAAAAAAAABAAAAAQAAAAAAAAAAAAAAAQAAAAEAAAABAAAAAQAAAAEAAAAAAAAAAQAAAAEAAAABAAAAAQAAAAEAAAABAAAAAQAAAAEAAAAAAAAAAQAAAAEAAAABAAAAAQAAAAEAAAABAAAAAAAAAAAAAAAAAAAAAQAAAAEAAAABAAAAAQAAAAAAAAABAAAAAAAAAAEAAAABAAAAAAAAAAEAAAAAAAAAAAAAAAEAAAAAAAAAAAAAAAEAAAAAAAAAAQAAAAEAAAABAAAAAAAAAAEAAAABAAAAAAAAAAEAAAABAAAAAQAAAAEAAAABAAAAAQAAAAEAAAAAAAAAAQAAAAAAAAABAAAAAQAAAAEAAAABAAAAAAAAAAEAAAAAAAAAAQAAAAAAAAAAAAAAAAAAAAAAAAABAAAAAAAAAAEAAAABAAAAAAAAAAEAAAAAAAAAAAAAAAAAAAABAAAAAAAAAAEAAAAAAAAAAAAAAAAAAAABAAAAAAAAAAEAAAAAAAAAAQAAAAEAAAADAAAAAAAAAAEAAAAAAAAAAAAAAAAAAAAAAAAAAAAAAAEAAAABAAAAAAAAAAEAAAABAAAAAQAAAAAAAAABAAAAAAAAAAEAAAAAAAAAAQAAAAAAAAABAAAAAQAAAAEAAAABAAAAAAAAAAEAAAABAAAAAAAAAAEAAAABAAAAAQAAAAAAAAAAAAAAAAAAAAAAAAABAAAAAQAAAAEAAAABAAAAAAAAAAEAAAAAAAAAAAAAAAAAAAABAAAAAQAAAAAAAAAAAAAAAQAAAAEAAAAAAAAAAQAAAAAAAAAAAAAAAAAAAAEAAAAAAAAAAAAAAAEAAAABAAAAAQAAAAAAAAAAAAAAAAAAAAEAAAABAAAAAQAAAAAAAAAAAAAAAQAAAAAAAAAAAAAAAAAAAAAAAAABAAAAAwAAAAMAAAAAAAAAAAAAAAAAAAABAAAAAwAAAAEAAAABAAAAAQAAAAEAAAAAAAAAAAAAAAAAAAAAAAAAAQAAAAEAAAABAAAAAAAAAAEAAAAAAAAAAQAAAAEAAAABAAAAAQAAAAAAAAABAAAAAQAAAAAAAAABAAAAAQAAAAAAAAAAAAAAAQAAAAAAAAABAAAAAAAAAAAAAAAAAAAAAAAAAAEAAAABAAAAAAAAAAEAAAAAAAAAAQAAAAEAAAABAAAAAQAAAAEAAAABAAAAAAAAAAAAAAAAAAAAAQAAAAEAAAABAAAAAQAAAAEAAAABAAAAAAAAAAEAAAAAAAAAAAAAAAAAAAAAAAAAAQAAAAEAAAABAAAAAQAAAAAAAAABAAAAAQAAAAAAAAABAAAAAQAAAAAAAAADAAAAAAAAAAEAAAAAAAAAAAAAAAEAAAABAAAAAAAAAAEAAAAAAAAAAAAAAAAAAAAAAAAAAAAAAAEAAAAAAAAAAQAAAAAAAAABAAAAAQAAAAAAAAABAAAAAQAAAAEAAAABAAAAAQAAAAAAAAAAAAAAAAAAAAEAAAABAAAAAQAAAAAAAAABAAAAAAAAAAEAAAAAAAAAAQAAAAEAAAABAAAAAQAAAAAAAAABAAAAAQAAAAEAAAAAAAAAAQAAAAAAAAABAAAAAAAAAAEAAAABAAAAAQAAAAAAAAAAAAAAAQAAAAEAAAABAAAAAQAAAAEAAAABAAAAAwAAAAAAAAABAAAAAAAAAAEAAAAAAAAAAQAAAAEAAAADAAAAAQAAAAIAAAABAAAAAQAAAAEAAAAAAAAAAAAAAAEAAAA=\",\"dtype\":\"int32\",\"order\":\"little\",\"shape\":[533]}},\"selected\":{\"id\":\"2647\"},\"selection_policy\":{\"id\":\"2681\"}},\"id\":\"2646\",\"type\":\"ColumnDataSource\"},{\"attributes\":{},\"id\":\"2648\",\"type\":\"StringFormatter\"}],\"root_ids\":[\"2644\"]},\"title\":\"Bokeh Application\",\"version\":\"2.2.1\"}};\n  var render_items = [{\"docid\":\"6914f8aa-6f68-4367-a385-8f1885c68504\",\"root_ids\":[\"2644\"],\"roots\":{\"2644\":\"78aae045-c2b3-48ea-a22e-c1fce14b9dc5\"}}];\n  root.Bokeh.embed.embed_items_notebook(docs_json, render_items);\n  }\nif (root.Bokeh !== undefined) {\n    embed_document(root);\n  } else {\n    var attempts = 0;\n    var timer = setInterval(function(root) {\n      if (root.Bokeh !== undefined) {\n        clearInterval(timer);\n        embed_document(root);\n      } else if (document.readyState == \"complete\") {\n        attempts++;\n        if (attempts > 100) {\n          clearInterval(timer);\n          console.log(\"Bokeh: ERROR: Unable to run BokehJS code because BokehJS library is missing\");\n        }\n      }\n    }, 10, root)\n  }\n})(window);</script>",
      "application/vnd.holoviews_exec.v0+json": "",
      "text/plain": ":Table   [CoinName,Algorithm,ProofType,TotalCoinSupply,TotalCoinsMined,class]"
     },
     "metadata": {
      "application/vnd.holoviews_exec.v0+json": {
       "id": "2644"
      }
     },
     "execution_count": 32
    }
   ],
   "source": [
    "# Current Tradable Table\n",
    "clustered_df.hvplot.table(columns=['CoinName', 'Algorithm', 'ProofType', 'TotalCoinSupply', 'TotalCoinsMined', 'class'])"
   ]
  },
  {
   "cell_type": "code",
   "execution_count": 30,
   "metadata": {},
   "outputs": [
    {
     "output_type": "display_data",
     "data": {},
     "metadata": {}
    },
    {
     "output_type": "execute_result",
     "data": {
      "text/html": "<div id='2339'>\n\n\n\n\n\n  <div class=\"bk-root\" id=\"2fb9c09d-8dc0-411b-abf4-c3671e56843f\" data-root-id=\"2339\"></div>\n</div>\n<script type=\"application/javascript\">(function(root) {\n  function embed_document(root) {\n  var docs_json = {\"24503c82-873d-45a7-8839-a29dd0cbe3a7\":{\"roots\":{\"references\":[{\"attributes\":{\"click_policy\":\"mute\",\"items\":[{\"id\":\"2399\"},{\"id\":\"2417\"},{\"id\":\"2437\"},{\"id\":\"2459\"}],\"location\":[0,0],\"title\":\"class\"},\"id\":\"2398\",\"type\":\"Legend\"},{\"attributes\":{\"bottom_units\":\"screen\",\"fill_alpha\":0.5,\"fill_color\":\"lightgrey\",\"left_units\":\"screen\",\"level\":\"overlay\",\"line_alpha\":1.0,\"line_color\":\"black\",\"line_dash\":[4,4],\"line_width\":2,\"right_units\":\"screen\",\"top_units\":\"screen\"},\"id\":\"2368\",\"type\":\"BoxAnnotation\"},{\"attributes\":{},\"id\":\"2384\",\"type\":\"Selection\"},{\"attributes\":{\"end\":1032670428767.6898,\"reset_end\":1032670428767.6898,\"reset_start\":-48599692876.008446,\"start\":-48599692876.008446,\"tags\":[[[\"TotalCoinsMined\",\"TotalCoinsMined\",null]]]},\"id\":\"2341\",\"type\":\"Range1d\"},{\"attributes\":{\"fill_alpha\":{\"value\":0.2},\"fill_color\":{\"value\":\"#1f77b3\"},\"line_alpha\":{\"value\":0.2},\"line_color\":{\"value\":\"#1f77b3\"},\"size\":{\"units\":\"screen\",\"value\":5.477225575051661},\"x\":{\"field\":\"TotalCoinsMined\"},\"y\":{\"field\":\"TotalCoinSupply\"}},\"id\":\"2388\",\"type\":\"Scatter\"},{\"attributes\":{\"label\":{\"value\":\"2\"},\"renderers\":[{\"id\":\"2424\"}]},\"id\":\"2437\",\"type\":\"LegendItem\"},{\"attributes\":{\"source\":{\"id\":\"2400\"}},\"id\":\"2407\",\"type\":\"CDSView\"},{\"attributes\":{\"fill_alpha\":{\"value\":0.2},\"fill_color\":{\"value\":\"#2ba02b\"},\"line_alpha\":{\"value\":0.2},\"line_color\":{\"value\":\"#2ba02b\"},\"size\":{\"units\":\"screen\",\"value\":5.477225575051661},\"x\":{\"field\":\"TotalCoinsMined\"},\"y\":{\"field\":\"TotalCoinSupply\"}},\"id\":\"2423\",\"type\":\"Scatter\"},{\"attributes\":{\"data_source\":{\"id\":\"2383\"},\"glyph\":{\"id\":\"2386\"},\"hover_glyph\":null,\"muted_glyph\":{\"id\":\"2388\"},\"nonselection_glyph\":{\"id\":\"2387\"},\"selection_glyph\":null,\"view\":{\"id\":\"2390\"}},\"id\":\"2389\",\"type\":\"GlyphRenderer\"},{\"attributes\":{\"fill_color\":{\"value\":\"#d62628\"},\"line_color\":{\"value\":\"#d62628\"},\"size\":{\"units\":\"screen\",\"value\":5.477225575051661},\"x\":{\"field\":\"TotalCoinsMined\"},\"y\":{\"field\":\"TotalCoinSupply\"}},\"id\":\"2441\",\"type\":\"Scatter\"},{\"attributes\":{\"children\":[{\"id\":\"2340\"},{\"id\":\"2347\"},{\"id\":\"2577\"}],\"margin\":[0,0,0,0],\"name\":\"Row05021\",\"tags\":[\"embedded\"]},\"id\":\"2339\",\"type\":\"Row\"},{\"attributes\":{},\"id\":\"2439\",\"type\":\"Selection\"},{\"attributes\":{\"fill_alpha\":{\"value\":0.2},\"fill_color\":{\"value\":\"#ff7e0e\"},\"line_alpha\":{\"value\":0.2},\"line_color\":{\"value\":\"#ff7e0e\"},\"size\":{\"units\":\"screen\",\"value\":5.477225575051661},\"x\":{\"field\":\"TotalCoinsMined\"},\"y\":{\"field\":\"TotalCoinSupply\"}},\"id\":\"2405\",\"type\":\"Scatter\"},{\"attributes\":{\"margin\":[5,5,5,5],\"name\":\"HSpacer05025\",\"sizing_mode\":\"stretch_width\"},\"id\":\"2340\",\"type\":\"Spacer\"},{\"attributes\":{\"fill_alpha\":{\"value\":0.1},\"fill_color\":{\"value\":\"#1f77b3\"},\"line_alpha\":{\"value\":0.1},\"line_color\":{\"value\":\"#1f77b3\"},\"size\":{\"units\":\"screen\",\"value\":5.477225575051661},\"x\":{\"field\":\"TotalCoinsMined\"},\"y\":{\"field\":\"TotalCoinSupply\"}},\"id\":\"2387\",\"type\":\"Scatter\"},{\"attributes\":{},\"id\":\"2401\",\"type\":\"Selection\"},{\"attributes\":{},\"id\":\"2458\",\"type\":\"UnionRenderers\"},{\"attributes\":{},\"id\":\"2352\",\"type\":\"LinearScale\"},{\"attributes\":{\"source\":{\"id\":\"2383\"}},\"id\":\"2390\",\"type\":\"CDSView\"},{\"attributes\":{\"active_drag\":\"auto\",\"active_inspect\":\"auto\",\"active_multi\":null,\"active_scroll\":\"auto\",\"active_tap\":\"auto\",\"tools\":[{\"id\":\"2343\"},{\"id\":\"2363\"},{\"id\":\"2364\"},{\"id\":\"2365\"},{\"id\":\"2366\"},{\"id\":\"2367\"}]},\"id\":\"2369\",\"type\":\"Toolbar\"},{\"attributes\":{\"label\":{\"value\":\"0\"},\"renderers\":[{\"id\":\"2389\"}]},\"id\":\"2399\",\"type\":\"LegendItem\"},{\"attributes\":{\"data\":{\"CoinName\":[\"BitTorrent\"],\"TotalCoinSupply\":[\"990000000000\"],\"TotalCoinsMined\":{\"__ndarray__\":\"xfR7nv3PbEI=\",\"dtype\":\"float64\",\"order\":\"little\",\"shape\":[1]},\"class\":[2]},\"selected\":{\"id\":\"2419\"},\"selection_policy\":{\"id\":\"2436\"}},\"id\":\"2418\",\"type\":\"ColumnDataSource\"},{\"attributes\":{\"axis_label\":\"TotalCoinSupply\",\"bounds\":\"auto\",\"formatter\":{\"id\":\"2380\"},\"major_label_orientation\":\"horizontal\",\"ticker\":{\"id\":\"2376\"}},\"id\":\"2360\",\"type\":\"CategoricalAxis\"},{\"attributes\":{\"desired_num_ticks\":7},\"id\":\"2376\",\"type\":\"BasicTicker\"},{\"attributes\":{\"data_source\":{\"id\":\"2418\"},\"glyph\":{\"id\":\"2421\"},\"hover_glyph\":null,\"muted_glyph\":{\"id\":\"2423\"},\"nonselection_glyph\":{\"id\":\"2422\"},\"selection_glyph\":null,\"view\":{\"id\":\"2425\"}},\"id\":\"2424\",\"type\":\"GlyphRenderer\"},{\"attributes\":{},\"id\":\"2419\",\"type\":\"Selection\"},{\"attributes\":{\"fill_color\":{\"value\":\"#1f77b3\"},\"line_color\":{\"value\":\"#1f77b3\"},\"size\":{\"units\":\"screen\",\"value\":5.477225575051661},\"x\":{\"field\":\"TotalCoinsMined\"},\"y\":{\"field\":\"TotalCoinSupply\"}},\"id\":\"2386\",\"type\":\"Scatter\"},{\"attributes\":{},\"id\":\"2367\",\"type\":\"ResetTool\"},{\"attributes\":{},\"id\":\"2357\",\"type\":\"BasicTicker\"},{\"attributes\":{},\"id\":\"2378\",\"type\":\"BasicTickFormatter\"},{\"attributes\":{},\"id\":\"2363\",\"type\":\"SaveTool\"},{\"attributes\":{\"callback\":null,\"renderers\":[{\"id\":\"2389\"},{\"id\":\"2406\"},{\"id\":\"2424\"},{\"id\":\"2444\"}],\"tags\":[\"hv_created\"],\"tooltips\":[[\"class\",\"@{class}\"],[\"TotalCoinsMined\",\"@{TotalCoinsMined}\"],[\"TotalCoinSupply\",\"@{TotalCoinSupply}\"],[\"CoinName\",\"@{CoinName}\"]]},\"id\":\"2343\",\"type\":\"HoverTool\"},{\"attributes\":{\"align\":null,\"below\":[{\"id\":\"2356\"}],\"center\":[{\"id\":\"2359\"},{\"id\":\"2362\"}],\"left\":[{\"id\":\"2360\"}],\"margin\":null,\"min_border_bottom\":10,\"min_border_left\":10,\"min_border_right\":10,\"min_border_top\":10,\"plot_height\":300,\"plot_width\":700,\"renderers\":[{\"id\":\"2389\"},{\"id\":\"2406\"},{\"id\":\"2424\"},{\"id\":\"2444\"}],\"right\":[{\"id\":\"2398\"}],\"sizing_mode\":\"fixed\",\"title\":{\"id\":\"2348\"},\"toolbar\":{\"id\":\"2369\"},\"x_range\":{\"id\":\"2341\"},\"x_scale\":{\"id\":\"2352\"},\"y_range\":{\"id\":\"2342\"},\"y_scale\":{\"id\":\"2354\"}},\"id\":\"2347\",\"subtype\":\"Figure\",\"type\":\"Plot\"},{\"attributes\":{\"factors\":[\"21000000\",\"0\",\"84000000\",\"210000000\",\"21000000000\",\"20000000\",\"64000000\",\"2000000000\",\"384000000000\",\"169795588\",\"250000000\",\"100000000\",\"247000000\",\"48166000\",\"21000000 \",\"13140000\",\"18000000\",\"16555000000\",\"13500000000\",\"299792458\",\"32000000\",\"11235813\",\"336000000\",\"1420609614\",\"70000000\",\"72245700\",\"90600000000\",\"265420800\",\"1350000\",\"42000000\",\"200000000\",\"10000000\",\"15000000000\",\"337000000\",\"51200000\",\"888000000\",\"47011968\",\"80000000\",\"250000\",\"23000000\",\"45000000\",\"184467440735\",\"10000000000\",\"105120000\",\"1680000000\",\"166386000\",\"2628000\",\"160000000\",\"1000000000\",\"3371337\",\"1840000000\",\"619478\",\"92000000000\",\"33000000\",\"65789100\",\"53760000\",\"210240000\",\"16906397\",\"16000000\",\"81962100\",\"21626280000 \",\"30000000\",\"168351300\",\"24000000\",\"25000000\",\"616448\",\"9736000\",\"1200000000\",\"10638298\",\"21400000\",\"26205539\",\"500000000\",\"228000000\",\"2714286\",\"9999999\",\"100000000000\",\"185000000\",\"3360000\",\"17000000\",\"100000000 \",\"2232901\",\"4000000000\",\"48252000\",\"35520400\",\"2500000000\",\"72000000\",\"105000000\",\"340282367\",\"19276800\",\" 75000000\",\"60000000\",\"18900000\",\"54000000\",\"200000000000\",\"5000000000\",\"1100000000\",\"10500000000\",\"88888888\",\"1800000000\",\"27000000\",\"156306732.71\",\"350000000\",\"280000000\",\"31800000\",\"660000000\",\"85000000000\",\"12500000\",\"550000000\",\"999481516\",\"4999999999\",\" 90000000000\",\"19800000\",\"20166000\",\"1000000000000\",\"16600000\",\"40000000\",\"18406979840\",\"6500000000\",\"300000000\",\"18400000\",\"26280000\",\"10500000\",\"600000518\",\"150000000\",\"184000000000\",\"168000000\",\"22075700\",\"22105263\",\"1750000000\",\"88188888\",\"184470000000\",\"2100000000\",\"7600000000\",\"8080000000\",\"105120001.44\",\"25228800\",\"120000000\",\"262800000\",\"30886000\",\"2100000\",\"98100000000\",\"7000000000\",\"50000000000\",\"5000000\",\"182000000\",\"2800000\",\"24487944\",\"1400222610\",\"42\",\"532000000\",\"314159265359\",\"22000000\",\"3600570502\",\"16768584\",\"500000\",\"1000000\",\"40000000000\",\"4380000\",\"2419200000\",\"16180000\",\"3770000\",\"420000000\",\"98000000\",\"1000\",\"2300000000\",\"1600000000\",\"5500000\",\"2158812800\",\"68000000\",\"12000000\",\"78000000\",\"5060000\",\"50000000\",\"26298000\",\"26550000000\",\"221052632\",\"384000000\",\" 99000000000\",\"2147483647\",\"75000000\",\"222725000\",\"525000000\",\"90000000\",\"139000000\",\"33500000\",\"44333333\",\"657000000\",\"3000000\",\"3100000000\",\"20000000000\",\"74000000\",\"1500000000\",\"39999898\",\"2500124\",\"301000000\",\"7506000000\",\"125000000\",\"850000000\",\"3853326.77707314\",\"38540000 \",\"76500000\",\"28000000\",\"650659833\",\"144000000\",\"32514916898\",\"13000000\",\"3315789\",\"15000000\",\"78835200\",\"9354000\",\"21933333\",\"55000000\",\"110000000\",\"14524851.4827\",\"34426423\",\"36900000\",\"110290030\",\"400000000\",\"21212121\",\"28600000\",\"75000000000\",\"90000000000\",\"200084200\",\"18898187.6216583\",\"137500000\",\"9507271\",\"17405891.19707116\",\"61599965\",\"4200000\",\"91388946\",\"45000000000\",\"15733333\",\"25000000000\",\"14788275.991\",\"9000000000\",\"30000000000\",\"27716121\",\"900000000\",\"4000000\",\"1618033\",\"232000000\",\"800000000\",\"19340594\",\"124000000\",\"88000000\",\"5121951220\",\"26000000\",\"10200000000\",\"44000000\",\"650000000 \",\"100262205\",\"18081806 \",\"82546564\",\"5151000\",\"16880000000\",\"52500000\",\"260000000\",\"366000000\",\"18000000000\",\"70000000000\",\"19035999\",\"13370000\",\"74800000000\",\"19700000\",\"35000000000\",\"54256119\",\"190000000\",\"208000000\",\"9000000\",\"16504333\",\"159918400\",\"10008835635\",\"60168145\",\"120000\",\"8634140\",\"990000000000\",\"86712634466\",\"5200000000\",\"840000000\",\"252460800\"],\"tags\":[[[\"TotalCoinSupply\",\"TotalCoinSupply\",null]]]},\"id\":\"2342\",\"type\":\"FactorRange\"},{\"attributes\":{\"fill_alpha\":{\"value\":0.1},\"fill_color\":{\"value\":\"#d62628\"},\"line_alpha\":{\"value\":0.1},\"line_color\":{\"value\":\"#d62628\"},\"size\":{\"units\":\"screen\",\"value\":5.477225575051661},\"x\":{\"field\":\"TotalCoinsMined\"},\"y\":{\"field\":\"TotalCoinSupply\"}},\"id\":\"2442\",\"type\":\"Scatter\"},{\"attributes\":{\"label\":{\"value\":\"1\"},\"renderers\":[{\"id\":\"2406\"}]},\"id\":\"2417\",\"type\":\"LegendItem\"},{\"attributes\":{\"overlay\":{\"id\":\"2368\"}},\"id\":\"2366\",\"type\":\"BoxZoomTool\"},{\"attributes\":{\"source\":{\"id\":\"2418\"}},\"id\":\"2425\",\"type\":\"CDSView\"},{\"attributes\":{},\"id\":\"2364\",\"type\":\"PanTool\"},{\"attributes\":{\"source\":{\"id\":\"2438\"}},\"id\":\"2445\",\"type\":\"CDSView\"},{\"attributes\":{\"text\":\"\",\"text_color\":{\"value\":\"black\"},\"text_font_size\":{\"value\":\"12pt\"}},\"id\":\"2348\",\"type\":\"Title\"},{\"attributes\":{\"data\":{\"CoinName\":[\"Bitcoin\",\"Ethereum\",\"Litecoin\",\"Monero\",\"Ethereum Classic\",\"ZCash\",\"DigiByte\",\"ProsperCoin\",\"Spreadcoin\",\"Argentum\",\"MyriadCoin\",\"MoonCoin\",\"ZetaCoin\",\"SexCoin\",\"Quatloo\",\"QuarkCoin\",\"Riecoin\",\"Digitalcoin \",\"Catcoin\",\"CannaCoin\",\"CryptCoin\",\"Verge\",\"DevCoin\",\"EarthCoin\",\"E-Gulden\",\"Einsteinium\",\"Emerald\",\"Franko\",\"FeatherCoin\",\"GrandCoin\",\"GlobalCoin\",\"GoldCoin\",\"Infinite Coin\",\"IXcoin\",\"KrugerCoin\",\"LuckyCoin\",\"Litebar \",\"MegaCoin\",\"MediterraneanCoin\",\"MinCoin\",\"NobleCoin\",\"Namecoin\",\"NyanCoin\",\"RonPaulCoin\",\"StableCoin\",\"SmartCoin\",\"SysCoin\",\"TigerCoin\",\"TerraCoin\",\"UnbreakableCoin\",\"Unobtanium\",\"UroCoin\",\"ViaCoin\",\"Vertcoin\",\"WorldCoin\",\"JouleCoin\",\"ByteCoin\",\"DigitalNote \",\"MonaCoin\",\"Gulden\",\"PesetaCoin\",\"Wild Beast Coin\",\"Flo\",\"ArtByte\",\"Folding Coin\",\"Unitus\",\"CypherPunkCoin\",\"OmniCron\",\"GreenCoin\",\"Cryptonite\",\"MasterCoin\",\"SoonCoin\",\"1Credit\",\"MarsCoin \",\"Crypto\",\"Anarchists Prime\",\"BowsCoin\",\"Song Coin\",\"BitZeny\",\"Expanse\",\"Siacoin\",\"MindCoin\",\"I0coin\",\"Revolution VR\",\"HOdlcoin\",\"Gamecredits\",\"CarpeDiemCoin\",\"Adzcoin\",\"SoilCoin\",\"YoCoin\",\"SibCoin\",\"Francs\",\"BolivarCoin\",\"Omni\",\"PizzaCoin\",\"Komodo\",\"Karbo\",\"ZayedCoin\",\"Circuits of Value\",\"DopeCoin\",\"DollarCoin\",\"Shilling\",\"ZCoin\",\"Elementrem\",\"ZClassic\",\"KiloCoin\",\"ArtexCoin\",\"Kurrent\",\"Cannabis Industry Coin\",\"OsmiumCoin\",\"Bikercoins\",\"HexxCoin\",\"PacCoin\",\"Citadel\",\"BeaverCoin\",\"VaultCoin\",\"Zero\",\"Canada eCoin\",\"Zoin\",\"DubaiCoin\",\"EB3coin\",\"Coinonat\",\"BenjiRolls\",\"ILCoin\",\"EquiTrader\",\"Quantum Resistant Ledger\",\"Dynamic\",\"Nano\",\"ChanCoin\",\"Dinastycoin\",\"DigitalPrice\",\"Unify\",\"SocialCoin\",\"ArcticCoin\",\"DAS\",\"LeviarCoin\",\"Bitcore\",\"gCn Coin\",\"SmartCash\",\"Onix\",\"Bitcoin Cash\",\"Sojourn Coin\",\"NewYorkCoin\",\"FrazCoin\",\"Kronecoin\",\"AdCoin\",\"Linx\",\"Sumokoin\",\"BitcoinZ\",\"Elements\",\"VIVO Coin\",\"Bitcoin Gold\",\"Pirl\",\"eBoost\",\"Pura\",\"Innova\",\"Ellaism\",\"GoByte\",\"SHIELD\",\"UltraNote\",\"BitCoal\",\"DaxxCoin\",\"AC3\",\"Lethean\",\"PopularCoin\",\"Photon\",\"Sucre\",\"SparksPay\",\"GunCoin\",\"IrishCoin\",\"Pioneer Coin\",\"UnitedBitcoin\",\"Interzone\",\"TurtleCoin\",\"MUNcoin\",\"Niobio Cash\",\"ShareChain\",\"Travelflex\",\"KREDS\",\"BitFlip\",\"LottoCoin\",\"Crypto Improvement Fund\",\"Callisto Network\",\"BitTube\",\"Poseidon\",\"Aidos Kuneen\",\"Bitrolium\",\"Alpenschillling\",\"FuturoCoin\",\"Monero Classic\",\"Jumpcoin\",\"Infinex\",\"KEYCO\",\"GINcoin\",\"PlatinCoin\",\"Loki\",\"Newton Coin\",\"MassGrid\",\"PluraCoin\",\"Motion\",\"PlusOneCoin\",\"Axe\",\"HexCoin\",\"Webchain\",\"Ryo\",\"Urals Coin\",\"Qwertycoin\",\"Project Pai\",\"Azart\",\"Xchange\",\"CrypticCoin\",\"Actinium\",\"Bitcoin SV\",\"FREDEnergy\",\"Universal Molecule\",\"Lithium\",\"PirateCash\",\"Exosis\",\"Block-Logic\",\"Beam\",\"Bithereum\",\"SLICE\",\"BLAST\",\"Bitcoin Rhodium\",\"GlobalToken\",\"SolarCoin\",\"UFO Coin\",\"BlakeCoin\",\"Crypto Escudo\",\"Crown Coin\",\"SmileyCoin\",\"Groestlcoin\",\"Bata\",\"Pakcoin\",\"JoinCoin\",\"Vollar\",\"Reality Clash\",\"Beldex\",\"Horizen\"],\"TotalCoinSupply\":[\"21000000\",\"0\",\"84000000\",\"0\",\"210000000\",\"21000000\",\"21000000000\",\"21000000\",\"20000000\",\"64000000\",\"2000000000\",\"384000000000\",\"169795588\",\"250000000\",\"100000000\",\"247000000\",\"84000000\",\"48166000\",\"21000000 \",\"13140000\",\"18000000\",\"16555000000\",\"21000000000\",\"13500000000\",\"21000000 \",\"299792458\",\"32000000\",\"11235813\",\"336000000\",\"1420609614\",\"70000000\",\"72245700\",\"90600000000\",\"21000000\",\"265420800\",\"20000000\",\"1350000\",\"42000000\",\"200000000\",\"10000000\",\"15000000000\",\"21000000\",\"337000000\",\"21000000\",\"250000000\",\"51200000\",\"888000000\",\"47011968\",\"42000000\",\"80000000\",\"250000\",\"0\",\"23000000\",\"84000000\",\"265420800\",\"45000000\",\"184467440735\",\"10000000000\",\"105120000\",\"1680000000\",\"166386000\",\"2628000\",\"160000000\",\"1000000000\",\"1000000000\",\"0\",\"0\",\"3371337\",\"10000000000\",\"1840000000\",\"619478\",\"21000000\",\"92000000000\",\"33000000\",\"65789100\",\"53760000\",\"21000000\",\"210240000\",\"250000000\",\"16906397\",\"0\",\"16000000\",\"21000000\",\"210000000\",\"81962100\",\"84000000\",\"21626280000 \",\"84000000\",\"30000000\",\"168351300\",\"24000000\",\"20000000\",\"25000000\",\"616448\",\"25000000\",\"200000000\",\"10000000\",\"9736000\",\"1200000000\",\"200000000\",\"10638298\",\"30000000\",\"21400000\",\"26205539\",\"21000000\",\"10000000000\",\"500000000\",\"228000000\",\"21000000\",\"2714286\",\"25000000\",\"9999999\",\"100000000000\",\"185000000\",\"3360000\",\"1000000000\",\"17000000\",\"100000000 \",\"21000000\",\"2232901\",\"4000000000\",\"48252000\",\"35520400\",\"2500000000\",\"72000000\",\"105000000\",\"0\",\"340282367\",\"30000000\",\"2000000000\",\"100000000\",\"19276800\",\" 75000000\",\"60000000\",\"18900000\",\"54000000\",\"21000000\",\"200000000000\",\"5000000000\",\"1100000000\",\"21000000\",\"10500000000\",\"0\",\"20000000\",\"84000000\",\"100000000\",\"100000000\",\"88888888\",\"21000000000\",\"1800000000\",\"27000000\",\"21000000\",\"156306732.71\",\"100000000\",\"350000000\",\"45000000\",\"280000000\",\"31800000\",\"660000000\",\"85000000000\",\"12500000\",\"10000000000\",\"550000000\",\"999481516\",\"4999999999\",\" 90000000000\",\"19800000\",\"21000000\",\"500000000\",\"64000000\",\"23000000\",\"20166000\",\"23000000\",\"1000000000000\",\"16600000\",\"336000000\",\"10000000000\",\"100000000\",\"1100000000\",\"40000000\",\"18406979840\",\"500000000\",\"6500000000\",\"1000000000\",\"21000000\",\"25000000\",\"70000000\",\"300000000\",\"100000000\",\"18400000\",\"21000000\",\"26280000\",\"18000000\",\"10500000\",\"600000518\",\"150000000\",\"184000000000\",\"168000000\",\"1000000000\",\"22075700\",\"21000000\",\"21000000\",\"22105263\",\"1750000000\",\"88188888\",\"210000000\",\"184470000000\",\"2100000000\",\"25000000\",\"100000000\",\"7600000000\",\"84000000\",\"21000000\",\"8080000000\",\"105120001.44\",\"25228800\",\"105000000\",\"21000000\",\"120000000\",\"262800000\",\"30886000\",\"100000000\",\"64000000\",\"2100000\",\"168000000\",\"98100000000\",\"4000000000\",\"7000000000\",\"1000000000\",\"42000000\",\"50000000000\",\"105000000\",\"5000000\",\"182000000\",\"2800000\",\"2100000000\",\"24487944\",\"1400222610\",\"21000000\"],\"TotalCoinsMined\":{\"__ndarray__\":\"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\",\"dtype\":\"float64\",\"order\":\"little\",\"shape\":[239]},\"class\":[0,0,0,0,0,0,0,0,0,0,0,0,0,0,0,0,0,0,0,0,0,0,0,0,0,0,0,0,0,0,0,0,0,0,0,0,0,0,0,0,0,0,0,0,0,0,0,0,0,0,0,0,0,0,0,0,0,0,0,0,0,0,0,0,0,0,0,0,0,0,0,0,0,0,0,0,0,0,0,0,0,0,0,0,0,0,0,0,0,0,0,0,0,0,0,0,0,0,0,0,0,0,0,0,0,0,0,0,0,0,0,0,0,0,0,0,0,0,0,0,0,0,0,0,0,0,0,0,0,0,0,0,0,0,0,0,0,0,0,0,0,0,0,0,0,0,0,0,0,0,0,0,0,0,0,0,0,0,0,0,0,0,0,0,0,0,0,0,0,0,0,0,0,0,0,0,0,0,0,0,0,0,0,0,0,0,0,0,0,0,0,0,0,0,0,0,0,0,0,0,0,0,0,0,0,0,0,0,0,0,0,0,0,0,0,0,0,0,0,0,0,0,0,0,0,0,0,0,0,0,0,0,0,0,0,0,0,0,0]},\"selected\":{\"id\":\"2384\"},\"selection_policy\":{\"id\":\"2397\"}},\"id\":\"2383\",\"type\":\"ColumnDataSource\"},{\"attributes\":{},\"id\":\"2365\",\"type\":\"WheelZoomTool\"},{\"attributes\":{\"data_source\":{\"id\":\"2438\"},\"glyph\":{\"id\":\"2441\"},\"hover_glyph\":null,\"muted_glyph\":{\"id\":\"2443\"},\"nonselection_glyph\":{\"id\":\"2442\"},\"selection_glyph\":null,\"view\":{\"id\":\"2445\"}},\"id\":\"2444\",\"type\":\"GlyphRenderer\"},{\"attributes\":{\"margin\":[5,5,5,5],\"name\":\"HSpacer05026\",\"sizing_mode\":\"stretch_width\"},\"id\":\"2577\",\"type\":\"Spacer\"},{\"attributes\":{},\"id\":\"2380\",\"type\":\"CategoricalTickFormatter\"},{\"attributes\":{\"axis_label\":\"TotalCoinsMined\",\"bounds\":\"auto\",\"formatter\":{\"id\":\"2378\"},\"major_label_orientation\":\"horizontal\",\"ticker\":{\"id\":\"2357\"}},\"id\":\"2356\",\"type\":\"LinearAxis\"},{\"attributes\":{\"fill_alpha\":{\"value\":0.2},\"fill_color\":{\"value\":\"#d62628\"},\"line_alpha\":{\"value\":0.2},\"line_color\":{\"value\":\"#d62628\"},\"size\":{\"units\":\"screen\",\"value\":5.477225575051661},\"x\":{\"field\":\"TotalCoinsMined\"},\"y\":{\"field\":\"TotalCoinSupply\"}},\"id\":\"2443\",\"type\":\"Scatter\"},{\"attributes\":{\"data\":{\"CoinName\":[\"Vechain\",\"BiblePay\",\"LitecoinCash\",\"Poa Network\",\"Acute Angle Cloud\",\"Fiii\",\"Waves\"],\"TotalCoinSupply\":[\"86712634466\",\"5200000000\",\"840000000\",\"252460800\",\"1000000000\",\"5000000000\",\"100000000\"],\"TotalCoinsMined\":{\"__ndarray__\":\"AACgM7jSKULx13gn/mfaQZawGn54BsNBAAAAfjRgqEEAAAAAZc3NQdJ7v7zSC/bBAAAAAITXl0E=\",\"dtype\":\"float64\",\"order\":\"little\",\"shape\":[7]},\"class\":[3,3,3,3,3,3,3]},\"selected\":{\"id\":\"2439\"},\"selection_policy\":{\"id\":\"2458\"}},\"id\":\"2438\",\"type\":\"ColumnDataSource\"},{\"attributes\":{},\"id\":\"2436\",\"type\":\"UnionRenderers\"},{\"attributes\":{\"fill_alpha\":{\"value\":0.1},\"fill_color\":{\"value\":\"#ff7e0e\"},\"line_alpha\":{\"value\":0.1},\"line_color\":{\"value\":\"#ff7e0e\"},\"size\":{\"units\":\"screen\",\"value\":5.477225575051661},\"x\":{\"field\":\"TotalCoinsMined\"},\"y\":{\"field\":\"TotalCoinSupply\"}},\"id\":\"2404\",\"type\":\"Scatter\"},{\"attributes\":{\"data_source\":{\"id\":\"2400\"},\"glyph\":{\"id\":\"2403\"},\"hover_glyph\":null,\"muted_glyph\":{\"id\":\"2405\"},\"nonselection_glyph\":{\"id\":\"2404\"},\"selection_glyph\":null,\"view\":{\"id\":\"2407\"}},\"id\":\"2406\",\"type\":\"GlyphRenderer\"},{\"attributes\":{},\"id\":\"2397\",\"type\":\"UnionRenderers\"},{\"attributes\":{\"fill_color\":{\"value\":\"#ff7e0e\"},\"line_color\":{\"value\":\"#ff7e0e\"},\"size\":{\"units\":\"screen\",\"value\":5.477225575051661},\"x\":{\"field\":\"TotalCoinsMined\"},\"y\":{\"field\":\"TotalCoinSupply\"}},\"id\":\"2403\",\"type\":\"Scatter\"},{\"attributes\":{\"data\":{\"CoinName\":[\"42 Coin\",\"404Coin\",\"EliteCoin\",\"Dash\",\"Bitshares\",\"BitcoinDark\",\"PayCoin\",\"KoboCoin\",\"Aurora Coin\",\"BlueCoin\",\"EnergyCoin\",\"BitBar\",\"CryptoBullion\",\"CasinoCoin\",\"Diamond\",\"Exclusive Coin\",\"FlutterCoin\",\"HoboNickels\",\"HyperStake\",\"IOCoin\",\"MaxCoin\",\"MintCoin\",\"MazaCoin\",\"Nautilus Coin\",\"NavCoin\",\"OpalCoin\",\"Orbitcoin\",\"PotCoin\",\"PhoenixCoin\",\"Reddcoin\",\"SuperCoin\",\"SyncCoin\",\"TeslaCoin\",\"TittieCoin\",\"TorCoin\",\"UnitaryStatus Dollar\",\"UltraCoin\",\"VeriCoin\",\"X11 Coin\",\"Crypti\",\"StealthCoin\",\"ZCC Coin\",\"BurstCoin\",\"StorjCoin\",\"Neutron\",\"FairCoin\",\"RubyCoin\",\"Kore\",\"Dnotes\",\"8BIT Coin\",\"Sativa Coin\",\"Ucoin\",\"Vtorrent\",\"IslaCoin\",\"Nexus\",\"Droidz\",\"Squall Coin\",\"Diggits\",\"Paycon\",\"Emercoin\",\"EverGreenCoin\",\"Decred\",\"EDRCoin\",\"Hitcoin\",\"DubaiCoin\",\"PWR Coin\",\"BillaryCoin\",\"GPU Coin\",\"EuropeCoin\",\"ZeitCoin\",\"SwingCoin\",\"SafeExchangeCoin\",\"Nebuchadnezzar\",\"Ratecoin\",\"Revenu\",\"Clockcoin\",\"VIP Tokens\",\"BitSend\",\"Let it Ride\",\"PutinCoin\",\"iBankCoin\",\"Frankywillcoin\",\"MudraCoin\",\"Lutetium Coin\",\"GoldBlocks\",\"CarterCoin\",\"BitTokens\",\"MustangCoin\",\"ZoneCoin\",\"RootCoin\",\"BitCurrency\",\"Swiscoin\",\"BuzzCoin\",\"Opair\",\"PesoBit\",\"Halloween Coin\",\"CoffeeCoin\",\"RoyalCoin\",\"GanjaCoin V2\",\"TeamUP\",\"LanaCoin\",\"ARK\",\"InsaneCoin\",\"EmberCoin\",\"XenixCoin\",\"FreeCoin\",\"PLNCoin\",\"AquariusCoin\",\"Creatio\",\"Eternity\",\"Eurocoin\",\"BitcoinFast\",\"Stakenet\",\"BitConnect Coin\",\"MoneyCoin\",\"Enigma\",\"Russiacoin\",\"PandaCoin\",\"GameUnits\",\"GAKHcoin\",\"Allsafe\",\"LiteCreed\",\"Klingon Empire Darsek\",\"Internet of People\",\"KushCoin\",\"Printerium\",\"Impeach\",\"Zilbercoin\",\"FirstCoin\",\"FindCoin\",\"OpenChat\",\"RenosCoin\",\"VirtacoinPlus\",\"TajCoin\",\"Impact\",\"Atmos\",\"HappyCoin\",\"MacronCoin\",\"Condensate\",\"Independent Money System\",\"ArgusCoin\",\"LomoCoin\",\"ProCurrency\",\"GoldReserve\",\"GrowthCoin\",\"Phreak\",\"Degas Coin\",\"HTML5 Coin\",\"Ultimate Secure Cash\",\"QTUM\",\"Espers\",\"Denarius\",\"Virta Unique Coin\",\"Bitcoin Planet\",\"BritCoin\",\"Linda\",\"DeepOnion\",\"Signatum\",\"Cream\",\"Monoeci\",\"Draftcoin\",\"Stakecoin\",\"CoinonatX\",\"Ethereum Dark\",\"Obsidian\",\"Cardano\",\"Regalcoin\",\"TrezarCoin\",\"TerraNovaCoin\",\"Rupee\",\"WomenCoin\",\"Theresa May Coin\",\"NamoCoin\",\"LUXCoin\",\"Xios\",\"Bitcloud 2.0\",\"KekCoin\",\"BlackholeCoin\",\"Infinity Economics\",\"Magnet\",\"Lamden Tau\",\"Electra\",\"Bitcoin Diamond\",\"Cash & Back Coin\",\"Bulwark\",\"Kalkulus\",\"GermanCoin\",\"LiteCoin Ultra\",\"PhantomX\",\"Digiwage\",\"Trollcoin\",\"Litecoin Plus\",\"Monkey Project\",\"TokenPay\",\"1717 Masonic Commemorative Token\",\"My Big Coin\",\"Unified Society USDEX\",\"Tokyo Coin\",\"Stipend\",\"Pushi\",\"Ellerium\",\"Velox\",\"Ontology\",\"Bitspace\",\"Briacoin\",\"Ignition\",\"MedicCoin\",\"Bitcoin Green\",\"Deviant Coin\",\"Abjcoin\",\"Semux\",\"Carebit\",\"Zealium\",\"Proton\",\"iDealCash\",\"Bitcoin Incognito\",\"HollyWoodCoin\",\"Swisscoin\",\"Xt3ch\",\"TheVig\",\"EmaratCoin\",\"Dekado\",\"Lynx\",\"Poseidon Quark\",\"BitcoinWSpectrum\",\"Muse\",\"Trivechain\",\"Dystem\",\"Giant\",\"Peony Coin\",\"Absolute Coin\",\"Vitae\",\"TPCash\",\"ARENON\",\"EUNO\",\"MMOCoin\",\"Ketan\",\"XDNA\",\"PAXEX\",\"ThunderStake\",\"Kcash\",\"Bettex coin\",\"BitMoney\",\"Junson Ming Chan Coin\",\"HerbCoin\",\"Oduwa\",\"Galilel\",\"Crypto Sports\",\"Credit\",\"Dash Platinum\",\"Nasdacoin\",\"Beetle Coin\",\"Titan Coin\",\"Award\",\"Insane Coin\",\"ALAX\",\"LiteDoge\",\"TruckCoin\",\"OrangeCoin\",\"BitstarCoin\",\"NeosCoin\",\"HyperCoin\",\"PinkCoin\",\"AudioCoin\",\"IncaKoin\",\"Piggy Coin\",\"Genstake\",\"XiaoMiCoin\",\"CapriCoin\",\" ClubCoin\",\"Radium\",\"Creditbit \",\"OKCash\",\"Lisk\",\"HiCoin\",\"WhiteCoin\",\"FriendshipCoin\",\"Triangles Coin\",\"EOS\",\"Oxycoin\",\"TigerCash\",\"Particl\",\"Nxt\",\"ZEPHYR\",\"Gapcoin\",\"BitcoinPlus\"],\"TotalCoinSupply\":[\"42\",\"532000000\",\"314159265359\",\"22000000\",\"3600570502\",\"22000000\",\"12500000\",\"350000000\",\"16768584\",\"0\",\"0\",\"500000\",\"1000000\",\"40000000000\",\"4380000\",\"0\",\"0\",\"120000000\",\"0\",\"22000000\",\"100000000\",\"0\",\"2419200000\",\"16180000\",\"0\",\"0\",\"3770000\",\"420000000\",\"98000000\",\"0\",\"0\",\"1000\",\"100000000\",\"2300000000\",\"10000000\",\"1600000000\",\"100000000\",\"0\",\"5500000\",\"0\",\"0\",\"1000000000\",\"2158812800\",\"500000000\",\"68000000\",\"0\",\"0\",\"12000000\",\"500000000\",\"0\",\"10000000\",\"20000000\",\"20000000\",\"0\",\"78000000\",\"5060000\",\"0\",\"100000000\",\"50000000\",\"1000000000\",\"26298000\",\"21000000\",\"22000000\",\"26550000000\",\"10500000\",\"0\",\"42000000\",\"221052632\",\"384000000\",\" 99000000000\",\"40000000\",\"2147483647\",\"20000000\",\"75000000\",\"222725000\",\"525000000\",\"90000000\",\"139000000\",\"33500000\",\"2000000000\",\"44333333\",\"100000000\",\"200000000\",\"657000000\",\"50000000\",\"90000000\",\"21000000\",\"3000000\",\"21000000\",\"0\",\"0\",\"3100000000\",\"20000000000\",\"74000000\",\"0\",\"1500000000\",\"39999898\",\"2500124\",\"100000000\",\"301000000\",\"7506000000\",\"125000000\",\"30000000\",\"850000000\",\"3853326.77707314\",\"50000000\",\"38540000 \",\"42000000\",\"20000000\",\"60000000\",\"20000000\",\"33000000\",\"76500000\",\"28000000\",\"650659833\",\"5000000\",\"144000000\",\"32514916898\",\"13000000\",\"3315789\",\"15000000\",\"78835200\",\"500000000\",\"21000000\",\"9354000\",\"20000000\",\"21933333\",\"55000000\",\"110000000\",\"14524851.4827\",\"1000000000\",\"34426423\",\"100000000\",\"36900000\",\"110000000\",\"110290030\",\"100000000\",\"400000000\",\"500000000\",\"21212121\",\"28600000\",\"1000000000\",\"75000000000\",\"40000000\",\"2000000000\",\"30000000\",\"105000000\",\"90000000000\",\"200084200\",\"100000000\",\"50000000000\",\"10000000\",\"120000000\",\"100000000\",\"30000000\",\"50000000000\",\"18898187.6216583\",\"137500000\",\"100000000\",\"9507271\",\"17405891.19707116\",\"61599965\",\"48252000\",\"4200000\",\"91388946\",\"45000000000\",\"27000000\",\"400000000\",\"15733333\",\"24000000\",\"25000000000\",\"100000000\",\"1200000000\",\"60000000\",\"21000000\",\"200000000\",\"21000000\",\"14788275.991\",\"9000000000\",\"144000000\",\"500000000\",\"30000000000\",\"210000000\",\"210000000\",\"27716121\",\"20000000\",\"50000000000\",\"150000000\",\"50000000\",\"120000000\",\"900000000\",\"4000000\",\"21000000\",\"25000000\",\"1618033\",\"30000000\",\"232000000\",\"800000000\",\"19340594\",\"25000000\",\"60000000\",\"124000000\",\"1000000000\",\"50000000\",\"3000000\",\"5000000\",\"500000000\",\"21000000\",\"88000000\",\"30000000\",\"100000000\",\"200000000\",\"80000000\",\"45000000\",\"5121951220\",\"21000000\",\"26000000\",\"10200000000\",\"44000000\",\"100000000\",\"84000000\",\"90000000\",\"92000000000\",\"650000000 \",\"100262205\",\"18081806 \",\"82546564\",\"21000000\",\"5151000\",\"16880000000\",\"52500000\",\"100000000\",\"1000000000\",\"55000000\",\"50000000\",\"260000000\",\"210000000\",\"366000000\",\"100000000\",\"18000000000\",\"1000000000\",\"50000000\",\"70000000000\",\"0\",\"54000000\",\"21000000\",\"19035999\",\"13370000\",\"74800000000\",\"19700000\",\"84000000\",\"500000000\",\"5000000000\",\"420000000\",\"30000000\",\"1000000000\",\"35000000000\",\"0\",\"200000000\",\"54256119\",\"21000000\",\"0\",\"500000000\",\"10500000000\",\"190000000\",\"1000000000\",\"15000000\",\"400000000\",\"208000000\",\"160000000\",\"9000000\",\"16504333\",\"105000000\",\"159918400\",\"10008835635\",\"300000000\",\"60168145\",\"120000\",\"0\",\"0\",\"1000000000\",\"8634140\",\"1000000000\",\"2000000000\",\"250000000\",\"1000000\"],\"TotalCoinsMined\":{\"__ndarray__\":\"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\",\"dtype\":\"float64\",\"order\":\"little\",\"shape\":[286]},\"class\":[1,1,1,1,1,1,1,1,1,1,1,1,1,1,1,1,1,1,1,1,1,1,1,1,1,1,1,1,1,1,1,1,1,1,1,1,1,1,1,1,1,1,1,1,1,1,1,1,1,1,1,1,1,1,1,1,1,1,1,1,1,1,1,1,1,1,1,1,1,1,1,1,1,1,1,1,1,1,1,1,1,1,1,1,1,1,1,1,1,1,1,1,1,1,1,1,1,1,1,1,1,1,1,1,1,1,1,1,1,1,1,1,1,1,1,1,1,1,1,1,1,1,1,1,1,1,1,1,1,1,1,1,1,1,1,1,1,1,1,1,1,1,1,1,1,1,1,1,1,1,1,1,1,1,1,1,1,1,1,1,1,1,1,1,1,1,1,1,1,1,1,1,1,1,1,1,1,1,1,1,1,1,1,1,1,1,1,1,1,1,1,1,1,1,1,1,1,1,1,1,1,1,1,1,1,1,1,1,1,1,1,1,1,1,1,1,1,1,1,1,1,1,1,1,1,1,1,1,1,1,1,1,1,1,1,1,1,1,1,1,1,1,1,1,1,1,1,1,1,1,1,1,1,1,1,1,1,1,1,1,1,1,1,1,1,1,1,1,1,1,1,1,1,1,1,1,1,1,1,1,1,1,1,1,1,1]},\"selected\":{\"id\":\"2401\"},\"selection_policy\":{\"id\":\"2416\"}},\"id\":\"2400\",\"type\":\"ColumnDataSource\"},{\"attributes\":{\"axis\":{\"id\":\"2360\"},\"dimension\":1,\"grid_line_color\":null,\"ticker\":null},\"id\":\"2362\",\"type\":\"Grid\"},{\"attributes\":{\"fill_color\":{\"value\":\"#2ba02b\"},\"line_color\":{\"value\":\"#2ba02b\"},\"size\":{\"units\":\"screen\",\"value\":5.477225575051661},\"x\":{\"field\":\"TotalCoinsMined\"},\"y\":{\"field\":\"TotalCoinSupply\"}},\"id\":\"2421\",\"type\":\"Scatter\"},{\"attributes\":{},\"id\":\"2416\",\"type\":\"UnionRenderers\"},{\"attributes\":{\"fill_alpha\":{\"value\":0.1},\"fill_color\":{\"value\":\"#2ba02b\"},\"line_alpha\":{\"value\":0.1},\"line_color\":{\"value\":\"#2ba02b\"},\"size\":{\"units\":\"screen\",\"value\":5.477225575051661},\"x\":{\"field\":\"TotalCoinsMined\"},\"y\":{\"field\":\"TotalCoinSupply\"}},\"id\":\"2422\",\"type\":\"Scatter\"},{\"attributes\":{},\"id\":\"2354\",\"type\":\"CategoricalScale\"},{\"attributes\":{\"axis\":{\"id\":\"2356\"},\"grid_line_color\":null,\"ticker\":null},\"id\":\"2359\",\"type\":\"Grid\"},{\"attributes\":{\"label\":{\"value\":\"3\"},\"renderers\":[{\"id\":\"2444\"}]},\"id\":\"2459\",\"type\":\"LegendItem\"}],\"root_ids\":[\"2339\"]},\"title\":\"Bokeh Application\",\"version\":\"2.2.1\"}};\n  var render_items = [{\"docid\":\"24503c82-873d-45a7-8839-a29dd0cbe3a7\",\"root_ids\":[\"2339\"],\"roots\":{\"2339\":\"2fb9c09d-8dc0-411b-abf4-c3671e56843f\"}}];\n  root.Bokeh.embed.embed_items_notebook(docs_json, render_items);\n  }\nif (root.Bokeh !== undefined) {\n    embed_document(root);\n  } else {\n    var attempts = 0;\n    var timer = setInterval(function(root) {\n      if (root.Bokeh !== undefined) {\n        clearInterval(timer);\n        embed_document(root);\n      } else if (document.readyState == \"complete\") {\n        attempts++;\n        if (attempts > 100) {\n          clearInterval(timer);\n          console.log(\"Bokeh: ERROR: Unable to run BokehJS code because BokehJS library is missing\");\n        }\n      }\n    }, 10, root)\n  }\n})(window);</script>",
      "application/vnd.holoviews_exec.v0+json": "",
      "text/plain": ":NdOverlay   [class]\n   :Scatter   [TotalCoinsMined]   (TotalCoinSupply,CoinName)"
     },
     "metadata": {
      "application/vnd.holoviews_exec.v0+json": {
       "id": "2339"
      }
     },
     "execution_count": 30
    }
   ],
   "source": [
    "# Scatter Plot\n",
    "clustered_df.hvplot.scatter(\n",
    "    x=\"TotalCoinsMined\",\n",
    "    y=\"TotalCoinSupply\",\n",
    "    hover_cols=[\"CoinName\"],\n",
    "    by=\"class\",\n",
    "    yticks=7\n",
    ")"
   ]
  }
 ]
}